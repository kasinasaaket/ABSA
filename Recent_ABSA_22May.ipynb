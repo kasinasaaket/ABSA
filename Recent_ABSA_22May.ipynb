{
 "cells": [
  {
   "cell_type": "code",
   "execution_count": 1,
   "id": "f2755cb4",
   "metadata": {},
   "outputs": [
    {
     "data": {
      "text/plain": [
       "(<module 'tensorflow' from 'c:\\\\Users\\\\hp\\\\Desktop\\\\Python\\\\Python310\\\\lib\\\\site-packages\\\\tensorflow\\\\__init__.py'>,\n",
       " [PhysicalDevice(name='/physical_device:GPU:0', device_type='GPU')],\n",
       " <module 'numpy' from 'c:\\\\Users\\\\hp\\\\Desktop\\\\Python\\\\Python310\\\\lib\\\\site-packages\\\\numpy\\\\__init__.py'>)"
      ]
     },
     "execution_count": 1,
     "metadata": {},
     "output_type": "execute_result"
    }
   ],
   "source": [
    "import pandas as pd  # type: ignore\n",
    "import torch  # type: ignore\n",
    "import numpy as np# type: ignore\n",
    "import sqlite3# type: ignore\n",
    "import matplotlib.pyplot as plt# type: ignore\n",
    "import seaborn as sns# type: ignore\n",
    "import re# type: ignore\n",
    "import nltk# type: ignore\n",
    "from nltk.corpus import stopwords  # type: ignore\n",
    "import tensorflow as tf     # type: ignore\n",
    "from nltk.stem import WordNetLemmatizer  # type: ignore\n",
    "from nltk.stem.porter import PorterStemmer # type: ignore\n",
    "from sklearn.feature_extraction.text import CountVectorizer   # type: ignore\n",
    "pd.set_option('display.max_columns', None)\n",
    "pd.set_option('display.max_rows', None)\n",
    "import warnings\n",
    "import sqlite3\n",
    "import pandas as pd  # type: ignore\n",
    "tf, tf.config.list_physical_devices(\"GPU\"), np"
   ]
  },
  {
   "cell_type": "code",
   "execution_count": 2,
   "id": "f5c0f858",
   "metadata": {},
   "outputs": [
    {
     "data": {
      "text/html": [
       "<div>\n",
       "<style scoped>\n",
       "    .dataframe tbody tr th:only-of-type {\n",
       "        vertical-align: middle;\n",
       "    }\n",
       "\n",
       "    .dataframe tbody tr th {\n",
       "        vertical-align: top;\n",
       "    }\n",
       "\n",
       "    .dataframe thead th {\n",
       "        text-align: right;\n",
       "    }\n",
       "</style>\n",
       "<table border=\"1\" class=\"dataframe\">\n",
       "  <thead>\n",
       "    <tr style=\"text-align: right;\">\n",
       "      <th></th>\n",
       "      <th>id</th>\n",
       "      <th>name</th>\n",
       "      <th>email</th>\n",
       "      <th>aspect</th>\n",
       "      <th>comments</th>\n",
       "      <th>rating</th>\n",
       "      <th>Unnamed: 6</th>\n",
       "    </tr>\n",
       "  </thead>\n",
       "  <tbody>\n",
       "    <tr>\n",
       "      <th>0</th>\n",
       "      <td>1</td>\n",
       "      <td>Yenugu Poojitha</td>\n",
       "      <td>yenugupoojithareddy3107@gmail.com</td>\n",
       "      <td>service</td>\n",
       "      <td>The tourist place had provided good services</td>\n",
       "      <td>4</td>\n",
       "      <td>NaN</td>\n",
       "    </tr>\n",
       "    <tr>\n",
       "      <th>1</th>\n",
       "      <td>2</td>\n",
       "      <td>chitra</td>\n",
       "      <td>chitra123@gmail.com</td>\n",
       "      <td>food</td>\n",
       "      <td>The food given in the restaurant was delicious...</td>\n",
       "      <td>5</td>\n",
       "      <td>NaN</td>\n",
       "    </tr>\n",
       "    <tr>\n",
       "      <th>2</th>\n",
       "      <td>3</td>\n",
       "      <td>saaket</td>\n",
       "      <td>saaket123@gmail.com</td>\n",
       "      <td>ambience</td>\n",
       "      <td>The relaxed ambience of Thrissur was popular w...</td>\n",
       "      <td>3</td>\n",
       "      <td>NaN</td>\n",
       "    </tr>\n",
       "    <tr>\n",
       "      <th>3</th>\n",
       "      <td>4</td>\n",
       "      <td>sravani</td>\n",
       "      <td>sravani18@gmail.com</td>\n",
       "      <td>food</td>\n",
       "      <td>The historical prestige and the hotel ambience...</td>\n",
       "      <td>4</td>\n",
       "      <td>NaN</td>\n",
       "    </tr>\n",
       "    <tr>\n",
       "      <th>4</th>\n",
       "      <td>5</td>\n",
       "      <td>rishikesh</td>\n",
       "      <td>rishikesh31@gmail.com</td>\n",
       "      <td>service</td>\n",
       "      <td>Hotel services were good</td>\n",
       "      <td>3</td>\n",
       "      <td>NaN</td>\n",
       "    </tr>\n",
       "    <tr>\n",
       "      <th>5</th>\n",
       "      <td>6</td>\n",
       "      <td>vinay</td>\n",
       "      <td>vinay14@gmail.com</td>\n",
       "      <td>hospitality</td>\n",
       "      <td>I became ill, so I was admitted in a hospital ...</td>\n",
       "      <td>3</td>\n",
       "      <td></td>\n",
       "    </tr>\n",
       "  </tbody>\n",
       "</table>\n",
       "</div>"
      ],
      "text/plain": [
       "   id             name                              email       aspect  \\\n",
       "0   1  Yenugu Poojitha  yenugupoojithareddy3107@gmail.com      service   \n",
       "1   2           chitra                chitra123@gmail.com         food   \n",
       "2   3           saaket                saaket123@gmail.com     ambience   \n",
       "3   4          sravani                sravani18@gmail.com         food   \n",
       "4   5        rishikesh              rishikesh31@gmail.com      service   \n",
       "5   6            vinay                  vinay14@gmail.com  hospitality   \n",
       "\n",
       "                                            comments  rating Unnamed: 6  \n",
       "0       The tourist place had provided good services       4        NaN  \n",
       "1  The food given in the restaurant was delicious...       5        NaN  \n",
       "2  The relaxed ambience of Thrissur was popular w...       3        NaN  \n",
       "3  The historical prestige and the hotel ambience...       4        NaN  \n",
       "4                           Hotel services were good       3        NaN  \n",
       "5  I became ill, so I was admitted in a hospital ...       3             "
      ]
     },
     "execution_count": 2,
     "metadata": {},
     "output_type": "execute_result"
    }
   ],
   "source": [
    "df  = pd.read_csv('RRABSA.csv')\n",
    "df"
   ]
  },
  {
   "cell_type": "code",
   "execution_count": 3,
   "id": "a4207122",
   "metadata": {},
   "outputs": [
    {
     "name": "stdout",
     "output_type": "stream",
     "text": [
      "( 1 ) The tourist place had provided good services\n",
      "( 2 ) The food given in the restaurant was delicious. I found it enjoyable!\n",
      "( 3 ) The relaxed ambience of Thrissur was popular with temples.\n",
      "( 4 ) The historical prestige and the hotel ambience was good and the service was on point. Good trip!\n",
      "( 5 ) Hotel services were good\n",
      "( 6 ) I became ill, so I was admitted in a hospital for 3 days.\n"
     ]
    }
   ],
   "source": [
    "k = 1\n",
    "for i in df['comments']:\n",
    "    print('(',k,')',i,end='\\n')\n",
    "    k = k+1"
   ]
  },
  {
   "cell_type": "code",
   "execution_count": 4,
   "id": "17aa9086",
   "metadata": {},
   "outputs": [
    {
     "data": {
      "text/html": [
       "<div>\n",
       "<style scoped>\n",
       "    .dataframe tbody tr th:only-of-type {\n",
       "        vertical-align: middle;\n",
       "    }\n",
       "\n",
       "    .dataframe tbody tr th {\n",
       "        vertical-align: top;\n",
       "    }\n",
       "\n",
       "    .dataframe thead th {\n",
       "        text-align: right;\n",
       "    }\n",
       "</style>\n",
       "<table border=\"1\" class=\"dataframe\">\n",
       "  <thead>\n",
       "    <tr style=\"text-align: right;\">\n",
       "      <th></th>\n",
       "      <th>id</th>\n",
       "      <th>name</th>\n",
       "      <th>email</th>\n",
       "      <th>aspect</th>\n",
       "      <th>comments</th>\n",
       "      <th>rating</th>\n",
       "      <th>Unnamed: 6</th>\n",
       "      <th>sentiment</th>\n",
       "    </tr>\n",
       "  </thead>\n",
       "  <tbody>\n",
       "    <tr>\n",
       "      <th>0</th>\n",
       "      <td>1</td>\n",
       "      <td>Yenugu Poojitha</td>\n",
       "      <td>yenugupoojithareddy3107@gmail.com</td>\n",
       "      <td>service</td>\n",
       "      <td>The tourist place had provided good services</td>\n",
       "      <td>4</td>\n",
       "      <td>NaN</td>\n",
       "      <td>Good</td>\n",
       "    </tr>\n",
       "    <tr>\n",
       "      <th>1</th>\n",
       "      <td>2</td>\n",
       "      <td>chitra</td>\n",
       "      <td>chitra123@gmail.com</td>\n",
       "      <td>food</td>\n",
       "      <td>The food given in the restaurant was delicious...</td>\n",
       "      <td>5</td>\n",
       "      <td>NaN</td>\n",
       "      <td>Excellent</td>\n",
       "    </tr>\n",
       "    <tr>\n",
       "      <th>2</th>\n",
       "      <td>3</td>\n",
       "      <td>saaket</td>\n",
       "      <td>saaket123@gmail.com</td>\n",
       "      <td>ambience</td>\n",
       "      <td>The relaxed ambience of Thrissur was popular w...</td>\n",
       "      <td>3</td>\n",
       "      <td>NaN</td>\n",
       "      <td>Good</td>\n",
       "    </tr>\n",
       "    <tr>\n",
       "      <th>3</th>\n",
       "      <td>4</td>\n",
       "      <td>sravani</td>\n",
       "      <td>sravani18@gmail.com</td>\n",
       "      <td>food</td>\n",
       "      <td>The historical prestige and the hotel ambience...</td>\n",
       "      <td>4</td>\n",
       "      <td>NaN</td>\n",
       "      <td>Excellent</td>\n",
       "    </tr>\n",
       "    <tr>\n",
       "      <th>4</th>\n",
       "      <td>5</td>\n",
       "      <td>rishikesh</td>\n",
       "      <td>rishikesh31@gmail.com</td>\n",
       "      <td>service</td>\n",
       "      <td>Hotel services were good</td>\n",
       "      <td>3</td>\n",
       "      <td>NaN</td>\n",
       "      <td>Very Good</td>\n",
       "    </tr>\n",
       "    <tr>\n",
       "      <th>5</th>\n",
       "      <td>6</td>\n",
       "      <td>vinay</td>\n",
       "      <td>vinay14@gmail.com</td>\n",
       "      <td>hospitality</td>\n",
       "      <td>I became ill, so I was admitted in a hospital ...</td>\n",
       "      <td>3</td>\n",
       "      <td></td>\n",
       "      <td>Bad</td>\n",
       "    </tr>\n",
       "  </tbody>\n",
       "</table>\n",
       "</div>"
      ],
      "text/plain": [
       "   id             name                              email       aspect  \\\n",
       "0   1  Yenugu Poojitha  yenugupoojithareddy3107@gmail.com      service   \n",
       "1   2           chitra                chitra123@gmail.com         food   \n",
       "2   3           saaket                saaket123@gmail.com     ambience   \n",
       "3   4          sravani                sravani18@gmail.com         food   \n",
       "4   5        rishikesh              rishikesh31@gmail.com      service   \n",
       "5   6            vinay                  vinay14@gmail.com  hospitality   \n",
       "\n",
       "                                            comments  rating Unnamed: 6  \\\n",
       "0       The tourist place had provided good services       4        NaN   \n",
       "1  The food given in the restaurant was delicious...       5        NaN   \n",
       "2  The relaxed ambience of Thrissur was popular w...       3        NaN   \n",
       "3  The historical prestige and the hotel ambience...       4        NaN   \n",
       "4                           Hotel services were good       3        NaN   \n",
       "5  I became ill, so I was admitted in a hospital ...       3              \n",
       "\n",
       "   sentiment  \n",
       "0       Good  \n",
       "1  Excellent  \n",
       "2       Good  \n",
       "3  Excellent  \n",
       "4  Very Good  \n",
       "5        Bad  "
      ]
     },
     "execution_count": 4,
     "metadata": {},
     "output_type": "execute_result"
    }
   ],
   "source": [
    "sentiment = ['Good','Excellent','Good','Excellent','Very Good','Bad']\n",
    "df['sentiment'] = sentiment\n",
    "df"
   ]
  },
  {
   "cell_type": "code",
   "execution_count": 6,
   "id": "a432e99e",
   "metadata": {},
   "outputs": [
    {
     "data": {
      "text/plain": [
       "<Figure size 2500x2000 with 0 Axes>"
      ]
     },
     "metadata": {},
     "output_type": "display_data"
    },
    {
     "data": {
      "image/png": "[encoded data removed]",
      "text/plain": [
       "<Figure size 2500x1000 with 2 Axes>"
      ]
     },
     "metadata": {},
     "output_type": "display_data"
    }
   ],
   "source": [
    "import missingno as msno # type: ignore\n",
    "plt.figure(figsize=(25, 20))\n",
    "msno.matrix(df, color=[0.2, 0.4, 1])\n",
    "plt.show()"
   ]
  },
  {
   "cell_type": "code",
   "execution_count": 7,
   "id": "af440a38",
   "metadata": {},
   "outputs": [
    {
     "data": {
      "text/plain": [
       "<module 'missingno' from 'c:\\\\Users\\\\hp\\\\Desktop\\\\Python\\\\Python310\\\\lib\\\\site-packages\\\\missingno\\\\__init__.py'>"
      ]
     },
     "execution_count": 7,
     "metadata": {},
     "output_type": "execute_result"
    }
   ],
   "source": [
    "msno"
   ]
  },
  {
   "cell_type": "code",
   "execution_count": 8,
   "id": "fccb73a8",
   "metadata": {},
   "outputs": [
    {
     "name": "stdout",
     "output_type": "stream",
     "text": [
      "Text before removing url:- \n",
      " ℍ𝕚 𝔼𝕧𝕖𝕣𝕪𝕠𝕟𝕖 𝕀 𝕒𝕞 𝔸𝕟𝕜𝕚𝕥 𝔾𝕦𝕡𝕥𝕒 𝕙𝕒𝕧𝕚𝕟𝕘 𝕥𝕙𝕖 𝕗𝕠𝕝𝕝𝕠𝕨𝕚𝕟𝕘 𝕂𝕒𝕘𝕘𝕝𝕖 𝕡𝕣𝕠𝕗𝕚𝕝𝕖 \n",
      " https://www.kaggle.com/nkitgupta 𝕒𝕟𝕕 𝕀 𝕒𝕞 😊 𝕥𝕠 𝕔𝕣𝕖𝕒𝕥𝕖 𝕥𝕙𝕚𝕤 𝕟𝕠𝕥𝕖𝕓𝕠𝕠𝕜\n",
      "Text after removing url:- \n",
      " ℍ𝕚 𝔼𝕧𝕖𝕣𝕪𝕠𝕟𝕖 𝕀 𝕒𝕞 𝔸𝕟𝕜𝕚𝕥 𝔾𝕦𝕡𝕥𝕒 𝕙𝕒𝕧𝕚𝕟𝕘 𝕥𝕙𝕖 𝕗𝕠𝕝𝕝𝕠𝕨𝕚𝕟𝕘 𝕂𝕒𝕘𝕘𝕝𝕖 𝕡𝕣𝕠𝕗𝕚𝕝𝕖 \n",
      "  𝕒𝕟𝕕 𝕀 𝕒𝕞 😊 𝕥𝕠 𝕔𝕣𝕖𝕒𝕥𝕖 𝕥𝕙𝕚𝕤 𝕟𝕠𝕥𝕖𝕓𝕠𝕠𝕜\n"
     ]
    }
   ],
   "source": [
    "import re\n",
    "def remove_url(text):\n",
    "    text = re.sub(r\"http\\S+\", \"\", text)\n",
    "    return text\n",
    "# Example string with weird font characters plus an URL which we gonna remove.\n",
    "sample = \"ℍ𝕚 𝔼𝕧𝕖𝕣𝕪𝕠𝕟𝕖 𝕀 𝕒𝕞 𝔸𝕟𝕜𝕚𝕥 𝔾𝕦𝕡𝕥𝕒 𝕙𝕒𝕧𝕚𝕟𝕘 𝕥𝕙𝕖 𝕗𝕠𝕝𝕝𝕠𝕨𝕚𝕟𝕘 𝕂𝕒𝕘𝕘𝕝𝕖 𝕡𝕣𝕠𝕗𝕚𝕝𝕖 \\n https://www.kaggle.com/nkitgupta 𝕒𝕟𝕕 𝕀 𝕒𝕞 😊 𝕥𝕠 𝕔𝕣𝕖𝕒𝕥𝕖 𝕥𝕙𝕚𝕤 𝕟𝕠𝕥𝕖𝕓𝕠𝕠𝕜\"\n",
    "print(f\"Text before removing url:- \\n {sample}\")\n",
    "\n",
    "sample = remove_url(sample)\n",
    "print(f\"Text after removing url:- \\n {sample}\")"
   ]
  },
  {
   "cell_type": "code",
   "execution_count": 9,
   "id": "e009f250",
   "metadata": {},
   "outputs": [
    {
     "name": "stdout",
     "output_type": "stream",
     "text": [
      "Ç Ç\n",
      "False\n",
      "False\n"
     ]
    }
   ],
   "source": [
    "print(\"\\u00C7\", \"\\u0043\\u0327\")\n",
    "print(\"\\u00C7\" == \"\\u0043\\u0327\")\n",
    "print(\"Ç\" == \"Ç\")"
   ]
  },
  {
   "cell_type": "code",
   "execution_count": 9,
   "id": "587ccf33",
   "metadata": {},
   "outputs": [
    {
     "name": "stdout",
     "output_type": "stream",
     "text": [
      "Text before Unicode Normalization:- \n",
      " ℍ𝕚 𝔼𝕧𝕖𝕣𝕪𝕠𝕟𝕖 𝕀 𝕒𝕞 𝔸𝕟𝕜𝕚𝕥 𝔾𝕦𝕡𝕥𝕒 𝕙𝕒𝕧𝕚𝕟𝕘 𝕥𝕙𝕖 𝕗𝕠𝕝𝕝𝕠𝕨𝕚𝕟𝕘 𝕂𝕒𝕘𝕘𝕝𝕖 𝕡𝕣𝕠𝕗𝕚𝕝𝕖 \n",
      "  𝕒𝕟𝕕 𝕀 𝕒𝕞 😊 𝕥𝕠 𝕔𝕣𝕖𝕒𝕥𝕖 𝕥𝕙𝕚𝕤 𝕟𝕠𝕥𝕖𝕓𝕠𝕠𝕜\n",
      "Text after Unicode Normalization:- \n",
      " Hi Everyone I am Ankit Gupta having the following Kaggle profile \n",
      "  and I am 😊 to create this notebook\n"
     ]
    }
   ],
   "source": [
    "import unicodedata as uni\n",
    "print(f\"Text before Unicode Normalization:- \\n {sample}\")\n",
    "sample = uni.normalize('NFKD', sample)\n",
    "print(f\"Text after Unicode Normalization:- \\n {sample}\")"
   ]
  },
  {
   "cell_type": "code",
   "execution_count": 12,
   "id": "00ec8887",
   "metadata": {},
   "outputs": [
    {
     "name": "stdout",
     "output_type": "stream",
     "text": [
      "Before Handling emoji:- \n",
      " Hi Everyone I am Ankit Gupta having the following Kaggle profile \n",
      "  and I am 😊 to create this notebook\n",
      "After Handling emoji:- \n",
      " Hi Everyone I am Ankit Gupta having the following Kaggle profile \n",
      "  and I am  smiling face with smiling eyes to create this notebook\n"
     ]
    }
   ],
   "source": [
    "import demoji # type: ignore\n",
    "def handle_emoji(string):\n",
    "    emojis = demoji.findall(string)\n",
    "    for emoji in emojis:\n",
    "        string = string.replace(emoji, \" \" + emojis[emoji].split(\":\")[0])\n",
    "    return string\n",
    "print(f\"Before Handling emoji:- \\n {sample}\")\n",
    "print(f\"After Handling emoji:- \\n {handle_emoji(sample)}\")"
   ]
  },
  {
   "cell_type": "code",
   "execution_count": 13,
   "id": "cb14ff5d",
   "metadata": {},
   "outputs": [
    {
     "name": "stdout",
     "output_type": "stream",
     "text": [
      "Hi Everyone I am Ankit Gupta.\n",
      "['hi', 'everyone', 'i', 'am', 'ankit', 'gupta.']\n"
     ]
    }
   ],
   "source": [
    "def word_tokenizer(text):\n",
    "    text = text.lower()\n",
    "    text = text.split()\n",
    "    return text\n",
    "sample = \"Hi Everyone I am Ankit Gupta.\"\n",
    "print(sample)\n",
    "print(word_tokenizer(sample))"
   ]
  },
  {
   "cell_type": "code",
   "execution_count": 6,
   "id": "81eecb67",
   "metadata": {},
   "outputs": [
    {
     "name": "stderr",
     "output_type": "stream",
     "text": [
      "[nltk_data] Downloading package stopwords to\n",
      "[nltk_data]     C:\\Users\\hp\\AppData\\Roaming\\nltk_data...\n",
      "[nltk_data]   Package stopwords is already up-to-date!\n",
      "[nltk_data] Downloading package punkt to\n",
      "[nltk_data]     C:\\Users\\hp\\AppData\\Roaming\\nltk_data...\n",
      "[nltk_data]   Package punkt is already up-to-date!\n",
      "[nltk_data] Downloading package wordnet to\n",
      "[nltk_data]     C:\\Users\\hp\\AppData\\Roaming\\nltk_data...\n",
      "[nltk_data]   Package wordnet is already up-to-date!\n",
      "[nltk_data] Downloading package words to\n",
      "[nltk_data]     C:\\Users\\hp\\AppData\\Roaming\\nltk_data...\n",
      "[nltk_data]   Unzipping corpora\\words.zip.\n",
      "[nltk_data] Downloading package brown to\n",
      "[nltk_data]     C:\\Users\\hp\\AppData\\Roaming\\nltk_data...\n",
      "[nltk_data]   Unzipping corpora\\brown.zip.\n",
      "[nltk_data] Downloading package vader_lexicon to\n",
      "[nltk_data]     C:\\Users\\hp\\AppData\\Roaming\\nltk_data...\n",
      "[nltk_data] Downloading package averaged_perceptron_tagger to\n",
      "[nltk_data]     C:\\Users\\hp\\AppData\\Roaming\\nltk_data...\n",
      "[nltk_data]   Package averaged_perceptron_tagger is already up-to-\n",
      "[nltk_data]       date!\n"
     ]
    },
    {
     "data": {
      "text/plain": [
       "True"
      ]
     },
     "execution_count": 6,
     "metadata": {},
     "output_type": "execute_result"
    }
   ],
   "source": [
    "import nltk\n",
    "nltk.download('stopwords')\n",
    "nltk.download(\"punkt\")\n",
    "nltk.download(\"wordnet\")\n",
    "nltk.download('words')\n",
    "nltk.download('brown')\n",
    "nltk.download('vader_lexicon')\n",
    "nltk.download('averaged_perceptron_tagger')"
   ]
  },
  {
   "cell_type": "code",
   "execution_count": 16,
   "id": "a766b78f",
   "metadata": {},
   "outputs": [
    {
     "name": "stdout",
     "output_type": "stream",
     "text": [
      "Stop Words in English : \n",
      "{'yours', 'out', 'after', 'it', 'such', 'don', \"it's\", \"aren't\", 'y', 'that', \"wouldn't\", 'had', 'all', 'and', 'during', 'at', \"won't\", \"don't\", 'up', \"needn't\", 'weren', 'be', 'further', 'shouldn', \"hadn't\", 'now', \"couldn't\", 'below', 'couldn', 'most', \"didn't\", \"shouldn't\", 'into', 'has', 'on', 'then', 'each', 'll', 'a', 'mightn', 'not', 'the', 'ma', 'should', 'been', 'down', 'this', 'in', 'too', \"should've\", 'again', 'will', 'before', \"wasn't\", 'ours', 'because', 'under', 's', 'm', 'himself', 've', 'how', 'than', 'hasn', 'against', 'i', 'myself', \"you're\", 'nor', 'aren', 'needn', 'as', \"doesn't\", 'can', 'hadn', 'through', 'hers', 'yourselves', 'do', 'am', \"weren't\", 'you', 'ain', 'was', 'were', \"hasn't\", 'until', 'where', 'about', 'he', 'what', 'didn', 'isn', 'both', \"she's\", 'who', 'she', 'them', 'any', 't', 'whom', 'why', 'does', 'wasn', \"isn't\", \"mustn't\", 'of', 'other', 'over', \"mightn't\", 'haven', 'when', 'few', 'while', 'but', 'they', 'theirs', 'or', 'him', 'we', 'herself', 'doing', 'between', 'are', 'with', 'more', 'yourself', 'themselves', 'which', 'itself', 'just', 'did', 'there', 'her', 'd', 'their', 'o', 're', \"shan't\", 'once', 'if', 'some', 'our', 'your', 'mustn', 'won', \"you'll\", 'off', 'for', 'me', 'to', \"you'd\", 'so', 'only', 'no', 'from', 'doesn', \"haven't\", \"that'll\", 'those', 'having', 'shan', 'his', \"you've\", 'being', 'have', 'own', 'very', 'same', 'my', 'is', 'an', 'these', 'wouldn', 'by', 'ourselves', 'its', 'here', 'above'}\n"
     ]
    }
   ],
   "source": [
    "from nltk.corpus import stopwords # type: ignore\n",
    "en_stopwords = set(stopwords.words('english'))\n",
    "print(f\"Stop Words in English : \\n{ en_stopwords}\")"
   ]
  },
  {
   "cell_type": "code",
   "execution_count": 17,
   "id": "e25a0dbf",
   "metadata": {},
   "outputs": [
    {
     "name": "stdout",
     "output_type": "stream",
     "text": [
      "Before removing stopwords : ['hi', 'everyone', 'i', 'am', 'ankit', 'gupta.']\n",
      "After removing stopwords : ['hi', 'everyone', 'ankit', 'gupta.']\n"
     ]
    }
   ],
   "source": [
    "def remove_stopwords(text):\n",
    "    text = [word for word in text if word not in en_stopwords]\n",
    "    return text\n",
    "print(f\"Before removing stopwords : {word_tokenizer(sample)}\")\n",
    "print(f\"After removing stopwords : {remove_stopwords(word_tokenizer(sample))}\")"
   ]
  },
  {
   "cell_type": "code",
   "execution_count": 18,
   "id": "37000e2d",
   "metadata": {},
   "outputs": [
    {
     "name": "stdout",
     "output_type": "stream",
     "text": [
      "Before Stemming : I am creating a Notebook\n",
      "After Stemming : ['i', 'am', 'creat', 'a', 'notebook']\n"
     ]
    }
   ],
   "source": [
    "from nltk.stem.porter import PorterStemmer # type: ignore\n",
    "from nltk.stem.lancaster import LancasterStemmer # type: ignore\n",
    "stemmer = PorterStemmer()\n",
    "# stemmer = LancasterStemmer()\n",
    "def stemming(text):\n",
    "    text = [stemmer.stem(word) for word in text]\n",
    "    return text\n",
    "sample = \"I am creating a Notebook\"\n",
    "print(f\"Before Stemming : {(sample)}\")\n",
    "print(f\"After Stemming : {stemming(word_tokenizer(sample))}\")"
   ]
  },
  {
   "cell_type": "code",
   "execution_count": 3,
   "id": "277e853f",
   "metadata": {},
   "outputs": [
    {
     "name": "stdout",
     "output_type": "stream",
     "text": [
      "Collecting en-core-web-sm==3.7.1\n",
      "  Downloading https://github.com/explosion/spacy-models/releases/download/en_core_web_sm-3.7.1/en_core_web_sm-3.7.1-py3-none-any.whl (12.8 MB)\n",
      "     ---------------------------------------- 0.0/12.8 MB ? eta -:--:--\n",
      "     ----- ---------------------------------- 1.8/12.8 MB 12.6 MB/s eta 0:00:01\n",
      "     ----------------- ---------------------- 5.5/12.8 MB 16.0 MB/s eta 0:00:01\n",
      "     --------------------------- ------------ 8.7/12.8 MB 15.3 MB/s eta 0:00:01\n",
      "     ----------------------------------- --- 11.5/12.8 MB 15.0 MB/s eta 0:00:01\n",
      "     --------------------------------------- 12.8/12.8 MB 14.1 MB/s eta 0:00:00\n",
      "Requirement already satisfied: spacy<3.8.0,>=3.7.2 in c:\\users\\hp\\desktop\\python\\python310\\lib\\site-packages (from en-core-web-sm==3.7.1) (3.7.5)\n",
      "Requirement already satisfied: spacy-legacy<3.1.0,>=3.0.11 in c:\\users\\hp\\desktop\\python\\python310\\lib\\site-packages (from spacy<3.8.0,>=3.7.2->en-core-web-sm==3.7.1) (3.0.12)\n",
      "Requirement already satisfied: spacy-loggers<2.0.0,>=1.0.0 in c:\\users\\hp\\desktop\\python\\python310\\lib\\site-packages (from spacy<3.8.0,>=3.7.2->en-core-web-sm==3.7.1) (1.0.5)\n",
      "Requirement already satisfied: murmurhash<1.1.0,>=0.28.0 in c:\\users\\hp\\desktop\\python\\python310\\lib\\site-packages (from spacy<3.8.0,>=3.7.2->en-core-web-sm==3.7.1) (1.0.10)\n",
      "Requirement already satisfied: cymem<2.1.0,>=2.0.2 in c:\\users\\hp\\desktop\\python\\python310\\lib\\site-packages (from spacy<3.8.0,>=3.7.2->en-core-web-sm==3.7.1) (2.0.8)\n",
      "Requirement already satisfied: preshed<3.1.0,>=3.0.2 in c:\\users\\hp\\desktop\\python\\python310\\lib\\site-packages (from spacy<3.8.0,>=3.7.2->en-core-web-sm==3.7.1) (3.0.9)\n",
      "Requirement already satisfied: thinc<8.3.0,>=8.2.2 in c:\\users\\hp\\desktop\\python\\python310\\lib\\site-packages (from spacy<3.8.0,>=3.7.2->en-core-web-sm==3.7.1) (8.2.5)\n",
      "Requirement already satisfied: wasabi<1.2.0,>=0.9.1 in c:\\users\\hp\\desktop\\python\\python310\\lib\\site-packages (from spacy<3.8.0,>=3.7.2->en-core-web-sm==3.7.1) (1.1.3)\n",
      "Requirement already satisfied: srsly<3.0.0,>=2.4.3 in c:\\users\\hp\\desktop\\python\\python310\\lib\\site-packages (from spacy<3.8.0,>=3.7.2->en-core-web-sm==3.7.1) (2.4.8)\n",
      "Requirement already satisfied: catalogue<2.1.0,>=2.0.6 in c:\\users\\hp\\desktop\\python\\python310\\lib\\site-packages (from spacy<3.8.0,>=3.7.2->en-core-web-sm==3.7.1) (2.0.10)\n",
      "Requirement already satisfied: weasel<0.5.0,>=0.1.0 in c:\\users\\hp\\desktop\\python\\python310\\lib\\site-packages (from spacy<3.8.0,>=3.7.2->en-core-web-sm==3.7.1) (0.4.1)\n",
      "Requirement already satisfied: typer<1.0.0,>=0.3.0 in c:\\users\\hp\\desktop\\python\\python310\\lib\\site-packages (from spacy<3.8.0,>=3.7.2->en-core-web-sm==3.7.1) (0.12.5)\n",
      "Requirement already satisfied: tqdm<5.0.0,>=4.38.0 in c:\\users\\hp\\desktop\\python\\python310\\lib\\site-packages (from spacy<3.8.0,>=3.7.2->en-core-web-sm==3.7.1) (4.67.0)\n",
      "Requirement already satisfied: requests<3.0.0,>=2.13.0 in c:\\users\\hp\\desktop\\python\\python310\\lib\\site-packages (from spacy<3.8.0,>=3.7.2->en-core-web-sm==3.7.1) (2.32.3)\n",
      "Requirement already satisfied: pydantic!=1.8,!=1.8.1,<3.0.0,>=1.7.4 in c:\\users\\hp\\desktop\\python\\python310\\lib\\site-packages (from spacy<3.8.0,>=3.7.2->en-core-web-sm==3.7.1) (2.9.2)\n",
      "Requirement already satisfied: jinja2 in c:\\users\\hp\\desktop\\python\\python310\\lib\\site-packages (from spacy<3.8.0,>=3.7.2->en-core-web-sm==3.7.1) (3.1.4)\n",
      "Requirement already satisfied: setuptools in c:\\users\\hp\\desktop\\python\\python310\\lib\\site-packages (from spacy<3.8.0,>=3.7.2->en-core-web-sm==3.7.1) (65.5.0)\n",
      "Requirement already satisfied: packaging>=20.0 in c:\\users\\hp\\desktop\\python\\python310\\lib\\site-packages (from spacy<3.8.0,>=3.7.2->en-core-web-sm==3.7.1) (24.1)\n",
      "Requirement already satisfied: langcodes<4.0.0,>=3.2.0 in c:\\users\\hp\\desktop\\python\\python310\\lib\\site-packages (from spacy<3.8.0,>=3.7.2->en-core-web-sm==3.7.1) (3.4.1)\n",
      "Requirement already satisfied: numpy>=1.19.0 in c:\\users\\hp\\desktop\\python\\python310\\lib\\site-packages (from spacy<3.8.0,>=3.7.2->en-core-web-sm==3.7.1) (1.23.5)\n",
      "Requirement already satisfied: language-data>=1.2 in c:\\users\\hp\\desktop\\python\\python310\\lib\\site-packages (from langcodes<4.0.0,>=3.2.0->spacy<3.8.0,>=3.7.2->en-core-web-sm==3.7.1) (1.2.0)\n",
      "Requirement already satisfied: annotated-types>=0.6.0 in c:\\users\\hp\\desktop\\python\\python310\\lib\\site-packages (from pydantic!=1.8,!=1.8.1,<3.0.0,>=1.7.4->spacy<3.8.0,>=3.7.2->en-core-web-sm==3.7.1) (0.7.0)\n",
      "Requirement already satisfied: pydantic-core==2.23.4 in c:\\users\\hp\\desktop\\python\\python310\\lib\\site-packages (from pydantic!=1.8,!=1.8.1,<3.0.0,>=1.7.4->spacy<3.8.0,>=3.7.2->en-core-web-sm==3.7.1) (2.23.4)\n",
      "Requirement already satisfied: typing-extensions>=4.6.1 in c:\\users\\hp\\desktop\\python\\python310\\lib\\site-packages (from pydantic!=1.8,!=1.8.1,<3.0.0,>=1.7.4->spacy<3.8.0,>=3.7.2->en-core-web-sm==3.7.1) (4.12.2)\n",
      "Requirement already satisfied: charset-normalizer<4,>=2 in c:\\users\\hp\\desktop\\python\\python310\\lib\\site-packages (from requests<3.0.0,>=2.13.0->spacy<3.8.0,>=3.7.2->en-core-web-sm==3.7.1) (3.4.0)\n",
      "Requirement already satisfied: idna<4,>=2.5 in c:\\users\\hp\\desktop\\python\\python310\\lib\\site-packages (from requests<3.0.0,>=2.13.0->spacy<3.8.0,>=3.7.2->en-core-web-sm==3.7.1) (3.10)\n",
      "Requirement already satisfied: urllib3<3,>=1.21.1 in c:\\users\\hp\\desktop\\python\\python310\\lib\\site-packages (from requests<3.0.0,>=2.13.0->spacy<3.8.0,>=3.7.2->en-core-web-sm==3.7.1) (2.2.3)\n",
      "Requirement already satisfied: certifi>=2017.4.17 in c:\\users\\hp\\desktop\\python\\python310\\lib\\site-packages (from requests<3.0.0,>=2.13.0->spacy<3.8.0,>=3.7.2->en-core-web-sm==3.7.1) (2024.8.30)\n",
      "Requirement already satisfied: blis<0.8.0,>=0.7.8 in c:\\users\\hp\\desktop\\python\\python310\\lib\\site-packages (from thinc<8.3.0,>=8.2.2->spacy<3.8.0,>=3.7.2->en-core-web-sm==3.7.1) (0.7.11)\n",
      "Requirement already satisfied: confection<1.0.0,>=0.0.1 in c:\\users\\hp\\desktop\\python\\python310\\lib\\site-packages (from thinc<8.3.0,>=8.2.2->spacy<3.8.0,>=3.7.2->en-core-web-sm==3.7.1) (0.1.5)\n",
      "Requirement already satisfied: colorama in c:\\users\\hp\\desktop\\python\\python310\\lib\\site-packages (from tqdm<5.0.0,>=4.38.0->spacy<3.8.0,>=3.7.2->en-core-web-sm==3.7.1) (0.4.6)\n",
      "Requirement already satisfied: click>=8.0.0 in c:\\users\\hp\\desktop\\python\\python310\\lib\\site-packages (from typer<1.0.0,>=0.3.0->spacy<3.8.0,>=3.7.2->en-core-web-sm==3.7.1) (8.1.7)\n",
      "Requirement already satisfied: shellingham>=1.3.0 in c:\\users\\hp\\desktop\\python\\python310\\lib\\site-packages (from typer<1.0.0,>=0.3.0->spacy<3.8.0,>=3.7.2->en-core-web-sm==3.7.1) (1.5.4)\n",
      "Requirement already satisfied: rich>=10.11.0 in c:\\users\\hp\\desktop\\python\\python310\\lib\\site-packages (from typer<1.0.0,>=0.3.0->spacy<3.8.0,>=3.7.2->en-core-web-sm==3.7.1) (13.9.4)\n",
      "Requirement already satisfied: cloudpathlib<1.0.0,>=0.7.0 in c:\\users\\hp\\desktop\\python\\python310\\lib\\site-packages (from weasel<0.5.0,>=0.1.0->spacy<3.8.0,>=3.7.2->en-core-web-sm==3.7.1) (0.20.0)\n",
      "Requirement already satisfied: smart-open<8.0.0,>=5.2.1 in c:\\users\\hp\\desktop\\python\\python310\\lib\\site-packages (from weasel<0.5.0,>=0.1.0->spacy<3.8.0,>=3.7.2->en-core-web-sm==3.7.1) (7.0.5)\n",
      "Requirement already satisfied: MarkupSafe>=2.0 in c:\\users\\hp\\desktop\\python\\python310\\lib\\site-packages (from jinja2->spacy<3.8.0,>=3.7.2->en-core-web-sm==3.7.1) (3.0.2)\n",
      "Requirement already satisfied: marisa-trie>=0.7.7 in c:\\users\\hp\\desktop\\python\\python310\\lib\\site-packages (from language-data>=1.2->langcodes<4.0.0,>=3.2.0->spacy<3.8.0,>=3.7.2->en-core-web-sm==3.7.1) (1.2.1)\n",
      "Requirement already satisfied: markdown-it-py>=2.2.0 in c:\\users\\hp\\desktop\\python\\python310\\lib\\site-packages (from rich>=10.11.0->typer<1.0.0,>=0.3.0->spacy<3.8.0,>=3.7.2->en-core-web-sm==3.7.1) (3.0.0)\n",
      "Requirement already satisfied: pygments<3.0.0,>=2.13.0 in c:\\users\\hp\\desktop\\python\\python310\\lib\\site-packages (from rich>=10.11.0->typer<1.0.0,>=0.3.0->spacy<3.8.0,>=3.7.2->en-core-web-sm==3.7.1) (2.18.0)\n",
      "Requirement already satisfied: wrapt in c:\\users\\hp\\desktop\\python\\python310\\lib\\site-packages (from smart-open<8.0.0,>=5.2.1->weasel<0.5.0,>=0.1.0->spacy<3.8.0,>=3.7.2->en-core-web-sm==3.7.1) (1.16.0)\n",
      "Requirement already satisfied: mdurl~=0.1 in c:\\users\\hp\\desktop\\python\\python310\\lib\\site-packages (from markdown-it-py>=2.2.0->rich>=10.11.0->typer<1.0.0,>=0.3.0->spacy<3.8.0,>=3.7.2->en-core-web-sm==3.7.1) (0.1.2)\n",
      "Installing collected packages: en-core-web-sm\n",
      "Successfully installed en-core-web-sm-3.7.1\n",
      "\u001b[38;5;2m✔ Download and installation successful\u001b[0m\n",
      "You can now load the package via spacy.load('en_core_web_sm')\n"
     ]
    }
   ],
   "source": [
    "!python -m spacy download en_core_web_sm"
   ]
  },
  {
   "cell_type": "code",
   "execution_count": 2,
   "id": "674ca882",
   "metadata": {},
   "outputs": [
    {
     "data": {
      "text/plain": [
       "('1.23.5', '3.7.5', '2.10.0', '3.8.0')"
      ]
     },
     "execution_count": 2,
     "metadata": {},
     "output_type": "execute_result"
    }
   ],
   "source": [
    "import numpy, spacy, tensorflow, matplotlib\n",
    "numpy.__version__, spacy.__version__, tensorflow.__version__, matplotlib.__version__"
   ]
  },
  {
   "cell_type": "code",
   "execution_count": 1,
   "id": "1f6cd028",
   "metadata": {},
   "outputs": [
    {
     "data": {
      "text/plain": [
       "<module 'matplotlib.pyplot' from 'c:\\\\Users\\\\hp\\\\Desktop\\\\Python\\\\Python310\\\\lib\\\\site-packages\\\\matplotlib\\\\pyplot.py'>"
      ]
     },
     "execution_count": 1,
     "metadata": {},
     "output_type": "execute_result"
    }
   ],
   "source": [
    "import matplotlib.pyplot as plt \n",
    "plt"
   ]
  },
  {
   "cell_type": "code",
   "execution_count": 2,
   "id": "0f62370d",
   "metadata": {},
   "outputs": [
    {
     "name": "stdout",
     "output_type": "stream",
     "text": [
      "3.7.5\n"
     ]
    },
    {
     "ename": "OSError",
     "evalue": "[E050] Can't find model 'en_core_web_sm'. It doesn't seem to be a Python package or a valid path to a data directory.",
     "output_type": "error",
     "traceback": [
      "\u001b[1;31m---------------------------------------------------------------------------\u001b[0m",
      "\u001b[1;31mOSError\u001b[0m                                   Traceback (most recent call last)",
      "Cell \u001b[1;32mIn[2], line 3\u001b[0m\n\u001b[0;32m      1\u001b[0m \u001b[38;5;28;01mimport\u001b[39;00m \u001b[38;5;21;01mspacy\u001b[39;00m \u001b[38;5;66;03m# type: ignore\u001b[39;00m\n\u001b[0;32m      2\u001b[0m \u001b[38;5;28mprint\u001b[39m(spacy\u001b[38;5;241m.\u001b[39m__version__)\n\u001b[1;32m----> 3\u001b[0m sp \u001b[38;5;241m=\u001b[39m \u001b[43mspacy\u001b[49m\u001b[38;5;241;43m.\u001b[39;49m\u001b[43mload\u001b[49m\u001b[43m(\u001b[49m\u001b[38;5;124;43m\"\u001b[39;49m\u001b[38;5;124;43men_core_web_sm\u001b[39;49m\u001b[38;5;124;43m\"\u001b[39;49m\u001b[43m)\u001b[49m\n",
      "File \u001b[1;32mc:\\Users\\hp\\Desktop\\Python\\Python310\\lib\\site-packages\\spacy\\__init__.py:51\u001b[0m, in \u001b[0;36mload\u001b[1;34m(name, vocab, disable, enable, exclude, config)\u001b[0m\n\u001b[0;32m     27\u001b[0m \u001b[38;5;28;01mdef\u001b[39;00m \u001b[38;5;21mload\u001b[39m(\n\u001b[0;32m     28\u001b[0m     name: Union[\u001b[38;5;28mstr\u001b[39m, Path],\n\u001b[0;32m     29\u001b[0m     \u001b[38;5;241m*\u001b[39m,\n\u001b[1;32m   (...)\u001b[0m\n\u001b[0;32m     34\u001b[0m     config: Union[Dict[\u001b[38;5;28mstr\u001b[39m, Any], Config] \u001b[38;5;241m=\u001b[39m util\u001b[38;5;241m.\u001b[39mSimpleFrozenDict(),\n\u001b[0;32m     35\u001b[0m ) \u001b[38;5;241m-\u001b[39m\u001b[38;5;241m>\u001b[39m Language:\n\u001b[0;32m     36\u001b[0m \u001b[38;5;250m    \u001b[39m\u001b[38;5;124;03m\"\"\"Load a spaCy model from an installed package or a local path.\u001b[39;00m\n\u001b[0;32m     37\u001b[0m \n\u001b[0;32m     38\u001b[0m \u001b[38;5;124;03m    name (str): Package name or model path.\u001b[39;00m\n\u001b[1;32m   (...)\u001b[0m\n\u001b[0;32m     49\u001b[0m \u001b[38;5;124;03m    RETURNS (Language): The loaded nlp object.\u001b[39;00m\n\u001b[0;32m     50\u001b[0m \u001b[38;5;124;03m    \"\"\"\u001b[39;00m\n\u001b[1;32m---> 51\u001b[0m     \u001b[38;5;28;01mreturn\u001b[39;00m \u001b[43mutil\u001b[49m\u001b[38;5;241;43m.\u001b[39;49m\u001b[43mload_model\u001b[49m\u001b[43m(\u001b[49m\n\u001b[0;32m     52\u001b[0m \u001b[43m        \u001b[49m\u001b[43mname\u001b[49m\u001b[43m,\u001b[49m\n\u001b[0;32m     53\u001b[0m \u001b[43m        \u001b[49m\u001b[43mvocab\u001b[49m\u001b[38;5;241;43m=\u001b[39;49m\u001b[43mvocab\u001b[49m\u001b[43m,\u001b[49m\n\u001b[0;32m     54\u001b[0m \u001b[43m        \u001b[49m\u001b[43mdisable\u001b[49m\u001b[38;5;241;43m=\u001b[39;49m\u001b[43mdisable\u001b[49m\u001b[43m,\u001b[49m\n\u001b[0;32m     55\u001b[0m \u001b[43m        \u001b[49m\u001b[43menable\u001b[49m\u001b[38;5;241;43m=\u001b[39;49m\u001b[43menable\u001b[49m\u001b[43m,\u001b[49m\n\u001b[0;32m     56\u001b[0m \u001b[43m        \u001b[49m\u001b[43mexclude\u001b[49m\u001b[38;5;241;43m=\u001b[39;49m\u001b[43mexclude\u001b[49m\u001b[43m,\u001b[49m\n\u001b[0;32m     57\u001b[0m \u001b[43m        \u001b[49m\u001b[43mconfig\u001b[49m\u001b[38;5;241;43m=\u001b[39;49m\u001b[43mconfig\u001b[49m\u001b[43m,\u001b[49m\n\u001b[0;32m     58\u001b[0m \u001b[43m    \u001b[49m\u001b[43m)\u001b[49m\n",
      "File \u001b[1;32mc:\\Users\\hp\\Desktop\\Python\\Python310\\lib\\site-packages\\spacy\\util.py:472\u001b[0m, in \u001b[0;36mload_model\u001b[1;34m(name, vocab, disable, enable, exclude, config)\u001b[0m\n\u001b[0;32m    470\u001b[0m \u001b[38;5;28;01mif\u001b[39;00m name \u001b[38;5;129;01min\u001b[39;00m OLD_MODEL_SHORTCUTS:\n\u001b[0;32m    471\u001b[0m     \u001b[38;5;28;01mraise\u001b[39;00m \u001b[38;5;167;01mIOError\u001b[39;00m(Errors\u001b[38;5;241m.\u001b[39mE941\u001b[38;5;241m.\u001b[39mformat(name\u001b[38;5;241m=\u001b[39mname, full\u001b[38;5;241m=\u001b[39mOLD_MODEL_SHORTCUTS[name]))  \u001b[38;5;66;03m# type: ignore[index]\u001b[39;00m\n\u001b[1;32m--> 472\u001b[0m \u001b[38;5;28;01mraise\u001b[39;00m \u001b[38;5;167;01mIOError\u001b[39;00m(Errors\u001b[38;5;241m.\u001b[39mE050\u001b[38;5;241m.\u001b[39mformat(name\u001b[38;5;241m=\u001b[39mname))\n",
      "\u001b[1;31mOSError\u001b[0m: [E050] Can't find model 'en_core_web_sm'. It doesn't seem to be a Python package or a valid path to a data directory."
     ]
    }
   ],
   "source": [
    "import spacy # type: ignore\n",
    "print(spacy.__version__)\n",
    "sp = spacy.load(\"en_core_web_sm\")"
   ]
  },
  {
   "cell_type": "code",
   "execution_count": 5,
   "id": "59d61ad5",
   "metadata": {},
   "outputs": [
    {
     "name": "stdout",
     "output_type": "stream",
     "text": [
      "Requirement already satisfied: numpy==1.23.5 in c:\\users\\hp\\desktop\\python\\python310\\lib\\site-packages (1.23.5)\n"
     ]
    },
    {
     "name": "stderr",
     "output_type": "stream",
     "text": [
      "WARNING: Ignoring invalid distribution -atplotlib (c:\\users\\hp\\desktop\\python\\python310\\lib\\site-packages)\n",
      "WARNING: Error parsing dependencies of pip: [Errno 2] No such file or directory: 'c:\\\\users\\\\hp\\\\desktop\\\\python\\\\python310\\\\lib\\\\site-packages\\\\pip-24.2.dist-info\\\\METADATA'\n",
      "WARNING: Ignoring invalid distribution -atplotlib (c:\\users\\hp\\desktop\\python\\python310\\lib\\site-packages)\n",
      "WARNING: Ignoring invalid distribution -atplotlib (c:\\users\\hp\\desktop\\python\\python310\\lib\\site-packages)\n"
     ]
    }
   ],
   "source": [
    "!python -m pip install numpy==1.23.5"
   ]
  },
  {
   "cell_type": "code",
   "execution_count": 22,
   "id": "d27000c3",
   "metadata": {},
   "outputs": [
    {
     "name": "stdout",
     "output_type": "stream",
     "text": [
      "Before Lemmatization : ['i', 'am', 'creating', 'a', 'notebook']\n",
      "After Lemmatization : ['I', 'be', 'create', 'a', 'notebook']\n"
     ]
    }
   ],
   "source": [
    "import spacy # type: ignore\n",
    "sp = spacy.load(\"en_core_web_sm\")\n",
    "def lemmatization(text):\n",
    "    # text = [sp(word).lemma_ for word in text]\n",
    "    text = \" \".join(text)\n",
    "    token = sp(text)\n",
    "    text = [word.lemma_ for word in token]\n",
    "    return text\n",
    "\n",
    "print(f\"Before Lemmatization : {word_tokenizer(sample)}\")\n",
    "print(f\"After Lemmatization : {lemmatization(word_tokenizer(sample))}\")"
   ]
  },
  {
   "cell_type": "code",
   "execution_count": 23,
   "id": "4478edc2",
   "metadata": {},
   "outputs": [
    {
     "name": "stdout",
     "output_type": "stream",
     "text": [
      " \"Hi Everyone I am Ankit Gupta. : tl\n",
      "मेरा नाम अंकित गुप्ता है और मैं एक छात्र हूँ : hi\n"
     ]
    }
   ],
   "source": [
    "from langdetect import detect # type: ignore\n",
    "en_text = u\"\"\"\"Hi Everyone I am Ankit Gupta.\"\"\"\n",
    "print(f\" {en_text} : {detect(en_text)}\")\n",
    "\n",
    "hindi_text = u\"\"\"मेरा नाम अंकित गुप्ता है और मैं एक छात्र हूँ\"\"\"\n",
    "print(f\"{hindi_text} : {detect(hindi_text)}\")"
   ]
  },
  {
   "cell_type": "code",
   "execution_count": 24,
   "id": "8b29b470",
   "metadata": {},
   "outputs": [
    {
     "name": "stderr",
     "output_type": "stream",
     "text": [
      "100%|██████████| 6/6 [00:00<00:00, 1198.66it/s]\n"
     ]
    },
    {
     "data": {
      "text/html": [
       "<div>\n",
       "<style scoped>\n",
       "    .dataframe tbody tr th:only-of-type {\n",
       "        vertical-align: middle;\n",
       "    }\n",
       "\n",
       "    .dataframe tbody tr th {\n",
       "        vertical-align: top;\n",
       "    }\n",
       "\n",
       "    .dataframe thead th {\n",
       "        text-align: right;\n",
       "    }\n",
       "</style>\n",
       "<table border=\"1\" class=\"dataframe\">\n",
       "  <thead>\n",
       "    <tr style=\"text-align: right;\">\n",
       "      <th></th>\n",
       "      <th>id</th>\n",
       "      <th>name</th>\n",
       "      <th>email</th>\n",
       "      <th>aspect</th>\n",
       "      <th>comments</th>\n",
       "      <th>rating</th>\n",
       "      <th>Unnamed: 6</th>\n",
       "      <th>sentiment</th>\n",
       "      <th>y</th>\n",
       "    </tr>\n",
       "  </thead>\n",
       "  <tbody>\n",
       "    <tr>\n",
       "      <th>0</th>\n",
       "      <td>1</td>\n",
       "      <td>Yenugu Poojitha</td>\n",
       "      <td>yenugupoojithareddy3107@gmail.com</td>\n",
       "      <td>service</td>\n",
       "      <td>The tourist place had provided good services</td>\n",
       "      <td>4</td>\n",
       "      <td>NaN</td>\n",
       "      <td>Good</td>\n",
       "      <td>1</td>\n",
       "    </tr>\n",
       "    <tr>\n",
       "      <th>1</th>\n",
       "      <td>2</td>\n",
       "      <td>chitra</td>\n",
       "      <td>chitra123@gmail.com</td>\n",
       "      <td>food</td>\n",
       "      <td>The food given in the restaurant was delicious...</td>\n",
       "      <td>5</td>\n",
       "      <td>NaN</td>\n",
       "      <td>Excellent</td>\n",
       "      <td>3</td>\n",
       "    </tr>\n",
       "    <tr>\n",
       "      <th>2</th>\n",
       "      <td>3</td>\n",
       "      <td>saaket</td>\n",
       "      <td>saaket123@gmail.com</td>\n",
       "      <td>ambience</td>\n",
       "      <td>The relaxed ambience of Thrissur was popular w...</td>\n",
       "      <td>3</td>\n",
       "      <td>NaN</td>\n",
       "      <td>Good</td>\n",
       "      <td>1</td>\n",
       "    </tr>\n",
       "    <tr>\n",
       "      <th>3</th>\n",
       "      <td>4</td>\n",
       "      <td>sravani</td>\n",
       "      <td>sravani18@gmail.com</td>\n",
       "      <td>food</td>\n",
       "      <td>The historical prestige and the hotel ambience...</td>\n",
       "      <td>4</td>\n",
       "      <td>NaN</td>\n",
       "      <td>Excellent</td>\n",
       "      <td>3</td>\n",
       "    </tr>\n",
       "    <tr>\n",
       "      <th>4</th>\n",
       "      <td>5</td>\n",
       "      <td>rishikesh</td>\n",
       "      <td>rishikesh31@gmail.com</td>\n",
       "      <td>service</td>\n",
       "      <td>Hotel services were good</td>\n",
       "      <td>3</td>\n",
       "      <td>NaN</td>\n",
       "      <td>Very Good</td>\n",
       "      <td>2</td>\n",
       "    </tr>\n",
       "    <tr>\n",
       "      <th>5</th>\n",
       "      <td>6</td>\n",
       "      <td>vinay</td>\n",
       "      <td>vinay14@gmail.com</td>\n",
       "      <td>hospitality</td>\n",
       "      <td>I became ill, so I was admitted in a hospital ...</td>\n",
       "      <td>3</td>\n",
       "      <td></td>\n",
       "      <td>Bad</td>\n",
       "      <td>-1</td>\n",
       "    </tr>\n",
       "  </tbody>\n",
       "</table>\n",
       "</div>"
      ],
      "text/plain": [
       "   id             name                              email       aspect  \\\n",
       "0   1  Yenugu Poojitha  yenugupoojithareddy3107@gmail.com      service   \n",
       "1   2           chitra                chitra123@gmail.com         food   \n",
       "2   3           saaket                saaket123@gmail.com     ambience   \n",
       "3   4          sravani                sravani18@gmail.com         food   \n",
       "4   5        rishikesh              rishikesh31@gmail.com      service   \n",
       "5   6            vinay                  vinay14@gmail.com  hospitality   \n",
       "\n",
       "                                            comments  rating Unnamed: 6  \\\n",
       "0       The tourist place had provided good services       4        NaN   \n",
       "1  The food given in the restaurant was delicious...       5        NaN   \n",
       "2  The relaxed ambience of Thrissur was popular w...       3        NaN   \n",
       "3  The historical prestige and the hotel ambience...       4        NaN   \n",
       "4                           Hotel services were good       3        NaN   \n",
       "5  I became ill, so I was admitted in a hospital ...       3              \n",
       "\n",
       "   sentiment  y  \n",
       "0       Good  1  \n",
       "1  Excellent  3  \n",
       "2       Good  1  \n",
       "3  Excellent  3  \n",
       "4  Very Good  2  \n",
       "5        Bad -1  "
      ]
     },
     "execution_count": 24,
     "metadata": {},
     "output_type": "execute_result"
    }
   ],
   "source": [
    "# Assigning labels to each review\n",
    "def label(y):\n",
    "    if y=='Excellent':\n",
    "        return 3\n",
    "    elif y=='Very Good':\n",
    "        return 2\n",
    "    elif y=='Good':\n",
    "        return 1\n",
    "    else:\n",
    "        return -1\n",
    "\n",
    "from tqdm import tqdm # type: ignore\n",
    "tqdm.pandas()\n",
    "df['y'] = df.sentiment.progress_map(label)\n",
    "df"
   ]
  },
  {
   "cell_type": "code",
   "execution_count": 25,
   "id": "1295c8f8",
   "metadata": {},
   "outputs": [
    {
     "data": {
      "image/png": "[encoded data removed]",
      "text/plain": [
       "<Figure size 640x480 with 1 Axes>"
      ]
     },
     "metadata": {},
     "output_type": "display_data"
    }
   ],
   "source": [
    "import seaborn as sns # type: ignore\n",
    "sns.countplot(x = \"y\", hue=\"y\",data = df)\n",
    "plt.show()"
   ]
  },
  {
   "cell_type": "code",
   "execution_count": 26,
   "id": "19e16856",
   "metadata": {},
   "outputs": [
    {
     "data": {
      "text/plain": [
       "2"
      ]
     },
     "execution_count": 26,
     "metadata": {},
     "output_type": "execute_result"
    }
   ],
   "source": [
    "P = df[(df['sentiment'] == 'Good')]\n",
    "positive = list(P[(P['comments'].str.len() > 4) & (P['comments'].str.len() < 350)]['comments'])\n",
    "len(positive)"
   ]
  },
  {
   "cell_type": "code",
   "execution_count": 27,
   "id": "8613d04c",
   "metadata": {},
   "outputs": [
    {
     "data": {
      "text/plain": [
       "['The tourist place had provided good services',\n",
       " 'The relaxed ambience of Thrissur was popular with temples.']"
      ]
     },
     "execution_count": 27,
     "metadata": {},
     "output_type": "execute_result"
    }
   ],
   "source": [
    "import nlpaug.augmenter.word as naw # type: ignore\n",
    "positive[0:49]"
   ]
  },
  {
   "cell_type": "code",
   "execution_count": 28,
   "id": "454417be",
   "metadata": {},
   "outputs": [
    {
     "name": "stderr",
     "output_type": "stream",
     "text": [
      "[nltk_data] Downloading package averaged_perceptron_tagger to\n",
      "[nltk_data]     C:\\Users\\hp\\AppData\\Roaming\\nltk_data...\n",
      "[nltk_data]   Package averaged_perceptron_tagger is already up-to-\n",
      "[nltk_data]       date!\n"
     ]
    },
    {
     "data": {
      "text/plain": [
       "True"
      ]
     },
     "execution_count": 28,
     "metadata": {},
     "output_type": "execute_result"
    }
   ],
   "source": [
    "import nltk\n",
    "nltk.download('averaged_perceptron_tagger')"
   ]
  },
  {
   "cell_type": "code",
   "execution_count": 29,
   "id": "b35e2920",
   "metadata": {},
   "outputs": [
    {
     "name": "stderr",
     "output_type": "stream",
     "text": [
      "[nltk_data] Downloading package averaged_perceptron_tagger_eng to\n",
      "[nltk_data]     C:\\Users\\hp\\AppData\\Roaming\\nltk_data...\n",
      "[nltk_data]   Package averaged_perceptron_tagger_eng is already up-to-\n",
      "[nltk_data]       date!\n"
     ]
    },
    {
     "data": {
      "text/plain": [
       "True"
      ]
     },
     "execution_count": 29,
     "metadata": {},
     "output_type": "execute_result"
    }
   ],
   "source": [
    "import nltk # type: ignore\n",
    "nltk.download('averaged_perceptron_tagger_eng')"
   ]
  },
  {
   "cell_type": "code",
   "execution_count": 30,
   "id": "d1c22084",
   "metadata": {},
   "outputs": [
    {
     "data": {
      "text/plain": [
       "2"
      ]
     },
     "execution_count": 30,
     "metadata": {},
     "output_type": "execute_result"
    }
   ],
   "source": [
    "aug = naw.AntonymAug(name='Antonym_Aug', aug_min=1, aug_max=10, aug_p=0.3, lang='eng', stopwords=en_stopwords, tokenizer=None,\n",
    "                     reverse_tokenizer=None, stopwords_regex=None, verbose=0)\n",
    "aug_negative = aug.augment(positive)\n",
    "len(aug_negative)"
   ]
  },
  {
   "cell_type": "code",
   "execution_count": 31,
   "id": "a7817778",
   "metadata": {},
   "outputs": [
    {
     "data": {
      "text/plain": [
       "['The tourist place had provided bad services',\n",
       " 'The tense ambience of Thrissur was unpopular with temples.']"
      ]
     },
     "execution_count": 31,
     "metadata": {},
     "output_type": "execute_result"
    }
   ],
   "source": [
    "aug_negative[0:4]"
   ]
  },
  {
   "cell_type": "code",
   "execution_count": 32,
   "id": "22bcea8e",
   "metadata": {},
   "outputs": [],
   "source": [
    "def lemmatization(text):\n",
    "    # text = [sp(word).lemma_ for word in text]\n",
    "    text = \" \".join(text)\n",
    "    token = sp(text)\n",
    "    text = [word.lemma_ for word in token]\n",
    "    return text"
   ]
  },
  {
   "cell_type": "code",
   "execution_count": 33,
   "id": "5b17e42c",
   "metadata": {},
   "outputs": [
    {
     "name": "stderr",
     "output_type": "stream",
     "text": [
      "100%|██████████| 6/6 [00:00<00:00, 132.81it/s]\n"
     ]
    },
    {
     "data": {
      "text/html": [
       "<div>\n",
       "<style scoped>\n",
       "    .dataframe tbody tr th:only-of-type {\n",
       "        vertical-align: middle;\n",
       "    }\n",
       "\n",
       "    .dataframe tbody tr th {\n",
       "        vertical-align: top;\n",
       "    }\n",
       "\n",
       "    .dataframe thead th {\n",
       "        text-align: right;\n",
       "    }\n",
       "</style>\n",
       "<table border=\"1\" class=\"dataframe\">\n",
       "  <thead>\n",
       "    <tr style=\"text-align: right;\">\n",
       "      <th></th>\n",
       "      <th>id</th>\n",
       "      <th>name</th>\n",
       "      <th>email</th>\n",
       "      <th>aspect</th>\n",
       "      <th>comments</th>\n",
       "      <th>rating</th>\n",
       "      <th>Unnamed: 6</th>\n",
       "      <th>sentiment</th>\n",
       "      <th>y</th>\n",
       "      <th>clean_review</th>\n",
       "    </tr>\n",
       "  </thead>\n",
       "  <tbody>\n",
       "    <tr>\n",
       "      <th>0</th>\n",
       "      <td>1</td>\n",
       "      <td>Yenugu Poojitha</td>\n",
       "      <td>yenugupoojithareddy3107@gmail.com</td>\n",
       "      <td>service</td>\n",
       "      <td>The tourist place had provided good services</td>\n",
       "      <td>4</td>\n",
       "      <td>NaN</td>\n",
       "      <td>Good</td>\n",
       "      <td>1</td>\n",
       "      <td>tourist place provide good service</td>\n",
       "    </tr>\n",
       "    <tr>\n",
       "      <th>1</th>\n",
       "      <td>2</td>\n",
       "      <td>chitra</td>\n",
       "      <td>chitra123@gmail.com</td>\n",
       "      <td>food</td>\n",
       "      <td>The food given in the restaurant was delicious...</td>\n",
       "      <td>5</td>\n",
       "      <td>NaN</td>\n",
       "      <td>Excellent</td>\n",
       "      <td>3</td>\n",
       "      <td>food give restaurant delicious I find enjoyable</td>\n",
       "    </tr>\n",
       "    <tr>\n",
       "      <th>2</th>\n",
       "      <td>3</td>\n",
       "      <td>saaket</td>\n",
       "      <td>saaket123@gmail.com</td>\n",
       "      <td>ambience</td>\n",
       "      <td>The relaxed ambience of Thrissur was popular w...</td>\n",
       "      <td>3</td>\n",
       "      <td>NaN</td>\n",
       "      <td>Good</td>\n",
       "      <td>1</td>\n",
       "      <td>relaxed ambience thrissur popular temple</td>\n",
       "    </tr>\n",
       "    <tr>\n",
       "      <th>3</th>\n",
       "      <td>4</td>\n",
       "      <td>sravani</td>\n",
       "      <td>sravani18@gmail.com</td>\n",
       "      <td>food</td>\n",
       "      <td>The historical prestige and the hotel ambience...</td>\n",
       "      <td>4</td>\n",
       "      <td>NaN</td>\n",
       "      <td>Excellent</td>\n",
       "      <td>3</td>\n",
       "      <td>historical prestige hotel ambience good servic...</td>\n",
       "    </tr>\n",
       "    <tr>\n",
       "      <th>4</th>\n",
       "      <td>5</td>\n",
       "      <td>rishikesh</td>\n",
       "      <td>rishikesh31@gmail.com</td>\n",
       "      <td>service</td>\n",
       "      <td>Hotel services were good</td>\n",
       "      <td>3</td>\n",
       "      <td>NaN</td>\n",
       "      <td>Very Good</td>\n",
       "      <td>2</td>\n",
       "      <td>hotel service good</td>\n",
       "    </tr>\n",
       "    <tr>\n",
       "      <th>5</th>\n",
       "      <td>6</td>\n",
       "      <td>vinay</td>\n",
       "      <td>vinay14@gmail.com</td>\n",
       "      <td>hospitality</td>\n",
       "      <td>I became ill, so I was admitted in a hospital ...</td>\n",
       "      <td>3</td>\n",
       "      <td></td>\n",
       "      <td>Bad</td>\n",
       "      <td>-1</td>\n",
       "      <td>I become ill I admit hospital 3 day</td>\n",
       "    </tr>\n",
       "  </tbody>\n",
       "</table>\n",
       "</div>"
      ],
      "text/plain": [
       "   id             name                              email       aspect  \\\n",
       "0   1  Yenugu Poojitha  yenugupoojithareddy3107@gmail.com      service   \n",
       "1   2           chitra                chitra123@gmail.com         food   \n",
       "2   3           saaket                saaket123@gmail.com     ambience   \n",
       "3   4          sravani                sravani18@gmail.com         food   \n",
       "4   5        rishikesh              rishikesh31@gmail.com      service   \n",
       "5   6            vinay                  vinay14@gmail.com  hospitality   \n",
       "\n",
       "                                            comments  rating Unnamed: 6  \\\n",
       "0       The tourist place had provided good services       4        NaN   \n",
       "1  The food given in the restaurant was delicious...       5        NaN   \n",
       "2  The relaxed ambience of Thrissur was popular w...       3        NaN   \n",
       "3  The historical prestige and the hotel ambience...       4        NaN   \n",
       "4                           Hotel services were good       3        NaN   \n",
       "5  I became ill, so I was admitted in a hospital ...       3              \n",
       "\n",
       "   sentiment  y                                       clean_review  \n",
       "0       Good  1                 tourist place provide good service  \n",
       "1  Excellent  3    food give restaurant delicious I find enjoyable  \n",
       "2       Good  1           relaxed ambience thrissur popular temple  \n",
       "3  Excellent  3  historical prestige hotel ambience good servic...  \n",
       "4  Very Good  2                                 hotel service good  \n",
       "5        Bad -1                I become ill I admit hospital 3 day  "
      ]
     },
     "execution_count": 33,
     "metadata": {},
     "output_type": "execute_result"
    }
   ],
   "source": [
    "def preprocessing(text):\n",
    "    text = remove_url(text)\n",
    "    text = uni.normalize('NFKD', text)\n",
    "    text = handle_emoji(text)\n",
    "    text = text.lower()\n",
    "    text = re.sub(r'[^\\w\\s]', '', text)\n",
    "    text = word_tokenizer(text)\n",
    "    # text = stemming(text)\n",
    "    text = lemmatization(text)\n",
    "    text = remove_stopwords(text)\n",
    "    text = \" \".join(text)\n",
    "    return text\n",
    "from tqdm import tqdm  #type: ignore\n",
    "tqdm.pandas()\n",
    "df['clean_review'] = df['comments'].progress_map(preprocessing)\n",
    "df"
   ]
  },
  {
   "cell_type": "code",
   "execution_count": 34,
   "id": "24e96e0a",
   "metadata": {},
   "outputs": [
    {
     "data": {
      "text/html": [
       "<div>\n",
       "<style scoped>\n",
       "    .dataframe tbody tr th:only-of-type {\n",
       "        vertical-align: middle;\n",
       "    }\n",
       "\n",
       "    .dataframe tbody tr th {\n",
       "        vertical-align: top;\n",
       "    }\n",
       "\n",
       "    .dataframe thead th {\n",
       "        text-align: right;\n",
       "    }\n",
       "</style>\n",
       "<table border=\"1\" class=\"dataframe\">\n",
       "  <thead>\n",
       "    <tr style=\"text-align: right;\">\n",
       "      <th></th>\n",
       "      <th>id</th>\n",
       "      <th>name</th>\n",
       "      <th>email</th>\n",
       "      <th>aspect</th>\n",
       "      <th>comments</th>\n",
       "      <th>rating</th>\n",
       "      <th>Unnamed: 6</th>\n",
       "      <th>sentiment</th>\n",
       "      <th>y</th>\n",
       "      <th>clean_review</th>\n",
       "    </tr>\n",
       "  </thead>\n",
       "  <tbody>\n",
       "    <tr>\n",
       "      <th>0</th>\n",
       "      <td>1</td>\n",
       "      <td>Yenugu Poojitha</td>\n",
       "      <td>yenugupoojithareddy3107@gmail.com</td>\n",
       "      <td>service</td>\n",
       "      <td>The tourist place had provided good services</td>\n",
       "      <td>4</td>\n",
       "      <td>NaN</td>\n",
       "      <td>Good</td>\n",
       "      <td>1</td>\n",
       "      <td>tourist place provide good service</td>\n",
       "    </tr>\n",
       "    <tr>\n",
       "      <th>1</th>\n",
       "      <td>2</td>\n",
       "      <td>chitra</td>\n",
       "      <td>chitra123@gmail.com</td>\n",
       "      <td>food</td>\n",
       "      <td>The food given in the restaurant was delicious...</td>\n",
       "      <td>5</td>\n",
       "      <td>NaN</td>\n",
       "      <td>Excellent</td>\n",
       "      <td>3</td>\n",
       "      <td>food give restaurant delicious I find enjoyable</td>\n",
       "    </tr>\n",
       "    <tr>\n",
       "      <th>2</th>\n",
       "      <td>3</td>\n",
       "      <td>saaket</td>\n",
       "      <td>saaket123@gmail.com</td>\n",
       "      <td>ambience</td>\n",
       "      <td>The relaxed ambience of Thrissur was popular w...</td>\n",
       "      <td>3</td>\n",
       "      <td>NaN</td>\n",
       "      <td>Good</td>\n",
       "      <td>1</td>\n",
       "      <td>relaxed ambience thrissur popular temple</td>\n",
       "    </tr>\n",
       "    <tr>\n",
       "      <th>3</th>\n",
       "      <td>4</td>\n",
       "      <td>sravani</td>\n",
       "      <td>sravani18@gmail.com</td>\n",
       "      <td>food</td>\n",
       "      <td>The historical prestige and the hotel ambience...</td>\n",
       "      <td>4</td>\n",
       "      <td>NaN</td>\n",
       "      <td>Excellent</td>\n",
       "      <td>3</td>\n",
       "      <td>historical prestige hotel ambience good servic...</td>\n",
       "    </tr>\n",
       "    <tr>\n",
       "      <th>4</th>\n",
       "      <td>5</td>\n",
       "      <td>rishikesh</td>\n",
       "      <td>rishikesh31@gmail.com</td>\n",
       "      <td>service</td>\n",
       "      <td>Hotel services were good</td>\n",
       "      <td>3</td>\n",
       "      <td>NaN</td>\n",
       "      <td>Very Good</td>\n",
       "      <td>2</td>\n",
       "      <td>hotel service good</td>\n",
       "    </tr>\n",
       "  </tbody>\n",
       "</table>\n",
       "</div>"
      ],
      "text/plain": [
       "   id             name                              email    aspect  \\\n",
       "0   1  Yenugu Poojitha  yenugupoojithareddy3107@gmail.com   service   \n",
       "1   2           chitra                chitra123@gmail.com      food   \n",
       "2   3           saaket                saaket123@gmail.com  ambience   \n",
       "3   4          sravani                sravani18@gmail.com      food   \n",
       "4   5        rishikesh              rishikesh31@gmail.com   service   \n",
       "\n",
       "                                            comments  rating Unnamed: 6  \\\n",
       "0       The tourist place had provided good services       4        NaN   \n",
       "1  The food given in the restaurant was delicious...       5        NaN   \n",
       "2  The relaxed ambience of Thrissur was popular w...       3        NaN   \n",
       "3  The historical prestige and the hotel ambience...       4        NaN   \n",
       "4                           Hotel services were good       3        NaN   \n",
       "\n",
       "   sentiment  y                                       clean_review  \n",
       "0       Good  1                 tourist place provide good service  \n",
       "1  Excellent  3    food give restaurant delicious I find enjoyable  \n",
       "2       Good  1           relaxed ambience thrissur popular temple  \n",
       "3  Excellent  3  historical prestige hotel ambience good servic...  \n",
       "4  Very Good  2                                 hotel service good  "
      ]
     },
     "execution_count": 34,
     "metadata": {},
     "output_type": "execute_result"
    }
   ],
   "source": [
    "df.head()"
   ]
  },
  {
   "cell_type": "code",
   "execution_count": 35,
   "id": "b3619fc1",
   "metadata": {},
   "outputs": [
    {
     "name": "stderr",
     "output_type": "stream",
     "text": [
      "100%|██████████| 6/6 [00:00<?, ?it/s]\n"
     ]
    }
   ],
   "source": [
    "reviews = df.clean_review.values.tolist()\n",
    "from tqdm import tqdm    #type: ignore\n",
    "tqdm.pandas()\n",
    "df['clean_review2'] = df['clean_review'].progress_map(word_tokenizer)"
   ]
  },
  {
   "cell_type": "code",
   "execution_count": 36,
   "id": "32dc313f",
   "metadata": {},
   "outputs": [
    {
     "data": {
      "text/html": [
       "<div>\n",
       "<style scoped>\n",
       "    .dataframe tbody tr th:only-of-type {\n",
       "        vertical-align: middle;\n",
       "    }\n",
       "\n",
       "    .dataframe tbody tr th {\n",
       "        vertical-align: top;\n",
       "    }\n",
       "\n",
       "    .dataframe thead th {\n",
       "        text-align: right;\n",
       "    }\n",
       "</style>\n",
       "<table border=\"1\" class=\"dataframe\">\n",
       "  <thead>\n",
       "    <tr style=\"text-align: right;\">\n",
       "      <th></th>\n",
       "      <th>id</th>\n",
       "      <th>name</th>\n",
       "      <th>email</th>\n",
       "      <th>aspect</th>\n",
       "      <th>comments</th>\n",
       "      <th>rating</th>\n",
       "      <th>Unnamed: 6</th>\n",
       "      <th>sentiment</th>\n",
       "      <th>y</th>\n",
       "      <th>clean_review</th>\n",
       "      <th>clean_review2</th>\n",
       "    </tr>\n",
       "  </thead>\n",
       "  <tbody>\n",
       "    <tr>\n",
       "      <th>0</th>\n",
       "      <td>1</td>\n",
       "      <td>Yenugu Poojitha</td>\n",
       "      <td>yenugupoojithareddy3107@gmail.com</td>\n",
       "      <td>service</td>\n",
       "      <td>The tourist place had provided good services</td>\n",
       "      <td>4</td>\n",
       "      <td>NaN</td>\n",
       "      <td>Good</td>\n",
       "      <td>1</td>\n",
       "      <td>tourist place provide good service</td>\n",
       "      <td>[tourist, place, provide, good, service]</td>\n",
       "    </tr>\n",
       "    <tr>\n",
       "      <th>1</th>\n",
       "      <td>2</td>\n",
       "      <td>chitra</td>\n",
       "      <td>chitra123@gmail.com</td>\n",
       "      <td>food</td>\n",
       "      <td>The food given in the restaurant was delicious...</td>\n",
       "      <td>5</td>\n",
       "      <td>NaN</td>\n",
       "      <td>Excellent</td>\n",
       "      <td>3</td>\n",
       "      <td>food give restaurant delicious I find enjoyable</td>\n",
       "      <td>[food, give, restaurant, delicious, i, find, e...</td>\n",
       "    </tr>\n",
       "    <tr>\n",
       "      <th>2</th>\n",
       "      <td>3</td>\n",
       "      <td>saaket</td>\n",
       "      <td>saaket123@gmail.com</td>\n",
       "      <td>ambience</td>\n",
       "      <td>The relaxed ambience of Thrissur was popular w...</td>\n",
       "      <td>3</td>\n",
       "      <td>NaN</td>\n",
       "      <td>Good</td>\n",
       "      <td>1</td>\n",
       "      <td>relaxed ambience thrissur popular temple</td>\n",
       "      <td>[relaxed, ambience, thrissur, popular, temple]</td>\n",
       "    </tr>\n",
       "    <tr>\n",
       "      <th>3</th>\n",
       "      <td>4</td>\n",
       "      <td>sravani</td>\n",
       "      <td>sravani18@gmail.com</td>\n",
       "      <td>food</td>\n",
       "      <td>The historical prestige and the hotel ambience...</td>\n",
       "      <td>4</td>\n",
       "      <td>NaN</td>\n",
       "      <td>Excellent</td>\n",
       "      <td>3</td>\n",
       "      <td>historical prestige hotel ambience good servic...</td>\n",
       "      <td>[historical, prestige, hotel, ambience, good, ...</td>\n",
       "    </tr>\n",
       "    <tr>\n",
       "      <th>4</th>\n",
       "      <td>5</td>\n",
       "      <td>rishikesh</td>\n",
       "      <td>rishikesh31@gmail.com</td>\n",
       "      <td>service</td>\n",
       "      <td>Hotel services were good</td>\n",
       "      <td>3</td>\n",
       "      <td>NaN</td>\n",
       "      <td>Very Good</td>\n",
       "      <td>2</td>\n",
       "      <td>hotel service good</td>\n",
       "      <td>[hotel, service, good]</td>\n",
       "    </tr>\n",
       "    <tr>\n",
       "      <th>5</th>\n",
       "      <td>6</td>\n",
       "      <td>vinay</td>\n",
       "      <td>vinay14@gmail.com</td>\n",
       "      <td>hospitality</td>\n",
       "      <td>I became ill, so I was admitted in a hospital ...</td>\n",
       "      <td>3</td>\n",
       "      <td></td>\n",
       "      <td>Bad</td>\n",
       "      <td>-1</td>\n",
       "      <td>I become ill I admit hospital 3 day</td>\n",
       "      <td>[i, become, ill, i, admit, hospital, 3, day]</td>\n",
       "    </tr>\n",
       "  </tbody>\n",
       "</table>\n",
       "</div>"
      ],
      "text/plain": [
       "   id             name                              email       aspect  \\\n",
       "0   1  Yenugu Poojitha  yenugupoojithareddy3107@gmail.com      service   \n",
       "1   2           chitra                chitra123@gmail.com         food   \n",
       "2   3           saaket                saaket123@gmail.com     ambience   \n",
       "3   4          sravani                sravani18@gmail.com         food   \n",
       "4   5        rishikesh              rishikesh31@gmail.com      service   \n",
       "5   6            vinay                  vinay14@gmail.com  hospitality   \n",
       "\n",
       "                                            comments  rating Unnamed: 6  \\\n",
       "0       The tourist place had provided good services       4        NaN   \n",
       "1  The food given in the restaurant was delicious...       5        NaN   \n",
       "2  The relaxed ambience of Thrissur was popular w...       3        NaN   \n",
       "3  The historical prestige and the hotel ambience...       4        NaN   \n",
       "4                           Hotel services were good       3        NaN   \n",
       "5  I became ill, so I was admitted in a hospital ...       3              \n",
       "\n",
       "   sentiment  y                                       clean_review  \\\n",
       "0       Good  1                 tourist place provide good service   \n",
       "1  Excellent  3    food give restaurant delicious I find enjoyable   \n",
       "2       Good  1           relaxed ambience thrissur popular temple   \n",
       "3  Excellent  3  historical prestige hotel ambience good servic...   \n",
       "4  Very Good  2                                 hotel service good   \n",
       "5        Bad -1                I become ill I admit hospital 3 day   \n",
       "\n",
       "                                       clean_review2  \n",
       "0           [tourist, place, provide, good, service]  \n",
       "1  [food, give, restaurant, delicious, i, find, e...  \n",
       "2     [relaxed, ambience, thrissur, popular, temple]  \n",
       "3  [historical, prestige, hotel, ambience, good, ...  \n",
       "4                             [hotel, service, good]  \n",
       "5       [i, become, ill, i, admit, hospital, 3, day]  "
      ]
     },
     "execution_count": 36,
     "metadata": {},
     "output_type": "execute_result"
    }
   ],
   "source": [
    "df"
   ]
  },
  {
   "cell_type": "code",
   "execution_count": 37,
   "id": "f1d91736",
   "metadata": {},
   "outputs": [
    {
     "name": "stdout",
     "output_type": "stream",
     "text": [
      "[['tourist', 'place', 'provide', 'good', 'service'], ['food', 'give', 'restaurant', 'delicious', 'i', 'find', 'enjoyable'], ['relaxed', 'ambience', 'thrissur', 'popular', 'temple'], ['historical', 'prestige', 'hotel', 'ambience', 'good', 'service', 'point', 'good', 'trip'], ['hotel', 'service', 'good'], ['i', 'become', 'ill', 'i', 'admit', 'hospital', '3', 'day']]\n",
      "6\n"
     ]
    }
   ],
   "source": [
    "data_words = df['clean_review2'].values.tolist()\n",
    "print(data_words)\n",
    "print(len(data_words))"
   ]
  },
  {
   "cell_type": "code",
   "execution_count": 35,
   "id": "c9334aa0",
   "metadata": {},
   "outputs": [
    {
     "name": "stdout",
     "output_type": "stream",
     "text": [
      "Requirement already satisfied: gensim in c:\\users\\saaket\\anaconda3\\envs\\py39\\lib\\site-packages (4.3.3)\n",
      "Requirement already satisfied: numpy<2.0,>=1.18.5 in c:\\users\\saaket\\anaconda3\\envs\\py39\\lib\\site-packages (from gensim) (1.24.4)\n",
      "Requirement already satisfied: scipy<1.14.0,>=1.7.0 in c:\\users\\saaket\\anaconda3\\envs\\py39\\lib\\site-packages (from gensim) (1.8.1)\n",
      "Requirement already satisfied: smart-open>=1.8.1 in c:\\users\\saaket\\anaconda3\\envs\\py39\\lib\\site-packages (from gensim) (7.0.4)\n",
      "Requirement already satisfied: wrapt in c:\\users\\saaket\\anaconda3\\envs\\py39\\lib\\site-packages (from smart-open>=1.8.1->gensim) (1.16.0)\n"
     ]
    }
   ],
   "source": [
    "!python -m pip install gensim"
   ]
  },
  {
   "cell_type": "code",
   "execution_count": 38,
   "id": "2c6e5590",
   "metadata": {},
   "outputs": [
    {
     "name": "stdout",
     "output_type": "stream",
     "text": [
      "[(0, 1), (1, 1), (2, 1), (3, 1), (4, 1)]\n",
      "4.3.3 1.13.1\n"
     ]
    }
   ],
   "source": [
    "import gensim.corpora as corpora  #type: ignore\n",
    "# Create Dictionary\n",
    "id2word = corpora.Dictionary(data_words)\n",
    "# Create Corpus\n",
    "texts = data_words\n",
    "# Term Document Frequency\n",
    "corpus = [id2word.doc2bow(text) for text in texts]\n",
    "# View\n",
    "print(corpus[:1][0][:30])\n",
    "import gensim, scipy #type: ignore\n",
    "print(gensim.__version__, scipy.__version__)"
   ]
  },
  {
   "cell_type": "code",
   "execution_count": 39,
   "id": "7203fc28",
   "metadata": {},
   "outputs": [
    {
     "data": {
      "text/plain": [
       "('4.3.3', '1.13.1')"
      ]
     },
     "execution_count": 39,
     "metadata": {},
     "output_type": "execute_result"
    }
   ],
   "source": [
    "import gensim, scipy #type: ignore\n",
    "gensim.__version__, scipy.__version__"
   ]
  },
  {
   "cell_type": "code",
   "execution_count": 45,
   "id": "250963ee",
   "metadata": {},
   "outputs": [
    {
     "name": "stdout",
     "output_type": "stream",
     "text": [
      "Python 3.10.14\n"
     ]
    }
   ],
   "source": [
    "!python --version"
   ]
  },
  {
   "cell_type": "code",
   "execution_count": 40,
   "id": "ecab0388",
   "metadata": {},
   "outputs": [
    {
     "data": {
      "text/plain": [
       "'1.13.1'"
      ]
     },
     "execution_count": 40,
     "metadata": {},
     "output_type": "execute_result"
    }
   ],
   "source": [
    "import scipy as sp  #type: ignore\n",
    "sp.__version__"
   ]
  },
  {
   "cell_type": "code",
   "execution_count": 41,
   "id": "2e025269",
   "metadata": {},
   "outputs": [
    {
     "name": "stdout",
     "output_type": "stream",
     "text": [
      "[(0,\n",
      "  '0.036*\"good\" + 0.036*\"service\" + 0.036*\"hotel\" + 0.036*\"i\" + '\n",
      "  '0.036*\"ambience\" + 0.036*\"relaxed\" + 0.036*\"place\" + 0.036*\"popular\" + '\n",
      "  '0.036*\"become\" + 0.036*\"temple\"'),\n",
      " (1,\n",
      "  '0.088*\"good\" + 0.088*\"ambience\" + 0.046*\"hotel\" + 0.046*\"trip\" + '\n",
      "  '0.046*\"delicious\" + 0.046*\"prestige\" + 0.046*\"enjoyable\" + 0.046*\"service\" '\n",
      "  '+ 0.046*\"i\" + 0.046*\"restaurant\"'),\n",
      " (2,\n",
      "  '0.036*\"good\" + 0.036*\"service\" + 0.036*\"hotel\" + 0.036*\"i\" + '\n",
      "  '0.036*\"ambience\" + 0.036*\"relaxed\" + 0.036*\"place\" + 0.036*\"temple\" + '\n",
      "  '0.036*\"thrissur\" + 0.036*\"provide\"'),\n",
      " (3,\n",
      "  '0.036*\"good\" + 0.036*\"service\" + 0.036*\"hotel\" + 0.036*\"i\" + '\n",
      "  '0.036*\"relaxed\" + 0.036*\"ambience\" + 0.036*\"popular\" + 0.036*\"temple\" + '\n",
      "  '0.036*\"place\" + 0.036*\"become\"'),\n",
      " (4,\n",
      "  '0.036*\"good\" + 0.036*\"service\" + 0.036*\"i\" + 0.036*\"popular\" + '\n",
      "  '0.036*\"ambience\" + 0.036*\"relaxed\" + 0.036*\"tourist\" + 0.036*\"become\" + '\n",
      "  '0.036*\"temple\" + 0.036*\"hotel\"'),\n",
      " (5,\n",
      "  '0.152*\"i\" + 0.080*\"ill\" + 0.080*\"admit\" + 0.080*\"3\" + 0.080*\"hospital\" + '\n",
      "  '0.080*\"day\" + 0.080*\"become\" + 0.080*\"service\" + 0.080*\"hotel\" + '\n",
      "  '0.080*\"good\"'),\n",
      " (6,\n",
      "  '0.036*\"good\" + 0.036*\"service\" + 0.036*\"hotel\" + 0.036*\"i\" + '\n",
      "  '0.036*\"ambience\" + 0.036*\"temple\" + 0.036*\"relaxed\" + 0.036*\"popular\" + '\n",
      "  '0.036*\"provide\" + 0.036*\"place\"'),\n",
      " (7,\n",
      "  '0.141*\"service\" + 0.141*\"tourist\" + 0.141*\"provide\" + 0.141*\"good\" + '\n",
      "  '0.141*\"place\" + 0.013*\"hotel\" + 0.013*\"i\" + 0.013*\"ambience\" + '\n",
      "  '0.013*\"relaxed\" + 0.013*\"popular\"'),\n",
      " (8,\n",
      "  '0.036*\"good\" + 0.036*\"service\" + 0.036*\"hotel\" + 0.036*\"i\" + '\n",
      "  '0.036*\"relaxed\" + 0.036*\"place\" + 0.036*\"ambience\" + 0.036*\"popular\" + '\n",
      "  '0.036*\"temple\" + 0.036*\"find\"'),\n",
      " (9,\n",
      "  '0.036*\"good\" + 0.036*\"service\" + 0.036*\"hotel\" + 0.036*\"i\" + '\n",
      "  '0.036*\"ambience\" + 0.036*\"relaxed\" + 0.036*\"place\" + 0.036*\"temple\" + '\n",
      "  '0.036*\"provide\" + 0.036*\"become\"')]\n"
     ]
    }
   ],
   "source": [
    "from gensim.models import LdaMulticore   #type: ignore\n",
    "from gensim.models import LdaModel       #type: ignore\n",
    "from pprint import pprint\n",
    "# number of topics\n",
    "num_topics = 10\n",
    "# Build LDA model\n",
    "lda_model = LdaMulticore(corpus=corpus, id2word=id2word,\n",
    "                     num_topics=num_topics, iterations=400)\n",
    "# Print the Keyword in the 10 topics\n",
    "pprint(lda_model.print_topics())\n",
    "doc_lda = lda_model[corpus]"
   ]
  },
  {
   "cell_type": "code",
   "execution_count": 42,
   "id": "f6ffb51f",
   "metadata": {},
   "outputs": [
    {
     "name": "stdout",
     "output_type": "stream",
     "text": [
      "FastText<vocab=28, vector_size=100, alpha=0.025>\n",
      "CPU times: total: 1.09 s\n",
      "Wall time: 1.23 s\n"
     ]
    }
   ],
   "source": [
    "%%time\n",
    "from gensim.models import FastText\n",
    "fasttext_model = FastText(data_words, vector_size= 100, window=100, min_count=1, workers=5,sg=1)\n",
    "print(fasttext_model)"
   ]
  },
  {
   "cell_type": "code",
   "execution_count": 43,
   "id": "378317be",
   "metadata": {},
   "outputs": [
    {
     "name": "stdout",
     "output_type": "stream",
     "text": [
      "FastText<vocab=28, vector_size=100, alpha=0.025>\n",
      "CPU times: total: 1.02 s\n",
      "Wall time: 1.56 s\n"
     ]
    }
   ],
   "source": [
    "%%time\n",
    "from gensim.models import FastText\n",
    "fasttext_model1 = FastText(data_words, vector_size= 100, window=100, min_count=1, workers=5,sg=1)\n",
    "print(fasttext_model1)"
   ]
  },
  {
   "cell_type": "code",
   "execution_count": 44,
   "id": "d238425c",
   "metadata": {},
   "outputs": [
    {
     "name": "stdout",
     "output_type": "stream",
     "text": [
      "FastText<vocab=28, vector_size=100, alpha=0.025>\n",
      "CPU times: total: 797 ms\n",
      "Wall time: 1.68 s\n"
     ]
    }
   ],
   "source": [
    "%%time\n",
    "from gensim.models import FastText\n",
    "fasttext_model2 = FastText(data_words, vector_size= 100, window=100, min_count=1, workers=5,sg=1)\n",
    "print(fasttext_model2)"
   ]
  },
  {
   "cell_type": "code",
   "execution_count": 45,
   "id": "080ca52d",
   "metadata": {},
   "outputs": [
    {
     "name": "stdout",
     "output_type": "stream",
     "text": [
      "FastText<vocab=28, vector_size=100, alpha=0.025>\n",
      "CPU times: total: 859 ms\n",
      "Wall time: 1.18 s\n"
     ]
    }
   ],
   "source": [
    "%%time\n",
    "from gensim.models import FastText\n",
    "fasttext_model3 = FastText(data_words, vector_size= 100, window=100, min_count=1, workers=5,sg=1)\n",
    "print(fasttext_model3)"
   ]
  },
  {
   "cell_type": "code",
   "execution_count": 46,
   "id": "1eef2b82",
   "metadata": {},
   "outputs": [
    {
     "name": "stdout",
     "output_type": "stream",
     "text": [
      "0.15506542\n",
      "0.73245305\n"
     ]
    }
   ],
   "source": [
    "fasttext_model.save(\"FastText-Model-For-ABSA.bin\") #type: ignore\n",
    "print(fasttext_model.wv.n_similarity(\"Very Good\",\"service\")) # type: ignore\n",
    "print(fasttext_model.wv.n_similarity(\"Hotel services were good\",\"service\")) #type: ignore"
   ]
  },
  {
   "cell_type": "code",
   "execution_count": 47,
   "id": "e8c04790",
   "metadata": {},
   "outputs": [
    {
     "name": "stdout",
     "output_type": "stream",
     "text": [
      "-0.10728479\n",
      "0.21231219\n"
     ]
    }
   ],
   "source": [
    "fasttext_model1.save(\"FastText-Model-For-ABSA-1.bin\") #type: ignore\n",
    "print(fasttext_model.wv.n_similarity(\"Excellent\",\"food\")) #type: ignore\n",
    "print(fasttext_model.wv.n_similarity(\"The historical prestige and the hotel ambience was good and the service was on point. Good trip!\",\"food\")) #type: ignore"
   ]
  },
  {
   "cell_type": "code",
   "execution_count": 48,
   "id": "0b9738c3",
   "metadata": {},
   "outputs": [
    {
     "name": "stdout",
     "output_type": "stream",
     "text": [
      "0.32133222\n",
      "0.5149182\n"
     ]
    }
   ],
   "source": [
    "fasttext_model2.save(\"FastText-Model-For-ABSA-2.bin\")#type: ignore\n",
    "print(fasttext_model.wv.n_similarity(\"Bad\",\"hospitality\"))#type: ignore\n",
    "print(fasttext_model.wv.n_similarity(\"I became ill, so I was admitted in a hospital for 3 days.\",\"hospitality\"))#type: ignore"
   ]
  },
  {
   "cell_type": "code",
   "execution_count": 49,
   "id": "f07fcdce",
   "metadata": {},
   "outputs": [
    {
     "name": "stdout",
     "output_type": "stream",
     "text": [
      "-0.019609725\n",
      "0.58824587\n"
     ]
    }
   ],
   "source": [
    "fasttext_model3.save(\"FastText-Model-For-ABSA-3.bin\")#type: ignore\n",
    "print(fasttext_model.wv.n_similarity(\"Good\",\"ambience\"))#type: ignore\n",
    "print(fasttext_model.wv.n_similarity(\"The relaxed ambience of Thrissur was popular with temples.\",\"ambience\"))#type: ignore"
   ]
  },
  {
   "cell_type": "code",
   "execution_count": 50,
   "id": "6e2e3979",
   "metadata": {},
   "outputs": [
    {
     "data": {
      "text/html": [
       "<div>\n",
       "<style scoped>\n",
       "    .dataframe tbody tr th:only-of-type {\n",
       "        vertical-align: middle;\n",
       "    }\n",
       "\n",
       "    .dataframe tbody tr th {\n",
       "        vertical-align: top;\n",
       "    }\n",
       "\n",
       "    .dataframe thead th {\n",
       "        text-align: right;\n",
       "    }\n",
       "</style>\n",
       "<table border=\"1\" class=\"dataframe\">\n",
       "  <thead>\n",
       "    <tr style=\"text-align: right;\">\n",
       "      <th></th>\n",
       "      <th>id</th>\n",
       "      <th>name</th>\n",
       "      <th>email</th>\n",
       "      <th>aspect</th>\n",
       "      <th>comments</th>\n",
       "      <th>rating</th>\n",
       "      <th>Unnamed: 6</th>\n",
       "      <th>sentiment</th>\n",
       "      <th>y</th>\n",
       "      <th>clean_review</th>\n",
       "      <th>clean_review2</th>\n",
       "    </tr>\n",
       "  </thead>\n",
       "  <tbody>\n",
       "    <tr>\n",
       "      <th>0</th>\n",
       "      <td>1</td>\n",
       "      <td>Yenugu Poojitha</td>\n",
       "      <td>yenugupoojithareddy3107@gmail.com</td>\n",
       "      <td>service</td>\n",
       "      <td>The tourist place had provided good services</td>\n",
       "      <td>4</td>\n",
       "      <td>NaN</td>\n",
       "      <td>Good</td>\n",
       "      <td>1</td>\n",
       "      <td>tourist place provide good service</td>\n",
       "      <td>[tourist, place, provide, good, service]</td>\n",
       "    </tr>\n",
       "    <tr>\n",
       "      <th>1</th>\n",
       "      <td>2</td>\n",
       "      <td>chitra</td>\n",
       "      <td>chitra123@gmail.com</td>\n",
       "      <td>food</td>\n",
       "      <td>The food given in the restaurant was delicious...</td>\n",
       "      <td>5</td>\n",
       "      <td>NaN</td>\n",
       "      <td>Excellent</td>\n",
       "      <td>3</td>\n",
       "      <td>food give restaurant delicious I find enjoyable</td>\n",
       "      <td>[food, give, restaurant, delicious, i, find, e...</td>\n",
       "    </tr>\n",
       "    <tr>\n",
       "      <th>2</th>\n",
       "      <td>3</td>\n",
       "      <td>saaket</td>\n",
       "      <td>saaket123@gmail.com</td>\n",
       "      <td>ambience</td>\n",
       "      <td>The relaxed ambience of Thrissur was popular w...</td>\n",
       "      <td>3</td>\n",
       "      <td>NaN</td>\n",
       "      <td>Good</td>\n",
       "      <td>1</td>\n",
       "      <td>relaxed ambience thrissur popular temple</td>\n",
       "      <td>[relaxed, ambience, thrissur, popular, temple]</td>\n",
       "    </tr>\n",
       "    <tr>\n",
       "      <th>3</th>\n",
       "      <td>4</td>\n",
       "      <td>sravani</td>\n",
       "      <td>sravani18@gmail.com</td>\n",
       "      <td>food</td>\n",
       "      <td>The historical prestige and the hotel ambience...</td>\n",
       "      <td>4</td>\n",
       "      <td>NaN</td>\n",
       "      <td>Excellent</td>\n",
       "      <td>3</td>\n",
       "      <td>historical prestige hotel ambience good servic...</td>\n",
       "      <td>[historical, prestige, hotel, ambience, good, ...</td>\n",
       "    </tr>\n",
       "    <tr>\n",
       "      <th>4</th>\n",
       "      <td>5</td>\n",
       "      <td>rishikesh</td>\n",
       "      <td>rishikesh31@gmail.com</td>\n",
       "      <td>service</td>\n",
       "      <td>Hotel services were good</td>\n",
       "      <td>3</td>\n",
       "      <td>NaN</td>\n",
       "      <td>Very Good</td>\n",
       "      <td>2</td>\n",
       "      <td>hotel service good</td>\n",
       "      <td>[hotel, service, good]</td>\n",
       "    </tr>\n",
       "    <tr>\n",
       "      <th>5</th>\n",
       "      <td>6</td>\n",
       "      <td>vinay</td>\n",
       "      <td>vinay14@gmail.com</td>\n",
       "      <td>hospitality</td>\n",
       "      <td>I became ill, so I was admitted in a hospital ...</td>\n",
       "      <td>3</td>\n",
       "      <td></td>\n",
       "      <td>Bad</td>\n",
       "      <td>-1</td>\n",
       "      <td>I become ill I admit hospital 3 day</td>\n",
       "      <td>[i, become, ill, i, admit, hospital, 3, day]</td>\n",
       "    </tr>\n",
       "  </tbody>\n",
       "</table>\n",
       "</div>"
      ],
      "text/plain": [
       "   id             name                              email       aspect  \\\n",
       "0   1  Yenugu Poojitha  yenugupoojithareddy3107@gmail.com      service   \n",
       "1   2           chitra                chitra123@gmail.com         food   \n",
       "2   3           saaket                saaket123@gmail.com     ambience   \n",
       "3   4          sravani                sravani18@gmail.com         food   \n",
       "4   5        rishikesh              rishikesh31@gmail.com      service   \n",
       "5   6            vinay                  vinay14@gmail.com  hospitality   \n",
       "\n",
       "                                            comments  rating Unnamed: 6  \\\n",
       "0       The tourist place had provided good services       4        NaN   \n",
       "1  The food given in the restaurant was delicious...       5        NaN   \n",
       "2  The relaxed ambience of Thrissur was popular w...       3        NaN   \n",
       "3  The historical prestige and the hotel ambience...       4        NaN   \n",
       "4                           Hotel services were good       3        NaN   \n",
       "5  I became ill, so I was admitted in a hospital ...       3              \n",
       "\n",
       "   sentiment  y                                       clean_review  \\\n",
       "0       Good  1                 tourist place provide good service   \n",
       "1  Excellent  3    food give restaurant delicious I find enjoyable   \n",
       "2       Good  1           relaxed ambience thrissur popular temple   \n",
       "3  Excellent  3  historical prestige hotel ambience good servic...   \n",
       "4  Very Good  2                                 hotel service good   \n",
       "5        Bad -1                I become ill I admit hospital 3 day   \n",
       "\n",
       "                                       clean_review2  \n",
       "0           [tourist, place, provide, good, service]  \n",
       "1  [food, give, restaurant, delicious, i, find, e...  \n",
       "2     [relaxed, ambience, thrissur, popular, temple]  \n",
       "3  [historical, prestige, hotel, ambience, good, ...  \n",
       "4                             [hotel, service, good]  \n",
       "5       [i, become, ill, i, admit, hospital, 3, day]  "
      ]
     },
     "execution_count": 50,
     "metadata": {},
     "output_type": "execute_result"
    }
   ],
   "source": [
    "sentiment = ['Good','Excellent','Good','Excellent','Very Good','Bad']\n",
    "df['sentiment'] = sentiment\n",
    "df"
   ]
  },
  {
   "cell_type": "code",
   "execution_count": 51,
   "id": "a9f6dabc",
   "metadata": {},
   "outputs": [
    {
     "data": {
      "text/plain": [
       "<Figure size 2500x2000 with 0 Axes>"
      ]
     },
     "metadata": {},
     "output_type": "display_data"
    },
    {
     "data": {
      "image/png": "[encoded data removed]",
      "text/plain": [
       "<Figure size 2500x1000 with 2 Axes>"
      ]
     },
     "metadata": {},
     "output_type": "display_data"
    }
   ],
   "source": [
    "import missingno as msno  #type: ignore\n",
    "plt.figure(figsize=(25, 20))\n",
    "msno.matrix(df, color=[0.2, 0.4, 1])\n",
    "plt.show()"
   ]
  },
  {
   "cell_type": "code",
   "execution_count": 52,
   "id": "5cc0bb8d",
   "metadata": {},
   "outputs": [
    {
     "name": "stdout",
     "output_type": "stream",
     "text": [
      "Text before removing url:- \n",
      " ℍ𝕚 𝔼𝕧𝕖𝕣𝕪𝕠𝕟𝕖 𝕀 𝕒𝕞 𝔸𝕟𝕜𝕚𝕥 𝔾𝕦𝕡𝕥𝕒 𝕙𝕒𝕧𝕚𝕟𝕘 𝕥𝕙𝕖 𝕗𝕠𝕝𝕝𝕠𝕨𝕚𝕟𝕘 𝕂𝕒𝕘𝕘𝕝𝕖 𝕡𝕣𝕠𝕗𝕚𝕝𝕖 \n",
      " https://www.kaggle.com/nkitgupta 𝕒𝕟𝕕 𝕀 𝕒𝕞 😊 𝕥𝕠 𝕔𝕣𝕖𝕒𝕥𝕖 𝕥𝕙𝕚𝕤 𝕟𝕠𝕥𝕖𝕓𝕠𝕠𝕜\n",
      "Text after removing url:- \n",
      " ℍ𝕚 𝔼𝕧𝕖𝕣𝕪𝕠𝕟𝕖 𝕀 𝕒𝕞 𝔸𝕟𝕜𝕚𝕥 𝔾𝕦𝕡𝕥𝕒 𝕙𝕒𝕧𝕚𝕟𝕘 𝕥𝕙𝕖 𝕗𝕠𝕝𝕝𝕠𝕨𝕚𝕟𝕘 𝕂𝕒𝕘𝕘𝕝𝕖 𝕡𝕣𝕠𝕗𝕚𝕝𝕖 \n",
      "  𝕒𝕟𝕕 𝕀 𝕒𝕞 😊 𝕥𝕠 𝕔𝕣𝕖𝕒𝕥𝕖 𝕥𝕙𝕚𝕤 𝕟𝕠𝕥𝕖𝕓𝕠𝕠𝕜\n"
     ]
    }
   ],
   "source": [
    "import re\n",
    "def remove_url(text):\n",
    "    text = re.sub(r\"http\\S+\", \"\", text)\n",
    "    return text\n",
    "# Example string with weird font characters plus an URL which we gonna remove.\n",
    "sample = \"ℍ𝕚 𝔼𝕧𝕖𝕣𝕪𝕠𝕟𝕖 𝕀 𝕒𝕞 𝔸𝕟𝕜𝕚𝕥 𝔾𝕦𝕡𝕥𝕒 𝕙𝕒𝕧𝕚𝕟𝕘 𝕥𝕙𝕖 𝕗𝕠𝕝𝕝𝕠𝕨𝕚𝕟𝕘 𝕂𝕒𝕘𝕘𝕝𝕖 𝕡𝕣𝕠𝕗𝕚𝕝𝕖 \\n https://www.kaggle.com/nkitgupta 𝕒𝕟𝕕 𝕀 𝕒𝕞 😊 𝕥𝕠 𝕔𝕣𝕖𝕒𝕥𝕖 𝕥𝕙𝕚𝕤 𝕟𝕠𝕥𝕖𝕓𝕠𝕠𝕜\"\n",
    "print(f\"Text before removing url:- \\n {sample}\")\n",
    "\n",
    "sample = remove_url(sample)\n",
    "print(f\"Text after removing url:- \\n {sample}\")"
   ]
  },
  {
   "cell_type": "code",
   "execution_count": 53,
   "id": "eca09e3a",
   "metadata": {},
   "outputs": [
    {
     "name": "stdout",
     "output_type": "stream",
     "text": [
      "Ç Ç\n",
      "False\n",
      "False\n"
     ]
    }
   ],
   "source": [
    "print(\"\\u00C7\", \"\\u0043\\u0327\")\n",
    "print(\"\\u00C7\" == \"\\u0043\\u0327\")\n",
    "print(\"Ç\" == \"Ç\")"
   ]
  },
  {
   "cell_type": "code",
   "execution_count": 63,
   "id": "7cc22d77",
   "metadata": {},
   "outputs": [
    {
     "name": "stdout",
     "output_type": "stream",
     "text": [
      "Text before Unicode Normalization:- \n",
      " ℍ𝕚 𝔼𝕧𝕖𝕣𝕪𝕠𝕟𝕖 𝕀 𝕒𝕞 𝔸𝕟𝕜𝕚𝕥 𝔾𝕦𝕡𝕥𝕒 𝕙𝕒𝕧𝕚𝕟𝕘 𝕥𝕙𝕖 𝕗𝕠𝕝𝕝𝕠𝕨𝕚𝕟𝕘 𝕂𝕒𝕘𝕘𝕝𝕖 𝕡𝕣𝕠𝕗𝕚𝕝𝕖 \n",
      "  𝕒𝕟𝕕 𝕀 𝕒𝕞 😊 𝕥𝕠 𝕔𝕣𝕖𝕒𝕥𝕖 𝕥𝕙𝕚𝕤 𝕟𝕠𝕥𝕖𝕓𝕠𝕠𝕜\n",
      "Text after Unicode Normalization:- \n",
      " Hi Everyone I am Ankit Gupta having the following Kaggle profile \n",
      "  and I am 😊 to create this notebook\n"
     ]
    }
   ],
   "source": [
    "import unicodedata as uni\n",
    "print(f\"Text before Unicode Normalization:- \\n {sample}\")\n",
    "sample = uni.normalize('NFKD', sample)\n",
    "print(f\"Text after Unicode Normalization:- \\n {sample}\")"
   ]
  },
  {
   "cell_type": "code",
   "execution_count": 64,
   "id": "08fb83a4",
   "metadata": {},
   "outputs": [
    {
     "name": "stdout",
     "output_type": "stream",
     "text": [
      "Before Handling emoji:- \n",
      " Hi Everyone I am Ankit Gupta having the following Kaggle profile \n",
      "  and I am 😊 to create this notebook\n",
      "After Handling emoji:- \n",
      " Hi Everyone I am Ankit Gupta having the following Kaggle profile \n",
      "  and I am  smiling face with smiling eyes to create this notebook\n"
     ]
    }
   ],
   "source": [
    "import demoji  #type: ignore\n",
    "def handle_emoji(string):\n",
    "    emojis = demoji.findall(string)\n",
    "    for emoji in emojis:\n",
    "        string = string.replace(emoji, \" \" + emojis[emoji].split(\":\")[0])\n",
    "    return string\n",
    "print(f\"Before Handling emoji:- \\n {sample}\")\n",
    "print(f\"After Handling emoji:- \\n {handle_emoji(sample)}\")"
   ]
  },
  {
   "cell_type": "code",
   "execution_count": 65,
   "id": "8c1d42dc",
   "metadata": {},
   "outputs": [
    {
     "name": "stdout",
     "output_type": "stream",
     "text": [
      "Hi Everyone I am Ankit Gupta.\n",
      "['hi', 'everyone', 'i', 'am', 'ankit', 'gupta.']\n"
     ]
    }
   ],
   "source": [
    "def word_tokenizer(text):\n",
    "    text = text.lower()\n",
    "    text = text.split()\n",
    "    return text\n",
    "sample = \"Hi Everyone I am Ankit Gupta.\"\n",
    "print(sample)\n",
    "print(word_tokenizer(sample))"
   ]
  },
  {
   "cell_type": "code",
   "execution_count": 67,
   "id": "c847cf45",
   "metadata": {},
   "outputs": [
    {
     "name": "stdout",
     "output_type": "stream",
     "text": [
      "Stop Words in English : \n",
      "{'just', 'had', 'its', 'do', 'be', 'because', 'about', 'she', 'during', 'most', 'too', 'below', 'the', 'over', 'these', 'd', 'won', 'did', 'doesn', 'have', 'further', \"didn't\", 'out', 'in', 'after', 'y', 'weren', 'if', 'am', 'there', \"don't\", 'isn', 'her', 'themselves', 'does', 'theirs', 'will', 'under', 'them', 'which', \"hasn't\", 'shouldn', 'myself', \"mightn't\", 'were', \"needn't\", 'down', 'only', 'how', 'himself', 'haven', \"wasn't\", 'above', \"it's\", 'him', 'they', 'once', 've', 'this', 'our', 'why', 'hadn', 'same', 'so', 'an', \"you're\", 'it', 'yours', 'he', 'his', \"shan't\", 'whom', 'very', 'yourself', \"that'll\", \"she's\", 'needn', 'at', 'couldn', 'until', \"isn't\", 'can', \"should've\", 'off', 'against', 'itself', 'then', 'few', 'hasn', 'was', \"couldn't\", \"haven't\", 'to', 'with', \"weren't\", 'who', 'aren', 'of', 'shan', 'between', 'through', 'more', 'such', \"you'd\", 'other', 'what', \"you've\", 'their', 'nor', 'where', 'all', \"doesn't\", 'are', 'hers', 'here', 'than', 'm', \"shouldn't\", 'not', 'those', 'is', 'before', 'as', 'now', \"mustn't\", 're', 'o', 't', \"wouldn't\", 'when', 'didn', 'we', \"won't\", 'ourselves', 'i', 'herself', 'ain', 'each', 'wouldn', 'no', 'having', 'into', 'll', 'by', 'being', 'has', 'a', 'some', 'should', \"hadn't\", 'me', 'from', 'don', 'again', 'and', 'wasn', 'my', \"you'll\", 'mightn', 'up', 'doing', 'on', 'while', 'any', 's', 'ma', 'mustn', 'you', 'yourselves', 'for', 'your', \"aren't\", 'both', 'that', 'or', 'been', 'ours', 'own', 'but'}\n"
     ]
    }
   ],
   "source": [
    "from nltk.corpus import stopwords#type: ignore\n",
    "en_stopwords = set(stopwords.words('english'))\n",
    "print(f\"Stop Words in English : \\n{ en_stopwords}\")"
   ]
  },
  {
   "cell_type": "code",
   "execution_count": 68,
   "id": "f357adbc",
   "metadata": {},
   "outputs": [
    {
     "name": "stdout",
     "output_type": "stream",
     "text": [
      "Before removing stopwords : ['hi', 'everyone', 'i', 'am', 'ankit', 'gupta.']\n",
      "After removing stopwords : ['hi', 'everyone', 'ankit', 'gupta.']\n"
     ]
    }
   ],
   "source": [
    "def remove_stopwords(text):\n",
    "    text = [word for word in text if word not in en_stopwords]\n",
    "    return text\n",
    "print(f\"Before removing stopwords : {word_tokenizer(sample)}\")\n",
    "print(f\"After removing stopwords : {remove_stopwords(word_tokenizer(sample))}\")"
   ]
  },
  {
   "cell_type": "code",
   "execution_count": 69,
   "id": "d82c3934",
   "metadata": {},
   "outputs": [
    {
     "name": "stdout",
     "output_type": "stream",
     "text": [
      "Before Stemming : I am creating a Notebook\n",
      "After Stemming : ['i', 'am', 'creat', 'a', 'notebook']\n"
     ]
    }
   ],
   "source": [
    "from nltk.stem.porter import PorterStemmer#type: ignore\n",
    "from nltk.stem.lancaster import LancasterStemmer#type: ignore\n",
    "stemmer = PorterStemmer()\n",
    "# stemmer = LancasterStemmer()\n",
    "def stemming(text):\n",
    "    text = [stemmer.stem(word) for word in text]\n",
    "    return text\n",
    "sample = \"I am creating a Notebook\"\n",
    "print(f\"Before Stemming : {(sample)}\")\n",
    "print(f\"After Stemming : {stemming(word_tokenizer(sample))}\")"
   ]
  },
  {
   "cell_type": "code",
   "execution_count": 70,
   "id": "ef5d6382",
   "metadata": {},
   "outputs": [
    {
     "name": "stdout",
     "output_type": "stream",
     "text": [
      "Before Lemmatization : ['i', 'am', 'creating', 'a', 'notebook']\n",
      "After Lemmatization : ['I', 'be', 'create', 'a', 'notebook']\n"
     ]
    }
   ],
   "source": [
    "import spacy#type: ignore\n",
    "sp = spacy.load(\"en_core_web_sm\")\n",
    "def lemmatization(text):\n",
    "    # text = [sp(word).lemma_ for word in text]\n",
    "    text = \" \".join(text)\n",
    "    token = sp(text)\n",
    "    text = [word.lemma_ for word in token]\n",
    "    return text\n",
    "\n",
    "print(f\"Before Lemmatization : {word_tokenizer(sample)}\")\n",
    "print(f\"After Lemmatization : {lemmatization(word_tokenizer(sample))}\")"
   ]
  },
  {
   "cell_type": "code",
   "execution_count": 71,
   "id": "413d5bbe",
   "metadata": {},
   "outputs": [
    {
     "name": "stdout",
     "output_type": "stream",
     "text": [
      " \"Hi Everyone I am Ankit Gupta. : tl\n",
      "मेरा नाम अंकित गुप्ता है और मैं एक छात्र हूँ : hi\n"
     ]
    }
   ],
   "source": [
    "from langdetect import detect #type: ignore\n",
    "en_text = u\"\"\"\"Hi Everyone I am Ankit Gupta.\"\"\"\n",
    "print(f\" {en_text} : {detect(en_text)}\")\n",
    "\n",
    "hindi_text = u\"\"\"मेरा नाम अंकित गुप्ता है और मैं एक छात्र हूँ\"\"\"\n",
    "print(f\"{hindi_text} : {detect(hindi_text)}\")"
   ]
  },
  {
   "cell_type": "code",
   "execution_count": 73,
   "id": "7b5a82bd",
   "metadata": {},
   "outputs": [
    {
     "name": "stderr",
     "output_type": "stream",
     "text": [
      "100%|██████████| 6/6 [00:00<?, ?it/s]\n"
     ]
    },
    {
     "data": {
      "text/html": [
       "<div>\n",
       "<style scoped>\n",
       "    .dataframe tbody tr th:only-of-type {\n",
       "        vertical-align: middle;\n",
       "    }\n",
       "\n",
       "    .dataframe tbody tr th {\n",
       "        vertical-align: top;\n",
       "    }\n",
       "\n",
       "    .dataframe thead th {\n",
       "        text-align: right;\n",
       "    }\n",
       "</style>\n",
       "<table border=\"1\" class=\"dataframe\">\n",
       "  <thead>\n",
       "    <tr style=\"text-align: right;\">\n",
       "      <th></th>\n",
       "      <th>id</th>\n",
       "      <th>name</th>\n",
       "      <th>email</th>\n",
       "      <th>aspect</th>\n",
       "      <th>comments</th>\n",
       "      <th>rating</th>\n",
       "      <th>Unnamed: 6</th>\n",
       "      <th>sentiment</th>\n",
       "      <th>y</th>\n",
       "      <th>clean_review</th>\n",
       "      <th>clean_review2</th>\n",
       "    </tr>\n",
       "  </thead>\n",
       "  <tbody>\n",
       "    <tr>\n",
       "      <th>0</th>\n",
       "      <td>1</td>\n",
       "      <td>Yenugu Poojitha</td>\n",
       "      <td>yenugupoojithareddy3107@gmail.com</td>\n",
       "      <td>service</td>\n",
       "      <td>The tourist place had provided good services</td>\n",
       "      <td>4</td>\n",
       "      <td>NaN</td>\n",
       "      <td>Good</td>\n",
       "      <td>1</td>\n",
       "      <td>tourist place provide good service</td>\n",
       "      <td>[tourist, place, provide, good, service]</td>\n",
       "    </tr>\n",
       "    <tr>\n",
       "      <th>1</th>\n",
       "      <td>2</td>\n",
       "      <td>chitra</td>\n",
       "      <td>chitra123@gmail.com</td>\n",
       "      <td>food</td>\n",
       "      <td>The food given in the restaurant was delicious...</td>\n",
       "      <td>5</td>\n",
       "      <td>NaN</td>\n",
       "      <td>Excellent</td>\n",
       "      <td>3</td>\n",
       "      <td>food give restaurant delicious I find enjoyable</td>\n",
       "      <td>[food, give, restaurant, delicious, i, find, e...</td>\n",
       "    </tr>\n",
       "    <tr>\n",
       "      <th>2</th>\n",
       "      <td>3</td>\n",
       "      <td>saaket</td>\n",
       "      <td>saaket123@gmail.com</td>\n",
       "      <td>ambience</td>\n",
       "      <td>The relaxed ambience of Thrissur was popular w...</td>\n",
       "      <td>3</td>\n",
       "      <td>NaN</td>\n",
       "      <td>Good</td>\n",
       "      <td>1</td>\n",
       "      <td>relaxed ambience thrissur popular temple</td>\n",
       "      <td>[relaxed, ambience, thrissur, popular, temple]</td>\n",
       "    </tr>\n",
       "    <tr>\n",
       "      <th>3</th>\n",
       "      <td>4</td>\n",
       "      <td>sravani</td>\n",
       "      <td>sravani18@gmail.com</td>\n",
       "      <td>food</td>\n",
       "      <td>The historical prestige and the hotel ambience...</td>\n",
       "      <td>4</td>\n",
       "      <td>NaN</td>\n",
       "      <td>Excellent</td>\n",
       "      <td>3</td>\n",
       "      <td>historical prestige hotel ambience good servic...</td>\n",
       "      <td>[historical, prestige, hotel, ambience, good, ...</td>\n",
       "    </tr>\n",
       "    <tr>\n",
       "      <th>4</th>\n",
       "      <td>5</td>\n",
       "      <td>rishikesh</td>\n",
       "      <td>rishikesh31@gmail.com</td>\n",
       "      <td>service</td>\n",
       "      <td>Hotel services were good</td>\n",
       "      <td>3</td>\n",
       "      <td>NaN</td>\n",
       "      <td>Very Good</td>\n",
       "      <td>2</td>\n",
       "      <td>hotel service good</td>\n",
       "      <td>[hotel, service, good]</td>\n",
       "    </tr>\n",
       "    <tr>\n",
       "      <th>5</th>\n",
       "      <td>6</td>\n",
       "      <td>vinay</td>\n",
       "      <td>vinay14@gmail.com</td>\n",
       "      <td>hospitality</td>\n",
       "      <td>I became ill, so I was admitted in a hospital ...</td>\n",
       "      <td>3</td>\n",
       "      <td></td>\n",
       "      <td>Bad</td>\n",
       "      <td>-1</td>\n",
       "      <td>I become ill I admit hospital 3 day</td>\n",
       "      <td>[i, become, ill, i, admit, hospital, 3, day]</td>\n",
       "    </tr>\n",
       "  </tbody>\n",
       "</table>\n",
       "</div>"
      ],
      "text/plain": [
       "   id             name                              email       aspect  \\\n",
       "0   1  Yenugu Poojitha  yenugupoojithareddy3107@gmail.com      service   \n",
       "1   2           chitra                chitra123@gmail.com         food   \n",
       "2   3           saaket                saaket123@gmail.com     ambience   \n",
       "3   4          sravani                sravani18@gmail.com         food   \n",
       "4   5        rishikesh              rishikesh31@gmail.com      service   \n",
       "5   6            vinay                  vinay14@gmail.com  hospitality   \n",
       "\n",
       "                                            comments  rating Unnamed: 6  \\\n",
       "0       The tourist place had provided good services       4        NaN   \n",
       "1  The food given in the restaurant was delicious...       5        NaN   \n",
       "2  The relaxed ambience of Thrissur was popular w...       3        NaN   \n",
       "3  The historical prestige and the hotel ambience...       4        NaN   \n",
       "4                           Hotel services were good       3        NaN   \n",
       "5  I became ill, so I was admitted in a hospital ...       3              \n",
       "\n",
       "   sentiment  y                                       clean_review  \\\n",
       "0       Good  1                 tourist place provide good service   \n",
       "1  Excellent  3    food give restaurant delicious I find enjoyable   \n",
       "2       Good  1           relaxed ambience thrissur popular temple   \n",
       "3  Excellent  3  historical prestige hotel ambience good servic...   \n",
       "4  Very Good  2                                 hotel service good   \n",
       "5        Bad -1                I become ill I admit hospital 3 day   \n",
       "\n",
       "                                       clean_review2  \n",
       "0           [tourist, place, provide, good, service]  \n",
       "1  [food, give, restaurant, delicious, i, find, e...  \n",
       "2     [relaxed, ambience, thrissur, popular, temple]  \n",
       "3  [historical, prestige, hotel, ambience, good, ...  \n",
       "4                             [hotel, service, good]  \n",
       "5       [i, become, ill, i, admit, hospital, 3, day]  "
      ]
     },
     "execution_count": 73,
     "metadata": {},
     "output_type": "execute_result"
    }
   ],
   "source": [
    "# Assigning labels to each review\n",
    "def label(y):\n",
    "    if y=='Excellent':\n",
    "        return 3\n",
    "    elif y=='Very Good':\n",
    "        return 2\n",
    "    elif y=='Good':\n",
    "        return 1\n",
    "    else:\n",
    "        return -1\n",
    "\n",
    "from tqdm import tqdm#type: ignore\n",
    "tqdm.pandas()\n",
    "df['y'] = df.sentiment.progress_map(label)\n",
    "df"
   ]
  },
  {
   "cell_type": "code",
   "execution_count": 74,
   "id": "90838814",
   "metadata": {},
   "outputs": [
    {
     "data": {
      "image/png": "[encoded data removed]",
      "text/plain": [
       "<Figure size 640x480 with 1 Axes>"
      ]
     },
     "metadata": {},
     "output_type": "display_data"
    }
   ],
   "source": [
    "import seaborn as sns#type: ignore\n",
    "sns.countplot(x = \"y\", data = df)\n",
    "plt.show()"
   ]
  },
  {
   "cell_type": "code",
   "execution_count": 75,
   "id": "656475ee",
   "metadata": {},
   "outputs": [
    {
     "data": {
      "text/plain": [
       "2"
      ]
     },
     "execution_count": 75,
     "metadata": {},
     "output_type": "execute_result"
    }
   ],
   "source": [
    "P1 = df[(df['sentiment'] == 'Good')]\n",
    "positive = list(P[(P['comments'].str.len() > 4) & (P['comments'].str.len() < 350)]['comments'])\n",
    "len(positive)"
   ]
  },
  {
   "cell_type": "code",
   "execution_count": 76,
   "id": "4a22c5ca",
   "metadata": {},
   "outputs": [
    {
     "data": {
      "text/plain": [
       "1"
      ]
     },
     "execution_count": 76,
     "metadata": {},
     "output_type": "execute_result"
    }
   ],
   "source": [
    "P2 = df[(df['sentiment'] == 'Bad')]\n",
    "negative1 = list(P2[(P2['comments'].str.len() > 4) & (P2['comments'].str.len() < 350)]['comments'])\n",
    "len(negative1)"
   ]
  },
  {
   "cell_type": "code",
   "execution_count": 77,
   "id": "a02977b4",
   "metadata": {},
   "outputs": [
    {
     "data": {
      "text/plain": [
       "1"
      ]
     },
     "execution_count": 77,
     "metadata": {},
     "output_type": "execute_result"
    }
   ],
   "source": [
    "P3 = df[(df['sentiment'] == 'Very Good')]\n",
    "v_positive = list(P3[(P3['comments'].str.len() > 4) & (P3['comments'].str.len() < 350)]['comments'])\n",
    "len(v_positive)"
   ]
  },
  {
   "cell_type": "code",
   "execution_count": 78,
   "id": "b21101f0",
   "metadata": {},
   "outputs": [
    {
     "data": {
      "text/plain": [
       "2"
      ]
     },
     "execution_count": 78,
     "metadata": {},
     "output_type": "execute_result"
    }
   ],
   "source": [
    "P4 = df[(df['sentiment'] == 'Excellent')]\n",
    "vvpositive = list(P4[(P4['comments'].str.len() > 4) & (P4['comments'].str.len() < 350)]['comments'])\n",
    "len(vvpositive)"
   ]
  },
  {
   "cell_type": "code",
   "execution_count": 79,
   "id": "eadb1b4e",
   "metadata": {},
   "outputs": [
    {
     "data": {
      "text/plain": [
       "['The tourist place had provided good services',\n",
       " 'The relaxed ambience of Thrissur was popular with temples.']"
      ]
     },
     "execution_count": 79,
     "metadata": {},
     "output_type": "execute_result"
    }
   ],
   "source": [
    "import nlpaug.augmenter.word as naw #type: ignore\n",
    "positive[0:49]"
   ]
  },
  {
   "cell_type": "code",
   "execution_count": 80,
   "id": "1a45949d",
   "metadata": {},
   "outputs": [
    {
     "data": {
      "text/plain": [
       "['Hotel services were good']"
      ]
     },
     "execution_count": 80,
     "metadata": {},
     "output_type": "execute_result"
    }
   ],
   "source": [
    "v_positive[0:49]"
   ]
  },
  {
   "cell_type": "code",
   "execution_count": 81,
   "id": "561dabb4",
   "metadata": {},
   "outputs": [
    {
     "data": {
      "text/plain": [
       "['The food given in the restaurant was delicious. I found it enjoyable!',\n",
       " 'The historical prestige and the hotel ambience was good and the service was on point. Good trip!']"
      ]
     },
     "execution_count": 81,
     "metadata": {},
     "output_type": "execute_result"
    }
   ],
   "source": [
    "vvpositive[0:49]"
   ]
  },
  {
   "cell_type": "code",
   "execution_count": 82,
   "id": "02a98f07",
   "metadata": {},
   "outputs": [
    {
     "data": {
      "text/plain": [
       "['I became ill, so I was admitted in a hospital for 3 days.']"
      ]
     },
     "execution_count": 82,
     "metadata": {},
     "output_type": "execute_result"
    }
   ],
   "source": [
    "negative1[0:49]"
   ]
  },
  {
   "cell_type": "code",
   "execution_count": 83,
   "id": "de543f9e",
   "metadata": {},
   "outputs": [
    {
     "data": {
      "text/plain": [
       "2"
      ]
     },
     "execution_count": 83,
     "metadata": {},
     "output_type": "execute_result"
    }
   ],
   "source": [
    "aug = naw.AntonymAug(name='Antonym_Aug', aug_min=1, aug_max=10, aug_p=0.3, lang='eng', stopwords=en_stopwords, tokenizer=None,\n",
    "                     reverse_tokenizer=None, stopwords_regex=None, verbose=0)\n",
    "aug_negative = aug.augment(positive)\n",
    "len(aug_negative)"
   ]
  },
  {
   "cell_type": "code",
   "execution_count": 85,
   "id": "7580ed93",
   "metadata": {},
   "outputs": [
    {
     "name": "stderr",
     "output_type": "stream",
     "text": [
      "100%|██████████| 6/6 [00:00<00:00, 65.55it/s]\n"
     ]
    },
    {
     "data": {
      "text/html": [
       "<div>\n",
       "<style scoped>\n",
       "    .dataframe tbody tr th:only-of-type {\n",
       "        vertical-align: middle;\n",
       "    }\n",
       "\n",
       "    .dataframe tbody tr th {\n",
       "        vertical-align: top;\n",
       "    }\n",
       "\n",
       "    .dataframe thead th {\n",
       "        text-align: right;\n",
       "    }\n",
       "</style>\n",
       "<table border=\"1\" class=\"dataframe\">\n",
       "  <thead>\n",
       "    <tr style=\"text-align: right;\">\n",
       "      <th></th>\n",
       "      <th>id</th>\n",
       "      <th>name</th>\n",
       "      <th>email</th>\n",
       "      <th>aspect</th>\n",
       "      <th>comments</th>\n",
       "      <th>rating</th>\n",
       "      <th>Unnamed: 6</th>\n",
       "      <th>sentiment</th>\n",
       "      <th>y</th>\n",
       "      <th>clean_review</th>\n",
       "      <th>clean_review2</th>\n",
       "    </tr>\n",
       "  </thead>\n",
       "  <tbody>\n",
       "    <tr>\n",
       "      <th>0</th>\n",
       "      <td>1</td>\n",
       "      <td>Yenugu Poojitha</td>\n",
       "      <td>yenugupoojithareddy3107@gmail.com</td>\n",
       "      <td>service</td>\n",
       "      <td>The tourist place had provided good services</td>\n",
       "      <td>4</td>\n",
       "      <td>NaN</td>\n",
       "      <td>Good</td>\n",
       "      <td>1</td>\n",
       "      <td>tourist place provide good service</td>\n",
       "      <td>[tourist, place, provide, good, service]</td>\n",
       "    </tr>\n",
       "    <tr>\n",
       "      <th>1</th>\n",
       "      <td>2</td>\n",
       "      <td>chitra</td>\n",
       "      <td>chitra123@gmail.com</td>\n",
       "      <td>food</td>\n",
       "      <td>The food given in the restaurant was delicious...</td>\n",
       "      <td>5</td>\n",
       "      <td>NaN</td>\n",
       "      <td>Excellent</td>\n",
       "      <td>3</td>\n",
       "      <td>food give restaurant delicious I find enjoyable</td>\n",
       "      <td>[food, give, restaurant, delicious, i, find, e...</td>\n",
       "    </tr>\n",
       "    <tr>\n",
       "      <th>2</th>\n",
       "      <td>3</td>\n",
       "      <td>saaket</td>\n",
       "      <td>saaket123@gmail.com</td>\n",
       "      <td>ambience</td>\n",
       "      <td>The relaxed ambience of Thrissur was popular w...</td>\n",
       "      <td>3</td>\n",
       "      <td>NaN</td>\n",
       "      <td>Good</td>\n",
       "      <td>1</td>\n",
       "      <td>relaxed ambience thrissur popular temple</td>\n",
       "      <td>[relaxed, ambience, thrissur, popular, temple]</td>\n",
       "    </tr>\n",
       "    <tr>\n",
       "      <th>3</th>\n",
       "      <td>4</td>\n",
       "      <td>sravani</td>\n",
       "      <td>sravani18@gmail.com</td>\n",
       "      <td>food</td>\n",
       "      <td>The historical prestige and the hotel ambience...</td>\n",
       "      <td>4</td>\n",
       "      <td>NaN</td>\n",
       "      <td>Excellent</td>\n",
       "      <td>3</td>\n",
       "      <td>historical prestige hotel ambience good servic...</td>\n",
       "      <td>[historical, prestige, hotel, ambience, good, ...</td>\n",
       "    </tr>\n",
       "    <tr>\n",
       "      <th>4</th>\n",
       "      <td>5</td>\n",
       "      <td>rishikesh</td>\n",
       "      <td>rishikesh31@gmail.com</td>\n",
       "      <td>service</td>\n",
       "      <td>Hotel services were good</td>\n",
       "      <td>3</td>\n",
       "      <td>NaN</td>\n",
       "      <td>Very Good</td>\n",
       "      <td>2</td>\n",
       "      <td>hotel service good</td>\n",
       "      <td>[hotel, service, good]</td>\n",
       "    </tr>\n",
       "    <tr>\n",
       "      <th>5</th>\n",
       "      <td>6</td>\n",
       "      <td>vinay</td>\n",
       "      <td>vinay14@gmail.com</td>\n",
       "      <td>hospitality</td>\n",
       "      <td>I became ill, so I was admitted in a hospital ...</td>\n",
       "      <td>3</td>\n",
       "      <td></td>\n",
       "      <td>Bad</td>\n",
       "      <td>-1</td>\n",
       "      <td>I become ill I admit hospital 3 day</td>\n",
       "      <td>[i, become, ill, i, admit, hospital, 3, day]</td>\n",
       "    </tr>\n",
       "  </tbody>\n",
       "</table>\n",
       "</div>"
      ],
      "text/plain": [
       "   id             name                              email       aspect  \\\n",
       "0   1  Yenugu Poojitha  yenugupoojithareddy3107@gmail.com      service   \n",
       "1   2           chitra                chitra123@gmail.com         food   \n",
       "2   3           saaket                saaket123@gmail.com     ambience   \n",
       "3   4          sravani                sravani18@gmail.com         food   \n",
       "4   5        rishikesh              rishikesh31@gmail.com      service   \n",
       "5   6            vinay                  vinay14@gmail.com  hospitality   \n",
       "\n",
       "                                            comments  rating Unnamed: 6  \\\n",
       "0       The tourist place had provided good services       4        NaN   \n",
       "1  The food given in the restaurant was delicious...       5        NaN   \n",
       "2  The relaxed ambience of Thrissur was popular w...       3        NaN   \n",
       "3  The historical prestige and the hotel ambience...       4        NaN   \n",
       "4                           Hotel services were good       3        NaN   \n",
       "5  I became ill, so I was admitted in a hospital ...       3              \n",
       "\n",
       "   sentiment  y                                       clean_review  \\\n",
       "0       Good  1                 tourist place provide good service   \n",
       "1  Excellent  3    food give restaurant delicious I find enjoyable   \n",
       "2       Good  1           relaxed ambience thrissur popular temple   \n",
       "3  Excellent  3  historical prestige hotel ambience good servic...   \n",
       "4  Very Good  2                                 hotel service good   \n",
       "5        Bad -1                I become ill I admit hospital 3 day   \n",
       "\n",
       "                                       clean_review2  \n",
       "0           [tourist, place, provide, good, service]  \n",
       "1  [food, give, restaurant, delicious, i, find, e...  \n",
       "2     [relaxed, ambience, thrissur, popular, temple]  \n",
       "3  [historical, prestige, hotel, ambience, good, ...  \n",
       "4                             [hotel, service, good]  \n",
       "5       [i, become, ill, i, admit, hospital, 3, day]  "
      ]
     },
     "execution_count": 85,
     "metadata": {},
     "output_type": "execute_result"
    }
   ],
   "source": [
    "def preprocessing(text):\n",
    "    text = remove_url(text)\n",
    "    text = uni.normalize('NFKD', text)\n",
    "    text = handle_emoji(text)\n",
    "    text = text.lower()\n",
    "    text = re.sub(r'[^\\w\\s]', '', text)\n",
    "    text = word_tokenizer(text)\n",
    "    # text = stemming(text)\n",
    "    text = lemmatization(text)\n",
    "    text = remove_stopwords(text)\n",
    "    text = \" \".join(text)\n",
    "    return text\n",
    "from tqdm import tqdm#type: ignore\n",
    "tqdm.pandas()\n",
    "df['clean_review'] = df['comments'].progress_map(preprocessing)\n",
    "df"
   ]
  },
  {
   "cell_type": "code",
   "execution_count": 86,
   "id": "d3dd556b",
   "metadata": {},
   "outputs": [
    {
     "data": {
      "text/html": [
       "<div>\n",
       "<style scoped>\n",
       "    .dataframe tbody tr th:only-of-type {\n",
       "        vertical-align: middle;\n",
       "    }\n",
       "\n",
       "    .dataframe tbody tr th {\n",
       "        vertical-align: top;\n",
       "    }\n",
       "\n",
       "    .dataframe thead th {\n",
       "        text-align: right;\n",
       "    }\n",
       "</style>\n",
       "<table border=\"1\" class=\"dataframe\">\n",
       "  <thead>\n",
       "    <tr style=\"text-align: right;\">\n",
       "      <th></th>\n",
       "      <th>id</th>\n",
       "      <th>name</th>\n",
       "      <th>email</th>\n",
       "      <th>aspect</th>\n",
       "      <th>comments</th>\n",
       "      <th>rating</th>\n",
       "      <th>Unnamed: 6</th>\n",
       "      <th>sentiment</th>\n",
       "      <th>y</th>\n",
       "      <th>clean_review</th>\n",
       "      <th>clean_review2</th>\n",
       "    </tr>\n",
       "  </thead>\n",
       "  <tbody>\n",
       "    <tr>\n",
       "      <th>0</th>\n",
       "      <td>1</td>\n",
       "      <td>Yenugu Poojitha</td>\n",
       "      <td>yenugupoojithareddy3107@gmail.com</td>\n",
       "      <td>service</td>\n",
       "      <td>The tourist place had provided good services</td>\n",
       "      <td>4</td>\n",
       "      <td>NaN</td>\n",
       "      <td>Good</td>\n",
       "      <td>1</td>\n",
       "      <td>tourist place provide good service</td>\n",
       "      <td>[tourist, place, provide, good, service]</td>\n",
       "    </tr>\n",
       "    <tr>\n",
       "      <th>1</th>\n",
       "      <td>2</td>\n",
       "      <td>chitra</td>\n",
       "      <td>chitra123@gmail.com</td>\n",
       "      <td>food</td>\n",
       "      <td>The food given in the restaurant was delicious...</td>\n",
       "      <td>5</td>\n",
       "      <td>NaN</td>\n",
       "      <td>Excellent</td>\n",
       "      <td>3</td>\n",
       "      <td>food give restaurant delicious I find enjoyable</td>\n",
       "      <td>[food, give, restaurant, delicious, i, find, e...</td>\n",
       "    </tr>\n",
       "    <tr>\n",
       "      <th>2</th>\n",
       "      <td>3</td>\n",
       "      <td>saaket</td>\n",
       "      <td>saaket123@gmail.com</td>\n",
       "      <td>ambience</td>\n",
       "      <td>The relaxed ambience of Thrissur was popular w...</td>\n",
       "      <td>3</td>\n",
       "      <td>NaN</td>\n",
       "      <td>Good</td>\n",
       "      <td>1</td>\n",
       "      <td>relaxed ambience thrissur popular temple</td>\n",
       "      <td>[relaxed, ambience, thrissur, popular, temple]</td>\n",
       "    </tr>\n",
       "    <tr>\n",
       "      <th>3</th>\n",
       "      <td>4</td>\n",
       "      <td>sravani</td>\n",
       "      <td>sravani18@gmail.com</td>\n",
       "      <td>food</td>\n",
       "      <td>The historical prestige and the hotel ambience...</td>\n",
       "      <td>4</td>\n",
       "      <td>NaN</td>\n",
       "      <td>Excellent</td>\n",
       "      <td>3</td>\n",
       "      <td>historical prestige hotel ambience good servic...</td>\n",
       "      <td>[historical, prestige, hotel, ambience, good, ...</td>\n",
       "    </tr>\n",
       "    <tr>\n",
       "      <th>4</th>\n",
       "      <td>5</td>\n",
       "      <td>rishikesh</td>\n",
       "      <td>rishikesh31@gmail.com</td>\n",
       "      <td>service</td>\n",
       "      <td>Hotel services were good</td>\n",
       "      <td>3</td>\n",
       "      <td>NaN</td>\n",
       "      <td>Very Good</td>\n",
       "      <td>2</td>\n",
       "      <td>hotel service good</td>\n",
       "      <td>[hotel, service, good]</td>\n",
       "    </tr>\n",
       "  </tbody>\n",
       "</table>\n",
       "</div>"
      ],
      "text/plain": [
       "   id             name                              email    aspect  \\\n",
       "0   1  Yenugu Poojitha  yenugupoojithareddy3107@gmail.com   service   \n",
       "1   2           chitra                chitra123@gmail.com      food   \n",
       "2   3           saaket                saaket123@gmail.com  ambience   \n",
       "3   4          sravani                sravani18@gmail.com      food   \n",
       "4   5        rishikesh              rishikesh31@gmail.com   service   \n",
       "\n",
       "                                            comments  rating Unnamed: 6  \\\n",
       "0       The tourist place had provided good services       4        NaN   \n",
       "1  The food given in the restaurant was delicious...       5        NaN   \n",
       "2  The relaxed ambience of Thrissur was popular w...       3        NaN   \n",
       "3  The historical prestige and the hotel ambience...       4        NaN   \n",
       "4                           Hotel services were good       3        NaN   \n",
       "\n",
       "   sentiment  y                                       clean_review  \\\n",
       "0       Good  1                 tourist place provide good service   \n",
       "1  Excellent  3    food give restaurant delicious I find enjoyable   \n",
       "2       Good  1           relaxed ambience thrissur popular temple   \n",
       "3  Excellent  3  historical prestige hotel ambience good servic...   \n",
       "4  Very Good  2                                 hotel service good   \n",
       "\n",
       "                                       clean_review2  \n",
       "0           [tourist, place, provide, good, service]  \n",
       "1  [food, give, restaurant, delicious, i, find, e...  \n",
       "2     [relaxed, ambience, thrissur, popular, temple]  \n",
       "3  [historical, prestige, hotel, ambience, good, ...  \n",
       "4                             [hotel, service, good]  "
      ]
     },
     "execution_count": 86,
     "metadata": {},
     "output_type": "execute_result"
    }
   ],
   "source": [
    "df.head()"
   ]
  },
  {
   "cell_type": "code",
   "execution_count": 87,
   "id": "4da2c0db",
   "metadata": {},
   "outputs": [
    {
     "name": "stderr",
     "output_type": "stream",
     "text": [
      "100%|██████████| 6/6 [00:00<00:00, 6019.09it/s]\n"
     ]
    }
   ],
   "source": [
    "reviews = df.clean_review.values.tolist()\n",
    "from tqdm import tqdm#type: ignore\n",
    "tqdm.pandas()\n",
    "df['clean_review2'] = df['clean_review'].progress_map(word_tokenizer)"
   ]
  },
  {
   "cell_type": "code",
   "execution_count": 88,
   "id": "5540ee20",
   "metadata": {},
   "outputs": [
    {
     "data": {
      "text/plain": [
       "0             [tourist, place, provide, good, service]\n",
       "1    [food, give, restaurant, delicious, i, find, e...\n",
       "2       [relaxed, ambience, thrissur, popular, temple]\n",
       "3    [historical, prestige, hotel, ambience, good, ...\n",
       "4                               [hotel, service, good]\n",
       "5         [i, become, ill, i, admit, hospital, 3, day]\n",
       "Name: clean_review2, dtype: object"
      ]
     },
     "execution_count": 88,
     "metadata": {},
     "output_type": "execute_result"
    }
   ],
   "source": [
    "df['clean_review2']"
   ]
  },
  {
   "cell_type": "code",
   "execution_count": 89,
   "id": "3b0527d7",
   "metadata": {},
   "outputs": [
    {
     "name": "stdout",
     "output_type": "stream",
     "text": [
      "[['tourist', 'place', 'provide', 'good', 'service'], ['food', 'give', 'restaurant', 'delicious', 'i', 'find', 'enjoyable'], ['relaxed', 'ambience', 'thrissur', 'popular', 'temple'], ['historical', 'prestige', 'hotel', 'ambience', 'good', 'service', 'point', 'good', 'trip'], ['hotel', 'service', 'good'], ['i', 'become', 'ill', 'i', 'admit', 'hospital', '3', 'day']]\n",
      "6\n"
     ]
    }
   ],
   "source": [
    "data_words = df['clean_review2'].values.tolist()\n",
    "print(data_words)\n",
    "print(len(data_words))"
   ]
  },
  {
   "cell_type": "code",
   "execution_count": 90,
   "id": "ce2f72ce",
   "metadata": {},
   "outputs": [
    {
     "name": "stdout",
     "output_type": "stream",
     "text": [
      "[(0, 1), (1, 1), (2, 1), (3, 1), (4, 1)]\n"
     ]
    }
   ],
   "source": [
    "import gensim.corpora as corpora#type: ignore\n",
    "# Create Dictionary\n",
    "id2word = corpora.Dictionary(data_words)\n",
    "# Create Corpus\n",
    "texts = data_words\n",
    "# Term Document Frequency\n",
    "corpus = [id2word.doc2bow(text) for text in texts]\n",
    "# View\n",
    "print(corpus[:1][0][:30])"
   ]
  },
  {
   "cell_type": "code",
   "execution_count": 91,
   "id": "fbdc61ac",
   "metadata": {},
   "outputs": [
    {
     "name": "stdout",
     "output_type": "stream",
     "text": [
      "[(0,\n",
      "  '0.141*\"good\" + 0.141*\"place\" + 0.141*\"provide\" + 0.141*\"tourist\" + '\n",
      "  '0.141*\"service\" + 0.013*\"hotel\" + 0.013*\"ambience\" + 0.013*\"i\" + '\n",
      "  '0.013*\"popular\" + 0.013*\"thrissur\"'),\n",
      " (1,\n",
      "  '0.036*\"good\" + 0.036*\"service\" + 0.036*\"hotel\" + 0.036*\"ambience\" + '\n",
      "  '0.036*\"i\" + 0.036*\"popular\" + 0.036*\"temple\" + 0.036*\"provide\" + '\n",
      "  '0.036*\"place\" + 0.036*\"tourist\"'),\n",
      " (2,\n",
      "  '0.112*\"i\" + 0.112*\"find\" + 0.112*\"give\" + 0.112*\"delicious\" + '\n",
      "  '0.112*\"enjoyable\" + 0.112*\"restaurant\" + 0.112*\"food\" + 0.010*\"good\" + '\n",
      "  '0.010*\"service\" + 0.010*\"hotel\"'),\n",
      " (3,\n",
      "  '0.036*\"good\" + 0.036*\"service\" + 0.036*\"hotel\" + 0.036*\"ambience\" + '\n",
      "  '0.036*\"i\" + 0.036*\"popular\" + 0.036*\"place\" + 0.036*\"relaxed\" + '\n",
      "  '0.036*\"temple\" + 0.036*\"thrissur\"'),\n",
      " (4,\n",
      "  '0.190*\"service\" + 0.190*\"hotel\" + 0.190*\"good\" + 0.017*\"i\" + '\n",
      "  '0.017*\"ambience\" + 0.017*\"popular\" + 0.017*\"food\" + 0.017*\"temple\" + '\n",
      "  '0.017*\"thrissur\" + 0.017*\"provide\"'),\n",
      " (5,\n",
      "  '0.036*\"service\" + 0.036*\"good\" + 0.036*\"hotel\" + 0.036*\"i\" + '\n",
      "  '0.036*\"popular\" + 0.036*\"ambience\" + 0.036*\"relaxed\" + 0.036*\"thrissur\" + '\n",
      "  '0.036*\"place\" + 0.036*\"3\"'),\n",
      " (6,\n",
      "  '0.178*\"good\" + 0.093*\"service\" + 0.093*\"ambience\" + 0.093*\"point\" + '\n",
      "  '0.093*\"hotel\" + 0.093*\"prestige\" + 0.093*\"trip\" + 0.093*\"historical\" + '\n",
      "  '0.008*\"i\" + 0.008*\"provide\"'),\n",
      " (7,\n",
      "  '0.141*\"thrissur\" + 0.141*\"relaxed\" + 0.141*\"temple\" + 0.141*\"popular\" + '\n",
      "  '0.141*\"ambience\" + 0.013*\"good\" + 0.013*\"service\" + 0.013*\"hotel\" + '\n",
      "  '0.013*\"i\" + 0.013*\"provide\"'),\n",
      " (8,\n",
      "  '0.194*\"i\" + 0.102*\"ill\" + 0.102*\"admit\" + 0.102*\"day\" + 0.102*\"hospital\" + '\n",
      "  '0.102*\"3\" + 0.102*\"become\" + 0.009*\"good\" + 0.009*\"service\" + '\n",
      "  '0.009*\"hotel\"'),\n",
      " (9,\n",
      "  '0.036*\"good\" + 0.036*\"service\" + 0.036*\"hotel\" + 0.036*\"i\" + '\n",
      "  '0.036*\"ambience\" + 0.036*\"popular\" + 0.036*\"temple\" + 0.036*\"tourist\" + '\n",
      "  '0.036*\"place\" + 0.036*\"food\"')]\n"
     ]
    }
   ],
   "source": [
    "from gensim.models import LdaMulticore#type: ignore\n",
    "from gensim.models import LdaModel#type: ignore\n",
    "from pprint import pprint\n",
    "# number of topics\n",
    "num_topics = 10\n",
    "# Build LDA model\n",
    "lda_model = LdaMulticore(corpus=corpus, id2word=id2word,\n",
    "                     num_topics=num_topics, iterations=400)\n",
    "# Print the Keyword in the 10 topics\n",
    "pprint(lda_model.print_topics())\n",
    "doc_lda = lda_model[corpus]"
   ]
  },
  {
   "cell_type": "code",
   "execution_count": 92,
   "id": "7107a749",
   "metadata": {},
   "outputs": [
    {
     "name": "stdout",
     "output_type": "stream",
     "text": [
      "FastText<vocab=28, vector_size=100, alpha=0.025>\n",
      "CPU times: total: 1.92 s\n",
      "Wall time: 1.92 s\n"
     ]
    }
   ],
   "source": [
    "%%time\n",
    "from gensim.models import FastText\n",
    "fasttext_model = FastText(data_words, vector_size= 100, window=100, min_count=1, workers=5,sg=1)\n",
    "print(fasttext_model)"
   ]
  },
  {
   "cell_type": "code",
   "execution_count": 93,
   "id": "f83c79f8",
   "metadata": {},
   "outputs": [
    {
     "name": "stdout",
     "output_type": "stream",
     "text": [
      "FastText<vocab=28, vector_size=100, alpha=0.025>\n",
      "CPU times: total: 2.17 s\n",
      "Wall time: 2.3 s\n"
     ]
    }
   ],
   "source": [
    "%%time\n",
    "from gensim.models import FastText\n",
    "fasttext_model1 = FastText(data_words, vector_size= 100, window=100, min_count=1, workers=5,sg=1)\n",
    "print(fasttext_model1)"
   ]
  },
  {
   "cell_type": "code",
   "execution_count": 94,
   "id": "ea7e5856",
   "metadata": {},
   "outputs": [
    {
     "name": "stdout",
     "output_type": "stream",
     "text": [
      "FastText<vocab=28, vector_size=100, alpha=0.025>\n",
      "CPU times: total: 1.92 s\n",
      "Wall time: 1.98 s\n"
     ]
    }
   ],
   "source": [
    "%%time\n",
    "from gensim.models import FastText\n",
    "fasttext_model2 = FastText(data_words, vector_size= 100, window=100, min_count=1, workers=5,sg=1)\n",
    "print(fasttext_model2)"
   ]
  },
  {
   "cell_type": "code",
   "execution_count": 95,
   "id": "f0a0e9ea",
   "metadata": {},
   "outputs": [
    {
     "name": "stdout",
     "output_type": "stream",
     "text": [
      "FastText<vocab=28, vector_size=100, alpha=0.025>\n",
      "CPU times: total: 2.05 s\n",
      "Wall time: 2.07 s\n"
     ]
    }
   ],
   "source": [
    "%%time\n",
    "from gensim.models import FastText\n",
    "fasttext_model3 = FastText(data_words, vector_size= 100, window=100, min_count=1, workers=5,sg=1)\n",
    "print(fasttext_model3)"
   ]
  },
  {
   "cell_type": "code",
   "execution_count": 96,
   "id": "42ecd046",
   "metadata": {},
   "outputs": [
    {
     "name": "stdout",
     "output_type": "stream",
     "text": [
      "0.15506542\n",
      "0.73245305\n"
     ]
    }
   ],
   "source": [
    "fasttext_model.save(\"FastText-Model-For-ABSA.bin\")#type: ignore\n",
    "print(fasttext_model.wv.n_similarity(\"Very Good\",\"service\"))#type: ignore\n",
    "print(fasttext_model.wv.n_similarity(\"Hotel services were good\",\"service\"))#type: ignore"
   ]
  },
  {
   "cell_type": "code",
   "execution_count": 97,
   "id": "1a8af9ef",
   "metadata": {},
   "outputs": [
    {
     "name": "stdout",
     "output_type": "stream",
     "text": [
      "0.32133222\n",
      "0.5149182\n"
     ]
    }
   ],
   "source": [
    "fasttext_model1.save(\"FastText-Model-For-ABSA1.bin\")#type: ignore\n",
    "print(fasttext_model1.wv.n_similarity(\"Bad\",\"hospitality\"))#type: ignore\n",
    "print(fasttext_model1.wv.n_similarity(\"I became ill, so I was admitted in a hospital for 3 days.\",\"hospitality\"))#type: ignore"
   ]
  },
  {
   "cell_type": "code",
   "execution_count": 98,
   "id": "72d7fffe",
   "metadata": {},
   "outputs": [
    {
     "name": "stdout",
     "output_type": "stream",
     "text": [
      "-0.019609725\n",
      "0.58824587\n"
     ]
    }
   ],
   "source": [
    "fasttext_model2.save(\"FastText-Model-For-ABSA2.bin\")#type: ignore\n",
    "print(fasttext_model2.wv.n_similarity(\"Good\",\"ambience\"))#type: ignore\n",
    "print(fasttext_model2.wv.n_similarity(\"The relaxed ambience of Thrissur was popular with temples.\",\"ambience\"))#type: ignore"
   ]
  },
  {
   "cell_type": "code",
   "execution_count": 99,
   "id": "10142964",
   "metadata": {},
   "outputs": [
    {
     "name": "stdout",
     "output_type": "stream",
     "text": [
      "-0.10728479\n",
      "0.25900412\n"
     ]
    }
   ],
   "source": [
    "fasttext_model3.save(\"FastText-Model-For-ABSA3.bin\")#type: ignore\n",
    "print(fasttext_model3.wv.n_similarity(\"Excellent\",\"food\"))#type: ignore\n",
    "print(fasttext_model3.wv.n_similarity(\"The food given in the restaurant was delicious. I found it enjoyable!\",\"food\"))#type: ignore"
   ]
  },
  {
   "cell_type": "code",
   "execution_count": 100,
   "id": "8e66c31f",
   "metadata": {},
   "outputs": [],
   "source": [
    "aspect = [\"service\",\"food\",\"ambience\",\"hospitality\"]\n",
    "def get_similarity(text, aspect):\n",
    "    try:\n",
    "        text = \" \".join(text)\n",
    "        return fasttext_model.wv.n_similarity(text, aspect)   #type: ignore\n",
    "    except:\n",
    "        return 0"
   ]
  },
  {
   "cell_type": "code",
   "execution_count": 101,
   "id": "926aa08d",
   "metadata": {},
   "outputs": [],
   "source": [
    "aspect = [\"service\",\"food\",\"ambience\",\"hospitality\"]\n",
    "def get_similarity1(text, aspect):\n",
    "    try:\n",
    "        text = \" \".join(text)\n",
    "        return fasttext_model1.wv.n_similarity(text, aspect)#type: ignore\n",
    "    except:\n",
    "        return 0"
   ]
  },
  {
   "cell_type": "code",
   "execution_count": 102,
   "id": "7d21dc28",
   "metadata": {},
   "outputs": [],
   "source": [
    "aspect = [\"service\",\"food\",\"ambience\",\"hospitality\"]\n",
    "def get_similarity2(text, aspect):\n",
    "    try:\n",
    "        text = \" \".join(text)\n",
    "        return fasttext_model2.wv.n_similarity(text, aspect)#type: ignore\n",
    "    except:\n",
    "        return 0"
   ]
  },
  {
   "cell_type": "code",
   "execution_count": 103,
   "id": "3e318e0f",
   "metadata": {},
   "outputs": [],
   "source": [
    "aspect = [\"service\",\"food\",\"ambience\",\"hospitality\"]\n",
    "def get_similarity3(text, aspect):\n",
    "    try:\n",
    "        text = \" \".join(text)\n",
    "        return fasttext_model3.wv.n_similarity(text, aspect)#type: ignore\n",
    "    except:\n",
    "        return 0"
   ]
  },
  {
   "cell_type": "code",
   "execution_count": 104,
   "id": "7e8122e8",
   "metadata": {},
   "outputs": [
    {
     "name": "stdout",
     "output_type": "stream",
     "text": [
      "<module 'torch' from 'c:\\\\Users\\\\hp\\\\anaconda3\\\\envs\\\\py310\\\\lib\\\\site-packages\\\\torch\\\\__init__.py'>\n",
      "<module 'torch.nn' from 'c:\\\\Users\\\\hp\\\\anaconda3\\\\envs\\\\py310\\\\lib\\\\site-packages\\\\torch\\\\nn\\\\__init__.py'> <module 'tensorflow' from 'c:\\\\Users\\\\hp\\\\anaconda3\\\\envs\\\\py310\\\\lib\\\\site-packages\\\\tensorflow\\\\__init__.py'>\n"
     ]
    }
   ],
   "source": [
    "df.to_csv(\"Trip11.csv\", index = True)\n",
    "import torch                                 #type: ignore\n",
    "from torch import nn                         #type: ignore\n",
    "from torch.utils.data import Dataset          #type: ignore\n",
    "from torch.utils.data import DataLoader   #type: ignore\n",
    "from torch.utils.data import RandomSampler  #type: ignore\n",
    "import warnings\n",
    "print(torch)\n",
    "print(nn, tf)"
   ]
  },
  {
   "cell_type": "code",
   "execution_count": 105,
   "id": "a2456f32",
   "metadata": {},
   "outputs": [],
   "source": [
    "class config:\n",
    "    warnings.filterwarnings(\"ignore\", category = UserWarning)\n",
    "    IMG_SIZE = (224,224)\n",
    "    DEVICE = (\"cuda\" if torch.cuda.is_available() else \"cpu\")\n",
    "    FOLDS = 5\n",
    "    SHUFFLE = True\n",
    "    BATCH_SIZE = 32\n",
    "    LR = 0.01\n",
    "    EPOCHS = 30\n",
    "    EMB_DIM = 100\n",
    "    MAX_LEN = 20\n",
    "    MODEL_PATH = \"./Models/MyModel.pt\""
   ]
  },
  {
   "cell_type": "code",
   "execution_count": 106,
   "id": "405d6f2b",
   "metadata": {},
   "outputs": [
    {
     "data": {
      "text/html": [
       "<div>\n",
       "<style scoped>\n",
       "    .dataframe tbody tr th:only-of-type {\n",
       "        vertical-align: middle;\n",
       "    }\n",
       "\n",
       "    .dataframe tbody tr th {\n",
       "        vertical-align: top;\n",
       "    }\n",
       "\n",
       "    .dataframe thead th {\n",
       "        text-align: right;\n",
       "    }\n",
       "</style>\n",
       "<table border=\"1\" class=\"dataframe\">\n",
       "  <thead>\n",
       "    <tr style=\"text-align: right;\">\n",
       "      <th></th>\n",
       "      <th>id</th>\n",
       "      <th>name</th>\n",
       "      <th>email</th>\n",
       "      <th>aspect</th>\n",
       "      <th>comments</th>\n",
       "      <th>rating</th>\n",
       "      <th>Unnamed: 6</th>\n",
       "      <th>sentiment</th>\n",
       "      <th>y</th>\n",
       "      <th>clean_review</th>\n",
       "      <th>clean_review2</th>\n",
       "    </tr>\n",
       "  </thead>\n",
       "  <tbody>\n",
       "    <tr>\n",
       "      <th>0</th>\n",
       "      <td>1</td>\n",
       "      <td>Yenugu Poojitha</td>\n",
       "      <td>yenugupoojithareddy3107@gmail.com</td>\n",
       "      <td>service</td>\n",
       "      <td>The tourist place had provided good services</td>\n",
       "      <td>4</td>\n",
       "      <td>NaN</td>\n",
       "      <td>Good</td>\n",
       "      <td>1</td>\n",
       "      <td>tourist place provide good service</td>\n",
       "      <td>[tourist, place, provide, good, service]</td>\n",
       "    </tr>\n",
       "    <tr>\n",
       "      <th>1</th>\n",
       "      <td>2</td>\n",
       "      <td>chitra</td>\n",
       "      <td>chitra123@gmail.com</td>\n",
       "      <td>food</td>\n",
       "      <td>The food given in the restaurant was delicious...</td>\n",
       "      <td>5</td>\n",
       "      <td>NaN</td>\n",
       "      <td>Excellent</td>\n",
       "      <td>3</td>\n",
       "      <td>food give restaurant delicious I find enjoyable</td>\n",
       "      <td>[food, give, restaurant, delicious, i, find, e...</td>\n",
       "    </tr>\n",
       "    <tr>\n",
       "      <th>2</th>\n",
       "      <td>3</td>\n",
       "      <td>saaket</td>\n",
       "      <td>saaket123@gmail.com</td>\n",
       "      <td>ambience</td>\n",
       "      <td>The relaxed ambience of Thrissur was popular w...</td>\n",
       "      <td>3</td>\n",
       "      <td>NaN</td>\n",
       "      <td>Good</td>\n",
       "      <td>1</td>\n",
       "      <td>relaxed ambience thrissur popular temple</td>\n",
       "      <td>[relaxed, ambience, thrissur, popular, temple]</td>\n",
       "    </tr>\n",
       "    <tr>\n",
       "      <th>3</th>\n",
       "      <td>4</td>\n",
       "      <td>sravani</td>\n",
       "      <td>sravani18@gmail.com</td>\n",
       "      <td>food</td>\n",
       "      <td>The historical prestige and the hotel ambience...</td>\n",
       "      <td>4</td>\n",
       "      <td>NaN</td>\n",
       "      <td>Excellent</td>\n",
       "      <td>3</td>\n",
       "      <td>historical prestige hotel ambience good servic...</td>\n",
       "      <td>[historical, prestige, hotel, ambience, good, ...</td>\n",
       "    </tr>\n",
       "    <tr>\n",
       "      <th>4</th>\n",
       "      <td>5</td>\n",
       "      <td>rishikesh</td>\n",
       "      <td>rishikesh31@gmail.com</td>\n",
       "      <td>service</td>\n",
       "      <td>Hotel services were good</td>\n",
       "      <td>3</td>\n",
       "      <td>NaN</td>\n",
       "      <td>Very Good</td>\n",
       "      <td>2</td>\n",
       "      <td>hotel service good</td>\n",
       "      <td>[hotel, service, good]</td>\n",
       "    </tr>\n",
       "    <tr>\n",
       "      <th>5</th>\n",
       "      <td>6</td>\n",
       "      <td>vinay</td>\n",
       "      <td>vinay14@gmail.com</td>\n",
       "      <td>hospitality</td>\n",
       "      <td>I became ill, so I was admitted in a hospital ...</td>\n",
       "      <td>3</td>\n",
       "      <td></td>\n",
       "      <td>Bad</td>\n",
       "      <td>-1</td>\n",
       "      <td>I become ill I admit hospital 3 day</td>\n",
       "      <td>[i, become, ill, i, admit, hospital, 3, day]</td>\n",
       "    </tr>\n",
       "  </tbody>\n",
       "</table>\n",
       "</div>"
      ],
      "text/plain": [
       "   id             name                              email       aspect  \\\n",
       "0   1  Yenugu Poojitha  yenugupoojithareddy3107@gmail.com      service   \n",
       "1   2           chitra                chitra123@gmail.com         food   \n",
       "2   3           saaket                saaket123@gmail.com     ambience   \n",
       "3   4          sravani                sravani18@gmail.com         food   \n",
       "4   5        rishikesh              rishikesh31@gmail.com      service   \n",
       "5   6            vinay                  vinay14@gmail.com  hospitality   \n",
       "\n",
       "                                            comments  rating Unnamed: 6  \\\n",
       "0       The tourist place had provided good services       4        NaN   \n",
       "1  The food given in the restaurant was delicious...       5        NaN   \n",
       "2  The relaxed ambience of Thrissur was popular w...       3        NaN   \n",
       "3  The historical prestige and the hotel ambience...       4        NaN   \n",
       "4                           Hotel services were good       3        NaN   \n",
       "5  I became ill, so I was admitted in a hospital ...       3              \n",
       "\n",
       "   sentiment  y                                       clean_review  \\\n",
       "0       Good  1                 tourist place provide good service   \n",
       "1  Excellent  3    food give restaurant delicious I find enjoyable   \n",
       "2       Good  1           relaxed ambience thrissur popular temple   \n",
       "3  Excellent  3  historical prestige hotel ambience good servic...   \n",
       "4  Very Good  2                                 hotel service good   \n",
       "5        Bad -1                I become ill I admit hospital 3 day   \n",
       "\n",
       "                                       clean_review2  \n",
       "0           [tourist, place, provide, good, service]  \n",
       "1  [food, give, restaurant, delicious, i, find, e...  \n",
       "2     [relaxed, ambience, thrissur, popular, temple]  \n",
       "3  [historical, prestige, hotel, ambience, good, ...  \n",
       "4                             [hotel, service, good]  \n",
       "5       [i, become, ill, i, admit, hospital, 3, day]  "
      ]
     },
     "execution_count": 106,
     "metadata": {},
     "output_type": "execute_result"
    }
   ],
   "source": [
    "df.head(6)"
   ]
  },
  {
   "cell_type": "code",
   "execution_count": 107,
   "id": "18115b0e",
   "metadata": {},
   "outputs": [],
   "source": [
    "class Vocabulary:\n",
    "  \n",
    "    '''\n",
    "    __init__ method is called by default as soon as an object of this class is initiated\n",
    "    we use this method to initiate our vocab dictionaries\n",
    "    '''\n",
    "    def __init__(self, freq_threshold, max_size):\n",
    "        '''\n",
    "        freq_threshold : the minimum times a word must occur in corpus to be treated in vocab\n",
    "        max_size : max source vocab size. Eg. if set to 10,000, we pick the top 10,000 most frequent words and discard others\n",
    "        '''\n",
    "        #initiate the index to token dict\n",
    "        ## <PAD> -> padding, used for padding the shorter sentences in a batch to match the length of longest sentence in the batch\n",
    "        ## <SOS> -> start token, added in front of each sentence to signify the start of sentence\n",
    "        ## <EOS> -> End of sentence token, added to the end of each sentence to signify the end of sentence\n",
    "        ## <UNK> -> words which are not found in the vocab are replace by this token\n",
    "        self.itos = {0: '<PAD>', 1:'<SOS>', 2:'<EOS>', 3: '<UNK>'}\n",
    "        #initiate the token to index dict\n",
    "        self.stoi = {k:j for j,k in self.itos.items()} \n",
    "        \n",
    "        self.freq_threshold = freq_threshold\n",
    "        self.max_size = max_size\n",
    "    \n",
    "    '''\n",
    "    __len__ is used by dataloader later to create batches\n",
    "    '''\n",
    "    def __len__(self):\n",
    "        return len(self.itos)\n",
    "    \n",
    "    '''\n",
    "    a simple tokenizer to split on space and converts the sentence to list of words\n",
    "    '''\n",
    "    @staticmethod\n",
    "    def tokenizer(text):\n",
    "        return [tok.lower().strip() for tok in text.split(' ')]\n",
    "    \n",
    "    '''\n",
    "    build the vocab: create a dictionary mapping of index to string (itos) and string to index (stoi)\n",
    "    output ex. for stoi -> {'the':5, 'a':6, 'an':7}\n",
    "    '''\n",
    "    def build_vocabulary(self, sentence_list):\n",
    "        #calculate the frequencies of each word first to remove the words with freq < freq_threshold\n",
    "        frequencies = {}  #init the freq dict\n",
    "        idx = 4 #index from which we want our dict to start. We already used 4 indexes for pad, start, end, unk\n",
    "        #calculate freq of words\n",
    "        for sentence in sentence_list:\n",
    "            for word in self.tokenizer(sentence):\n",
    "                if word not in frequencies.keys():\n",
    "                    frequencies[word]=1\n",
    "                else:\n",
    "                    frequencies[word]+=1\n",
    "        #limit vocab by removing low freq words\n",
    "        frequencies = {k:v for k,v in frequencies.items() if v>self.freq_threshold} \n",
    "        #limit vocab to the max_size specified\n",
    "        frequencies = dict(sorted(frequencies.items(), key = lambda x: -x[1])[:self.max_size-idx]) # idx =4 for pad, start, end , unk\n",
    "        #create vocab\n",
    "        for word in frequencies.keys():\n",
    "            self.stoi[word] = idx\n",
    "            self.itos[idx] = word\n",
    "            idx+=1\n",
    "    '''\n",
    "    convert the list of words to a list of corresponding indexes\n",
    "    '''    \n",
    "    def numericalize(self, text):\n",
    "        #tokenize text\n",
    "        tokenized_text = self.tokenizer(text)\n",
    "        numericalized_text = []\n",
    "        for token in tokenized_text:\n",
    "            if token in self.stoi.keys():\n",
    "                numericalized_text.append(self.stoi[token])\n",
    "            else: #out-of-vocab words are represented by UNK token index\n",
    "                numericalized_text.append(self.stoi['<UNK>'])\n",
    "                \n",
    "        return numericalized_text"
   ]
  },
  {
   "cell_type": "code",
   "execution_count": 108,
   "id": "cf4d8a07",
   "metadata": {},
   "outputs": [],
   "source": [
    "from torch.utils.data import Dataset  # #type: ignore\n",
    "\n",
    "class CustomDataset(Dataset):\n",
    "    '''\n",
    "    Initiating Variables\n",
    "    df: the training dataframe\n",
    "    source_column : the name of source text column in the dataframe\n",
    "    transform : If we want to add any augmentation\n",
    "    freq_threshold : the minimum times a word must occur in corpus to be treated in vocab\n",
    "    source_vocab_max_size : max source vocab size\n",
    "    '''\n",
    "    \n",
    "    def __init__(self, df, source_column,freq_threshold = 3,\n",
    "                source_vocab_max_size = 10000 , transform=None):\n",
    "    \n",
    "        self.df = df\n",
    "        self.transform = transform\n",
    "        \n",
    "        #get source and target texts\n",
    "        self.source_texts = self.df[source_column]\n",
    "        \n",
    "        \n",
    "        ##VOCAB class has been created above\n",
    "        #Initialize source vocab object and build vocabulary\n",
    "        self.source_vocab = Vocabulary(freq_threshold, source_vocab_max_size)\n",
    "        self.source_vocab.build_vocabulary(self.source_texts.tolist())\n",
    "\n",
    "        \n",
    "    def __len__(self):\n",
    "        return len(self.df)\n",
    "    \n",
    "    '''\n",
    "    __getitem__ runs on 1 example at a time. Here, we get an example at index and return its numericalize source and\n",
    "    target values using the vocabulary objects we created in __init__\n",
    "    '''\n",
    "    def __getitem__(self, index):\n",
    "        source_text = self.source_texts[index]\n",
    "        \n",
    "        if self.transform is not None:\n",
    "            source_text = self.transform(source_text)\n",
    "            \n",
    "        #numericalize texts ['<SOS>','cat', 'in', 'a', 'bag','<EOS>'] -> [1,12,2,9,24,2]\n",
    "        numerialized_source = [self.source_vocab.stoi[\"<SOS>\"]]\n",
    "        numerialized_source += self.source_vocab.numericalize(source_text)\n",
    "        numerialized_source.append(self.source_vocab.stoi[\"<EOS>\"])\n",
    "        \n",
    "        #convert the list to tensor and return\n",
    "        return torch.tensor(numerialized_source), torch.tensor(self.df.y[index])"
   ]
  },
  {
   "cell_type": "code",
   "execution_count": 109,
   "id": "9271badd",
   "metadata": {},
   "outputs": [
    {
     "data": {
      "text/html": [
       "<div>\n",
       "<style scoped>\n",
       "    .dataframe tbody tr th:only-of-type {\n",
       "        vertical-align: middle;\n",
       "    }\n",
       "\n",
       "    .dataframe tbody tr th {\n",
       "        vertical-align: top;\n",
       "    }\n",
       "\n",
       "    .dataframe thead th {\n",
       "        text-align: right;\n",
       "    }\n",
       "</style>\n",
       "<table border=\"1\" class=\"dataframe\">\n",
       "  <thead>\n",
       "    <tr style=\"text-align: right;\">\n",
       "      <th></th>\n",
       "      <th>id</th>\n",
       "      <th>name</th>\n",
       "      <th>email</th>\n",
       "      <th>aspect</th>\n",
       "      <th>comments</th>\n",
       "      <th>rating</th>\n",
       "      <th>Unnamed: 6</th>\n",
       "      <th>sentiment</th>\n",
       "      <th>y</th>\n",
       "      <th>clean_review</th>\n",
       "      <th>clean_review2</th>\n",
       "    </tr>\n",
       "  </thead>\n",
       "  <tbody>\n",
       "    <tr>\n",
       "      <th>0</th>\n",
       "      <td>1</td>\n",
       "      <td>Yenugu Poojitha</td>\n",
       "      <td>yenugupoojithareddy3107@gmail.com</td>\n",
       "      <td>service</td>\n",
       "      <td>The tourist place had provided good services</td>\n",
       "      <td>4</td>\n",
       "      <td>NaN</td>\n",
       "      <td>Good</td>\n",
       "      <td>1</td>\n",
       "      <td>tourist place provide good service</td>\n",
       "      <td>[tourist, place, provide, good, service]</td>\n",
       "    </tr>\n",
       "    <tr>\n",
       "      <th>1</th>\n",
       "      <td>2</td>\n",
       "      <td>chitra</td>\n",
       "      <td>chitra123@gmail.com</td>\n",
       "      <td>food</td>\n",
       "      <td>The food given in the restaurant was delicious...</td>\n",
       "      <td>5</td>\n",
       "      <td>NaN</td>\n",
       "      <td>Excellent</td>\n",
       "      <td>3</td>\n",
       "      <td>food give restaurant delicious I find enjoyable</td>\n",
       "      <td>[food, give, restaurant, delicious, i, find, e...</td>\n",
       "    </tr>\n",
       "    <tr>\n",
       "      <th>2</th>\n",
       "      <td>3</td>\n",
       "      <td>saaket</td>\n",
       "      <td>saaket123@gmail.com</td>\n",
       "      <td>ambience</td>\n",
       "      <td>The relaxed ambience of Thrissur was popular w...</td>\n",
       "      <td>3</td>\n",
       "      <td>NaN</td>\n",
       "      <td>Good</td>\n",
       "      <td>1</td>\n",
       "      <td>relaxed ambience thrissur popular temple</td>\n",
       "      <td>[relaxed, ambience, thrissur, popular, temple]</td>\n",
       "    </tr>\n",
       "    <tr>\n",
       "      <th>3</th>\n",
       "      <td>4</td>\n",
       "      <td>sravani</td>\n",
       "      <td>sravani18@gmail.com</td>\n",
       "      <td>food</td>\n",
       "      <td>The historical prestige and the hotel ambience...</td>\n",
       "      <td>4</td>\n",
       "      <td>NaN</td>\n",
       "      <td>Excellent</td>\n",
       "      <td>3</td>\n",
       "      <td>historical prestige hotel ambience good servic...</td>\n",
       "      <td>[historical, prestige, hotel, ambience, good, ...</td>\n",
       "    </tr>\n",
       "    <tr>\n",
       "      <th>4</th>\n",
       "      <td>5</td>\n",
       "      <td>rishikesh</td>\n",
       "      <td>rishikesh31@gmail.com</td>\n",
       "      <td>service</td>\n",
       "      <td>Hotel services were good</td>\n",
       "      <td>3</td>\n",
       "      <td>NaN</td>\n",
       "      <td>Very Good</td>\n",
       "      <td>2</td>\n",
       "      <td>hotel service good</td>\n",
       "      <td>[hotel, service, good]</td>\n",
       "    </tr>\n",
       "  </tbody>\n",
       "</table>\n",
       "</div>"
      ],
      "text/plain": [
       "   id             name                              email    aspect  \\\n",
       "0   1  Yenugu Poojitha  yenugupoojithareddy3107@gmail.com   service   \n",
       "1   2           chitra                chitra123@gmail.com      food   \n",
       "2   3           saaket                saaket123@gmail.com  ambience   \n",
       "3   4          sravani                sravani18@gmail.com      food   \n",
       "4   5        rishikesh              rishikesh31@gmail.com   service   \n",
       "\n",
       "                                            comments  rating Unnamed: 6  \\\n",
       "0       The tourist place had provided good services       4        NaN   \n",
       "1  The food given in the restaurant was delicious...       5        NaN   \n",
       "2  The relaxed ambience of Thrissur was popular w...       3        NaN   \n",
       "3  The historical prestige and the hotel ambience...       4        NaN   \n",
       "4                           Hotel services were good       3        NaN   \n",
       "\n",
       "   sentiment  y                                       clean_review  \\\n",
       "0       Good  1                 tourist place provide good service   \n",
       "1  Excellent  3    food give restaurant delicious I find enjoyable   \n",
       "2       Good  1           relaxed ambience thrissur popular temple   \n",
       "3  Excellent  3  historical prestige hotel ambience good servic...   \n",
       "4  Very Good  2                                 hotel service good   \n",
       "\n",
       "                                       clean_review2  \n",
       "0           [tourist, place, provide, good, service]  \n",
       "1  [food, give, restaurant, delicious, i, find, e...  \n",
       "2     [relaxed, ambience, thrissur, popular, temple]  \n",
       "3  [historical, prestige, hotel, ambience, good, ...  \n",
       "4                             [hotel, service, good]  "
      ]
     },
     "execution_count": 109,
     "metadata": {},
     "output_type": "execute_result"
    }
   ],
   "source": [
    "df.head()"
   ]
  },
  {
   "cell_type": "code",
   "execution_count": 110,
   "id": "0d7df032",
   "metadata": {},
   "outputs": [
    {
     "data": {
      "text/plain": [
       "5"
      ]
     },
     "execution_count": 110,
     "metadata": {},
     "output_type": "execute_result"
    }
   ],
   "source": [
    "dataset = CustomDataset(df, \"clean_review\")\n",
    "len(dataset.source_vocab.stoi)"
   ]
  },
  {
   "cell_type": "code",
   "execution_count": 111,
   "id": "556ffd16",
   "metadata": {},
   "outputs": [],
   "source": [
    "import pickle\n",
    "with open('dataset-new', 'wb') as dataset_file:\n",
    "  # Step 3\n",
    "    pickle.dump(dataset, dataset_file, pickle.HIGHEST_PROTOCOL)\n",
    "# import pickle"
   ]
  },
  {
   "cell_type": "code",
   "execution_count": 112,
   "id": "cd436104",
   "metadata": {},
   "outputs": [],
   "source": [
    "def get_emb_layer_with_weights(target_vocab, emb_model, trainable = False):\n",
    "    weights_matrix = np.zeros((len(target_vocab), config.EMB_DIM))\n",
    "    words_found = 0\n",
    "    for i, word in enumerate(target_vocab):\n",
    "        weights_matrix[i] = np.concatenate([emb_model.wv[word]])\n",
    "        words_found += 1\n",
    "    print(f\"Words found are : {words_found}\")\n",
    "    weights_matrix = torch.tensor(weights_matrix, dtype = torch.float32).reshape(len(target_vocab), config.EMB_DIM)\n",
    "    emb_layer = nn.Embedding.from_pretrained(weights_matrix)\n",
    "    print(emb_layer)\n",
    "    if trainable:\n",
    "        emb_layer.weight.requires_grad = True\n",
    "    else:\n",
    "        emb_layer.weight.requires_grad = False\n",
    "    return emb_layer"
   ]
  },
  {
   "cell_type": "code",
   "execution_count": 113,
   "id": "a76a6a52",
   "metadata": {},
   "outputs": [],
   "source": [
    "class MyCollate:\n",
    "    def __init__(self, pad_idx, maxlen):\n",
    "        self.pad_idx = pad_idx\n",
    "        self.maxlen = maxlen\n",
    "    #__call__: a default method\n",
    "    ##   First the obj is created using MyCollate(pad_idx) in data loader\n",
    "    ##   Then if obj(batch) is called -> __call__ runs by default\n",
    "    def __call__(self, batch):\n",
    "        #get all source indexed sentences of the batch\n",
    "        source = [item[0] for item in batch]\n",
    "        #pad them using pad_sequence method from pytorch.\n",
    "#         source = pad_sequence(source, batch_first=False, padding_value = self.pad_idx)\n",
    "        padded_sequence = torch.zeros((self.maxlen, len(batch)), dtype = torch.int)\n",
    "        for idx, text in enumerate(source):\n",
    "            if len(text) > self.maxlen:\n",
    "                padded_sequence[:, idx] = source[idx][: self.maxlen]\n",
    "            else:\n",
    "                padded_sequence[:len(source[idx]), idx] = padded_sequence[:len(source[idx]), idx] + source[idx]\n",
    "        #get all target indexed sentences of the batch\n",
    "        target = [item[1] for item in batch]\n",
    "        target = torch.tensor(target, dtype = torch.float32).reshape(-1)\n",
    "        return padded_sequence, target"
   ]
  },
  {
   "cell_type": "code",
   "execution_count": 114,
   "id": "b949891f",
   "metadata": {},
   "outputs": [],
   "source": [
    "class Model(nn.Module):\n",
    "    def __init__(self, input_dim, embedding_dim, hidden_dim, output_dim, embedding_layer):\n",
    "        super().__init__()\n",
    "#         self.embedding = nn.Embedding(input_dim, embedding_dim)\n",
    "        self.hidden_dim = hidden_dim\n",
    "        self.embedding = embedding_layer\n",
    "        self.lstm = nn.LSTM(embedding_dim, hidden_dim, bidirectional = True)\n",
    "        self.fc1 = nn.Linear(2*hidden_dim, 128)\n",
    "        self.fc2 = nn.Linear(128, output_dim)\n",
    "        self.dropout = nn.Dropout(0.3)\n",
    "        self.sigmoid = nn.Sigmoid()\n",
    "\n",
    "\n",
    "        \n",
    "    def forward(self, text):\n",
    "        \n",
    "        max_len, N = text.shape\n",
    "        hidden = torch.zeros((2, N , self.hidden_dim),\n",
    "                          dtype=torch.float)\n",
    "        memory = torch.zeros((2, N , self.hidden_dim),\n",
    "                          dtype=torch.float)\n",
    "        hidden = hidden.to(config.DEVICE)\n",
    "        memory = memory.to(config.DEVICE)\n",
    "        embedded = self.embedding(text)\n",
    "        output, hidden = self.lstm(embedded, (hidden, memory))\n",
    "#         assert torch.equal(output[-1,:,:], hidden.squeeze(0))\n",
    "        y_pred = output[-1,:,:]\n",
    "        y_pred = self.fc1(y_pred)\n",
    "        y_pred = self.fc2(y_pred)\n",
    "        y_pred = self.sigmoid(y_pred)\n",
    "        return y_pred"
   ]
  },
  {
   "cell_type": "code",
   "execution_count": 115,
   "id": "78260283",
   "metadata": {},
   "outputs": [],
   "source": [
    "def train_epochs(dataloader,model, loss_fn, optimizer):\n",
    "    train_correct = 0\n",
    "    train_loss = 0\n",
    "\n",
    "    model.train()\n",
    "\n",
    "    for review, label in tqdm(dataloader):\n",
    "\n",
    "        review, label = review.to(config.DEVICE), label.to(config.DEVICE)\n",
    "        optimizer.zero_grad()\n",
    "        output = model(review)\n",
    "        output = output.reshape(-1)\n",
    "        loss = loss_fn(output, label)\n",
    "        loss.backward()\n",
    "        optimizer.step()\n",
    "        \n",
    "        train_loss += loss.item()*review.size(1)\n",
    "        prediction = (output > 0.5).float()\n",
    "        train_correct += (prediction == label).float().sum()\n",
    "        \n",
    "    return train_loss, train_correct"
   ]
  },
  {
   "cell_type": "code",
   "execution_count": 116,
   "id": "b75d27ac",
   "metadata": {},
   "outputs": [],
   "source": [
    "def val_epochs(dataloader, model, loss_fn):\n",
    "    val_correct = 0\n",
    "    val_loss = 0\n",
    "    \n",
    "    model.eval()\n",
    "#     hidden = model.init_hidden(config.BATCH_SIZE)\n",
    "\n",
    "    for review, label in dataloader:\n",
    "        \n",
    "        review, label = review.to(config.DEVICE), label.to(config.DEVICE)\n",
    "        \n",
    "        output = model(review)\n",
    "        output = output.reshape(-1)\n",
    "\n",
    "        loss = loss_fn(output, label)\n",
    "        \n",
    "        val_loss += loss.item()*review.size(1)\n",
    "        prediction = (output > 0.5).float()\n",
    "        val_correct += (prediction == label).float().sum()\n",
    "#         prediction = \n",
    "    return val_loss, val_correct"
   ]
  },
  {
   "cell_type": "code",
   "execution_count": 117,
   "id": "3e89dc88",
   "metadata": {},
   "outputs": [
    {
     "name": "stdout",
     "output_type": "stream",
     "text": [
      "Words found are : 5\n",
      "Embedding(5, 100)\n",
      "-----------------------------------------------------------0-fold of the model-----------------------------------------------------------\n"
     ]
    },
    {
     "name": "stderr",
     "output_type": "stream",
     "text": [
      "  0%|          | 0/1 [00:00<?, ?it/s]\n"
     ]
    },
    {
     "ename": "RuntimeError",
     "evalue": "all elements of target should be between 0 and 1",
     "output_type": "error",
     "traceback": [
      "\u001b[1;31m---------------------------------------------------------------------------\u001b[0m",
      "\u001b[1;31mRuntimeError\u001b[0m                              Traceback (most recent call last)",
      "Cell \u001b[1;32mIn[117], line 47\u001b[0m\n\u001b[0;32m     45\u001b[0m \u001b[38;5;28mprint\u001b[39m(\u001b[38;5;124mf\u001b[39m\u001b[38;5;124m\"\u001b[39m\u001b[38;5;124m-----------------------------------------------------------\u001b[39m\u001b[38;5;132;01m{\u001b[39;00mfold\u001b[38;5;132;01m}\u001b[39;00m\u001b[38;5;124m-fold of the model-----------------------------------------------------------\u001b[39m\u001b[38;5;124m\"\u001b[39m)\n\u001b[0;32m     46\u001b[0m \u001b[38;5;28;01mfor\u001b[39;00m epoch \u001b[38;5;129;01min\u001b[39;00m \u001b[38;5;28mrange\u001b[39m(config\u001b[38;5;241m.\u001b[39mEPOCHS):\n\u001b[1;32m---> 47\u001b[0m     train_loss, train_correct \u001b[38;5;241m=\u001b[39m \u001b[43mtrain_epochs\u001b[49m\u001b[43m(\u001b[49m\u001b[43mtrain_loader\u001b[49m\u001b[43m,\u001b[49m\u001b[43m \u001b[49m\u001b[43mmodel\u001b[49m\u001b[43m,\u001b[49m\u001b[43m \u001b[49m\u001b[43mloss_fn\u001b[49m\u001b[43m,\u001b[49m\u001b[43m \u001b[49m\u001b[43moptimizer\u001b[49m\u001b[43m)\u001b[49m\n\u001b[0;32m     48\u001b[0m     val_loss, val_correct \u001b[38;5;241m=\u001b[39m val_epochs(val_loader, model, loss_fn)  \n\u001b[0;32m     50\u001b[0m     train_loss \u001b[38;5;241m=\u001b[39m train_loss\u001b[38;5;241m/\u001b[39m\u001b[38;5;28mlen\u001b[39m(train_loader\u001b[38;5;241m.\u001b[39msampler)\n",
      "Cell \u001b[1;32mIn[115], line 13\u001b[0m, in \u001b[0;36mtrain_epochs\u001b[1;34m(dataloader, model, loss_fn, optimizer)\u001b[0m\n\u001b[0;32m     11\u001b[0m output \u001b[38;5;241m=\u001b[39m model(review)\n\u001b[0;32m     12\u001b[0m output \u001b[38;5;241m=\u001b[39m output\u001b[38;5;241m.\u001b[39mreshape(\u001b[38;5;241m-\u001b[39m\u001b[38;5;241m1\u001b[39m)\n\u001b[1;32m---> 13\u001b[0m loss \u001b[38;5;241m=\u001b[39m \u001b[43mloss_fn\u001b[49m\u001b[43m(\u001b[49m\u001b[43moutput\u001b[49m\u001b[43m,\u001b[49m\u001b[43m \u001b[49m\u001b[43mlabel\u001b[49m\u001b[43m)\u001b[49m\n\u001b[0;32m     14\u001b[0m loss\u001b[38;5;241m.\u001b[39mbackward()\n\u001b[0;32m     15\u001b[0m optimizer\u001b[38;5;241m.\u001b[39mstep()\n",
      "File \u001b[1;32mc:\\Users\\hp\\anaconda3\\envs\\py310\\lib\\site-packages\\torch\\nn\\modules\\module.py:1553\u001b[0m, in \u001b[0;36mModule._wrapped_call_impl\u001b[1;34m(self, *args, **kwargs)\u001b[0m\n\u001b[0;32m   1551\u001b[0m     \u001b[38;5;28;01mreturn\u001b[39;00m \u001b[38;5;28mself\u001b[39m\u001b[38;5;241m.\u001b[39m_compiled_call_impl(\u001b[38;5;241m*\u001b[39margs, \u001b[38;5;241m*\u001b[39m\u001b[38;5;241m*\u001b[39mkwargs)  \u001b[38;5;66;03m# type: ignore[misc]\u001b[39;00m\n\u001b[0;32m   1552\u001b[0m \u001b[38;5;28;01melse\u001b[39;00m:\n\u001b[1;32m-> 1553\u001b[0m     \u001b[38;5;28;01mreturn\u001b[39;00m \u001b[38;5;28mself\u001b[39m\u001b[38;5;241m.\u001b[39m_call_impl(\u001b[38;5;241m*\u001b[39margs, \u001b[38;5;241m*\u001b[39m\u001b[38;5;241m*\u001b[39mkwargs)\n",
      "File \u001b[1;32mc:\\Users\\hp\\anaconda3\\envs\\py310\\lib\\site-packages\\torch\\nn\\modules\\module.py:1562\u001b[0m, in \u001b[0;36mModule._call_impl\u001b[1;34m(self, *args, **kwargs)\u001b[0m\n\u001b[0;32m   1557\u001b[0m \u001b[38;5;66;03m# If we don't have any hooks, we want to skip the rest of the logic in\u001b[39;00m\n\u001b[0;32m   1558\u001b[0m \u001b[38;5;66;03m# this function, and just call forward.\u001b[39;00m\n\u001b[0;32m   1559\u001b[0m \u001b[38;5;28;01mif\u001b[39;00m \u001b[38;5;129;01mnot\u001b[39;00m (\u001b[38;5;28mself\u001b[39m\u001b[38;5;241m.\u001b[39m_backward_hooks \u001b[38;5;129;01mor\u001b[39;00m \u001b[38;5;28mself\u001b[39m\u001b[38;5;241m.\u001b[39m_backward_pre_hooks \u001b[38;5;129;01mor\u001b[39;00m \u001b[38;5;28mself\u001b[39m\u001b[38;5;241m.\u001b[39m_forward_hooks \u001b[38;5;129;01mor\u001b[39;00m \u001b[38;5;28mself\u001b[39m\u001b[38;5;241m.\u001b[39m_forward_pre_hooks\n\u001b[0;32m   1560\u001b[0m         \u001b[38;5;129;01mor\u001b[39;00m _global_backward_pre_hooks \u001b[38;5;129;01mor\u001b[39;00m _global_backward_hooks\n\u001b[0;32m   1561\u001b[0m         \u001b[38;5;129;01mor\u001b[39;00m _global_forward_hooks \u001b[38;5;129;01mor\u001b[39;00m _global_forward_pre_hooks):\n\u001b[1;32m-> 1562\u001b[0m     \u001b[38;5;28;01mreturn\u001b[39;00m forward_call(\u001b[38;5;241m*\u001b[39margs, \u001b[38;5;241m*\u001b[39m\u001b[38;5;241m*\u001b[39mkwargs)\n\u001b[0;32m   1564\u001b[0m \u001b[38;5;28;01mtry\u001b[39;00m:\n\u001b[0;32m   1565\u001b[0m     result \u001b[38;5;241m=\u001b[39m \u001b[38;5;28;01mNone\u001b[39;00m\n",
      "File \u001b[1;32mc:\\Users\\hp\\anaconda3\\envs\\py310\\lib\\site-packages\\torch\\nn\\modules\\loss.py:621\u001b[0m, in \u001b[0;36mBCELoss.forward\u001b[1;34m(self, input, target)\u001b[0m\n\u001b[0;32m    620\u001b[0m \u001b[38;5;28;01mdef\u001b[39;00m \u001b[38;5;21mforward\u001b[39m(\u001b[38;5;28mself\u001b[39m, \u001b[38;5;28minput\u001b[39m: Tensor, target: Tensor) \u001b[38;5;241m-\u001b[39m\u001b[38;5;241m>\u001b[39m Tensor:\n\u001b[1;32m--> 621\u001b[0m     \u001b[38;5;28;01mreturn\u001b[39;00m \u001b[43mF\u001b[49m\u001b[38;5;241;43m.\u001b[39;49m\u001b[43mbinary_cross_entropy\u001b[49m\u001b[43m(\u001b[49m\u001b[38;5;28;43minput\u001b[39;49m\u001b[43m,\u001b[49m\u001b[43m \u001b[49m\u001b[43mtarget\u001b[49m\u001b[43m,\u001b[49m\u001b[43m \u001b[49m\u001b[43mweight\u001b[49m\u001b[38;5;241;43m=\u001b[39;49m\u001b[38;5;28;43mself\u001b[39;49m\u001b[38;5;241;43m.\u001b[39;49m\u001b[43mweight\u001b[49m\u001b[43m,\u001b[49m\u001b[43m \u001b[49m\u001b[43mreduction\u001b[49m\u001b[38;5;241;43m=\u001b[39;49m\u001b[38;5;28;43mself\u001b[39;49m\u001b[38;5;241;43m.\u001b[39;49m\u001b[43mreduction\u001b[49m\u001b[43m)\u001b[49m\n",
      "File \u001b[1;32mc:\\Users\\hp\\anaconda3\\envs\\py310\\lib\\site-packages\\torch\\nn\\functional.py:3172\u001b[0m, in \u001b[0;36mbinary_cross_entropy\u001b[1;34m(input, target, weight, size_average, reduce, reduction)\u001b[0m\n\u001b[0;32m   3169\u001b[0m     new_size \u001b[38;5;241m=\u001b[39m _infer_size(target\u001b[38;5;241m.\u001b[39msize(), weight\u001b[38;5;241m.\u001b[39msize())\n\u001b[0;32m   3170\u001b[0m     weight \u001b[38;5;241m=\u001b[39m weight\u001b[38;5;241m.\u001b[39mexpand(new_size)\n\u001b[1;32m-> 3172\u001b[0m \u001b[38;5;28;01mreturn\u001b[39;00m \u001b[43mtorch\u001b[49m\u001b[38;5;241;43m.\u001b[39;49m\u001b[43m_C\u001b[49m\u001b[38;5;241;43m.\u001b[39;49m\u001b[43m_nn\u001b[49m\u001b[38;5;241;43m.\u001b[39;49m\u001b[43mbinary_cross_entropy\u001b[49m\u001b[43m(\u001b[49m\u001b[38;5;28;43minput\u001b[39;49m\u001b[43m,\u001b[49m\u001b[43m \u001b[49m\u001b[43mtarget\u001b[49m\u001b[43m,\u001b[49m\u001b[43m \u001b[49m\u001b[43mweight\u001b[49m\u001b[43m,\u001b[49m\u001b[43m \u001b[49m\u001b[43mreduction_enum\u001b[49m\u001b[43m)\u001b[49m\n",
      "\u001b[1;31mRuntimeError\u001b[0m: all elements of target should be between 0 and 1"
     ]
    }
   ],
   "source": [
    "from sklearn.model_selection import StratifiedKFold#type: ignore\n",
    "from sklearn.model_selection import KFold#type: ignore\n",
    "from torch.utils.data import SubsetRandomSampler  #type: ignore\n",
    "from torch.optim import Adam #type: ignore\n",
    "from tqdm import tqdm#type: ignore\n",
    "from torch.utils.data import DataLoader  #type: ignore\n",
    "import matplotlib.pyplot as plt #type: ignore\n",
    "\n",
    "\n",
    "# sfk = StratifiedKFold(n_splits = config.FOLDS)\n",
    "kfold = KFold(n_splits = config.FOLDS)\n",
    "model_state_dicts = {}\n",
    " \n",
    "for fold, (train_idx, val_idx) in enumerate(kfold.split(np.arange(len(dataset)))):\n",
    "    \n",
    "    train_sampler = SubsetRandomSampler(train_idx)\n",
    "    val_sampler = SubsetRandomSampler(val_idx)\n",
    "    \n",
    "    train_loader = DataLoader(dataset, batch_size = config.BATCH_SIZE, sampler = train_sampler, collate_fn = MyCollate(0, config.MAX_LEN))\n",
    "    val_loader = DataLoader(dataset, batch_size = config.BATCH_SIZE, sampler = val_sampler, collate_fn = MyCollate(0, config.MAX_LEN))  \n",
    "    \n",
    "    VOCAB_SIZE = len(dataset.source_vocab)\n",
    "    HIDDEN_DIM = 128\n",
    "    OUTPUT_DIM = 1\n",
    "    VOCAB = list(dataset.source_vocab.stoi)\n",
    "\n",
    "    embedding_layer = get_emb_layer_with_weights(target_vocab = VOCAB, emb_model = fasttext_model, trainable = False) #type: ignore\n",
    "\n",
    "    model = Model(VOCAB_SIZE, config.EMB_DIM, HIDDEN_DIM, OUTPUT_DIM, embedding_layer)\n",
    "    model = model.to(config.DEVICE)\n",
    "    \n",
    "#     model\n",
    "#     model = Model(2, len(dataset.source_vocab), 128, 100, 1 ).to(config.DEVICE)\n",
    "#     hidden = model.init_hidden(config.BATCH_SIZE)\n",
    "#     model.hidden = hidden\n",
    "\n",
    "    loss_fn = nn.BCELoss()\n",
    "    optimizer = torch.optim.SGD(model.parameters(), lr = 0.1)\n",
    "    \n",
    "    train_losses = []\n",
    "    val_losses = []\n",
    "    train_accs = []\n",
    "    val_accs = []\n",
    "\n",
    "    print(f\"-----------------------------------------------------------{fold}-fold of the model-----------------------------------------------------------\")\n",
    "    for epoch in range(config.EPOCHS):\n",
    "        train_loss, train_correct = train_epochs(train_loader, model, loss_fn, optimizer)\n",
    "        val_loss, val_correct = val_epochs(val_loader, model, loss_fn)  \n",
    "        \n",
    "        train_loss = train_loss/len(train_loader.sampler)\n",
    "        val_loss = val_loss/len(val_loader.sampler)\n",
    "        train_acc = (train_correct/len(train_loader.sampler))*100\n",
    "        val_acc = (val_correct/len(val_loader.sampler))*100\n",
    "        \n",
    "        train_losses.append(train_loss)\n",
    "        val_losses.append(val_loss)\n",
    "        train_accs.append(train_acc.cpu().numpy().tolist())\n",
    "        val_accs.append(val_acc.cpu().numpy().tolist())\n",
    "        \n",
    "        print(f\"| Train Loss : {train_loss} |\", end = \" \")\n",
    "        print(f\" Val Loss : {val_loss} |\", end = \" \")\n",
    "        print(f\"Train Acc : {train_acc} |\", end = \" \")\n",
    "        print(f\"Val Acc : {val_acc} |\")\n",
    "\n",
    "        \n",
    "    # Saving the state dicts for the model\n",
    "    model_state_dicts.update({f\"LSTM-Model-for-{fold}\" : model.state_dict(),\n",
    "                             f\"Model-Optimizer-for-{fold}\" : optimizer.state_dict()})"
   ]
  },
  {
   "cell_type": "code",
   "execution_count": 118,
   "id": "fb628857",
   "metadata": {},
   "outputs": [],
   "source": [
    "torch.save(model_state_dicts, \"My-Model.pt\")"
   ]
  },
  {
   "cell_type": "code",
   "execution_count": 119,
   "id": "1b56acb6",
   "metadata": {},
   "outputs": [
    {
     "data": {
      "text/plain": [
       "<tf.Tensor: shape=(), dtype=int32, numpy=23>"
      ]
     },
     "execution_count": 119,
     "metadata": {},
     "output_type": "execute_result"
    }
   ],
   "source": [
    "tf.constant(23)"
   ]
  },
  {
   "cell_type": "code",
   "execution_count": 120,
   "id": "da72e95b",
   "metadata": {},
   "outputs": [],
   "source": [
    "def numericalize(text):\n",
    "    numerialized_source = [] \n",
    "    numerialized_source = [dataset.source_vocab.stoi[\"<SOS>\"]]\n",
    "    numerialized_source += dataset.source_vocab.numericalize(text)\n",
    "    numerialized_source.append(dataset.source_vocab.stoi[\"<EOS>\"])\n",
    "    return numerialized_source\n",
    "def padding(source):\n",
    "    padded_sequence = torch.zeros(config.MAX_LEN, 1, dtype = torch.int)\n",
    "    source = torch.tensor(source)\n",
    "    if len(source) > config.MAX_LEN:\n",
    "        padded_sequence[:, 0] = source[: config.MAX_LEN]\n",
    "    else:\n",
    "        padded_sequence[:len(source), 0] = padded_sequence[:len(source), 0] + source\n",
    "    return padded_sequence"
   ]
  },
  {
   "cell_type": "code",
   "execution_count": 121,
   "id": "53349bd8",
   "metadata": {},
   "outputs": [
    {
     "name": "stdout",
     "output_type": "stream",
     "text": [
      "The reviewer is talking Negatively about the service of the trip in his/her comment\n"
     ]
    }
   ],
   "source": [
    "t0 = \"Hotel services were good\"    #,service,Very Good\n",
    "t1 = \"I became ill, so I was admitted in a hospital for 3 days.\"    #Bad,hospitality\n",
    "t2 = \"The relaxed ambience of Thrissur was popular with temples.\"   #Good,ambience\n",
    "t3 = \"The food given in the restaurant was delicious. I found it enjoyable!\" #Excellent,food\n",
    "\n",
    "\n",
    "\n",
    "sample = \"beautiful\"\n",
    "sample2= \"The historical prestige and the hotel ambience was good and the service was on point. Good trip!\"\n",
    "destination = aspect\n",
    "\n",
    "    \n",
    "def best_aspect(text, aspects):\n",
    "    a = []\n",
    "    \n",
    "    for aspect in aspects:\n",
    "        a.append(get_similarity(text, aspect))\n",
    "    \n",
    "    return aspects[np.argmax(a)]\n",
    "def infer_processing(text):\n",
    "    \n",
    "    text = preprocessing(text)\n",
    "    text = numericalize(text)\n",
    "    text = padding(text)\n",
    "    return text\n",
    "ba0 = best_aspect(preprocessing(t0), destination)\n",
    "\n",
    "a0 = infer_processing(t0).to(config.DEVICE)\n",
    "\n",
    "model.eval()\n",
    "sentiment = model(a0)\n",
    "sentiment = sentiment.cpu().detach().numpy()[0]\n",
    "\n",
    "if sentiment > 0.5:\n",
    "    sentiment = 'Positively'\n",
    "else :\n",
    "    sentiment = 'Negatively'\n",
    "\n",
    "print(f\"The reviewer is talking {sentiment} about the {ba0} of the trip in his/her comment\")"
   ]
  },
  {
   "cell_type": "code",
   "execution_count": 122,
   "id": "861ab9ad",
   "metadata": {},
   "outputs": [
    {
     "name": "stdout",
     "output_type": "stream",
     "text": [
      "The reviewer is talking Negatively about the hospitality of the trip in his/her comment\n"
     ]
    }
   ],
   "source": [
    "ba1 = best_aspect(preprocessing(t1), destination)\n",
    "\n",
    "a1 = infer_processing(t1).to(config.DEVICE)\n",
    "\n",
    "model.eval()\n",
    "sentiment = model(a1)\n",
    "sentiment = sentiment.cpu().detach().numpy()[0]\n",
    "\n",
    "if sentiment > 0.5:\n",
    "    sentiment = 'Positively'\n",
    "else :\n",
    "    sentiment = 'Negatively'\n",
    "\n",
    "print(f\"The reviewer is talking {sentiment} about the {ba1} of the trip in his/her comment\")"
   ]
  },
  {
   "cell_type": "code",
   "execution_count": 123,
   "id": "4801eba9",
   "metadata": {},
   "outputs": [
    {
     "name": "stdout",
     "output_type": "stream",
     "text": [
      "The reviewer is talking Negatively about the ambience of the trip in his/her comment\n"
     ]
    }
   ],
   "source": [
    "ba2 = best_aspect(preprocessing(t2), destination)\n",
    "a2 = infer_processing(t2).to(config.DEVICE)\n",
    "model.eval()\n",
    "sentiment = model(a2)\n",
    "sentiment = sentiment.cpu().detach().numpy()[0]\n",
    "if sentiment > 0.5:\n",
    "    sentiment = 'Positively'\n",
    "else :\n",
    "    sentiment = 'Negatively'\n",
    "print(f\"The reviewer is talking {sentiment} about the {ba2} of the trip in his/her comment\")"
   ]
  },
  {
   "cell_type": "code",
   "execution_count": 124,
   "id": "19f37e24",
   "metadata": {},
   "outputs": [
    {
     "name": "stdout",
     "output_type": "stream",
     "text": [
      "The reviewer is talking Negatively about the service of the trip in his/her comment\n"
     ]
    }
   ],
   "source": [
    "ba3 = best_aspect(preprocessing(t3), destination)\n",
    "a3 = infer_processing(t3).to(config.DEVICE)\n",
    "model.eval()\n",
    "sentiment = model(a3)\n",
    "sentiment = sentiment.cpu().detach().numpy()[0]\n",
    "if sentiment > 0.5:\n",
    "    sentiment = 'Positively'\n",
    "else :\n",
    "    sentiment = 'Negatively'\n",
    "print(f\"The reviewer is talking {sentiment} about the {ba0} of the trip in his/her comment\")"
   ]
  },
  {
   "cell_type": "code",
   "execution_count": null,
   "id": "dcd7298c",
   "metadata": {},
   "outputs": [],
   "source": []
  }
 ],
 "metadata": {
  "kernelspec": {
   "display_name": "Python 3",
   "language": "python",
   "name": "python3"
  },
  "language_info": {
   "codemirror_mode": {
    "name": "ipython",
    "version": 3
   },
   "file_extension": ".py",
   "mimetype": "text/x-python",
   "name": "python",
   "nbconvert_exporter": "python",
   "pygments_lexer": "ipython3",
   "version": "3.10.10"
  }
 },
 "nbformat": 4,
 "nbformat_minor": 5
}
